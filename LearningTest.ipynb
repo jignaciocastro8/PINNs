{
 "cells": [
  {
   "cell_type": "code",
   "execution_count": 5,
   "metadata": {},
   "outputs": [],
   "source": [
    "import numpy as np\n",
    "import tensorflow as tf\n",
    "import matplotlib.pyplot as plt\n",
    "from tqdm import tqdm"
   ]
  },
  {
   "cell_type": "code",
   "execution_count": 52,
   "metadata": {},
   "outputs": [],
   "source": [
    "class Model(tf.Module):\n",
    "    # Heat equation PINN-solver. \n",
    "    def __init__(self, layers_size):\n",
    "\n",
    "        self.input_dim = layers_size[0]\n",
    "        self.layers = layers_size\n",
    "        # List of tf.Tensor objects\n",
    "        self.W = []\n",
    "\n",
    "        # Initializer\n",
    "        init = tf.initializers.GlorotUniform(seed=333)\n",
    "\n",
    "        for i in range(len(layers_size) - 1):\n",
    "            input_dim = layers_size[i]\n",
    "            output_dim = layers_size[i + 1]\n",
    "\n",
    "            w = tf.Variable(init([output_dim, input_dim], dtype='float64'), trainable=True, name=f'w{i+1}')\n",
    "            b = tf.zeros([output_dim, 1], dtype='float64')\n",
    "            b = tf.Variable(b, trainable=True, name=f'b{i+1}')\n",
    "\n",
    "            self.W.append(w)\n",
    "            self.W.append(b)\n",
    "\n",
    "        # Learning rate\n",
    "        self.learning_rate = 0.01\n",
    "    \n",
    "    \n",
    "\n",
    "    def evaluate(self, x):\n",
    "        \"\"\"Evaluates the NN at x.\n",
    "\n",
    "        Args:\n",
    "            x : Shape must match the NN input shape.\n",
    "\n",
    "        Returns:\n",
    "            tf.Tensor: u_theta(x)\n",
    "        \"\"\"\n",
    "        a = x\n",
    "        for i in range(len(self.layers) - 2):\n",
    "            z = tf.add(tf.matmul(self.W[2*i], a), self.W[2*i + 1])\n",
    "            a = tf.nn.tanh(z)\n",
    "\n",
    "        a = tf.add(tf.matmul(self.W[-2], a), self.W[-1])\n",
    "        return a\n",
    "    \n",
    "    def function_to_learn(self, data):\n",
    "        \"\"\"Function to lear.\n",
    "\n",
    "        Args:\n",
    "            data: single data point.\n",
    "\n",
    "        Returns:\n",
    "            float.\n",
    "        \"\"\"\n",
    "        return np.sin(data[0][0])\n",
    "   \n",
    "    ##################### LOSS METHODS ###########################\n",
    "\n",
    "    def loss(self, data):\n",
    "        return tf.square(tf.subtract(self.evaluate(data), self.function_to_learn(data)))\n",
    "\n",
    "    ##################### TRAINING METHODS ###########################\n",
    "\n",
    "\n",
    "    def apply_gradients(self, gradients_list: list):\n",
    "        \"\"\"Updates the parameters according to SGD iteration.\n",
    "\n",
    "        Args:\n",
    "            gradients_list (list): list of tf.Tensor\n",
    "        \"\"\"\n",
    "        for g, p in zip(gradients_list, self.W):\n",
    "            p.assign_sub(self.learning_rate * g)\n",
    "    \n",
    "    \n",
    "    def train(self, num_iter, num_data):\n",
    "        #opt = tf.keras.optimizers.Adam(learning_rate=5e-4)\n",
    "\n",
    "        data_set = [[[x]] for x in np.random.uniform(0,6,num_data)]\n",
    "        l = []\n",
    "        for _ in tqdm(range(num_iter)):\n",
    "            j = np.random.randint(num_data)\n",
    "            with tf.GradientTape() as tape:\n",
    "                tape.watch(self.W)\n",
    "                target = self.loss(data_set[j])\n",
    "            grads = tape.gradient(target, self.W)\n",
    "            self.apply_gradients(grads)\n",
    "            l.append(target)\n",
    "        return l\n",
    "\n",
    "            "
   ]
  },
  {
   "cell_type": "code",
   "execution_count": 58,
   "metadata": {},
   "outputs": [
    {
     "name": "stderr",
     "output_type": "stream",
     "text": [
      "  0%|          | 0/5000 [00:00<?, ?it/s]"
     ]
    },
    {
     "name": "stderr",
     "output_type": "stream",
     "text": [
      "100%|██████████| 5000/5000 [00:32<00:00, 154.50it/s]\n"
     ]
    },
    {
     "data": {
      "image/png": "[encoded data removed]",
      "text/plain": [
       "<Figure size 432x288 with 1 Axes>"
      ]
     },
     "metadata": {
      "needs_background": "light"
     },
     "output_type": "display_data"
    }
   ],
   "source": [
    "model = Model([1,80,80,80,80,80,80,80,1])\n",
    "loss = model.train(5000, 500)\n",
    "#\n",
    "values = list(map(lambda v: v[0].numpy(), loss))\n",
    "plt.plot(values)\n",
    "plt.grid()"
   ]
  },
  {
   "cell_type": "code",
   "execution_count": 59,
   "metadata": {},
   "outputs": [
    {
     "data": {
      "text/plain": [
       "[<matplotlib.lines.Line2D at 0x26456b81610>]"
      ]
     },
     "execution_count": 59,
     "metadata": {},
     "output_type": "execute_result"
    },
    {
     "data": {
      "image/png": "[encoded data removed]",
      "text/plain": [
       "<Figure size 432x288 with 1 Axes>"
      ]
     },
     "metadata": {
      "needs_background": "light"
     },
     "output_type": "display_data"
    }
   ],
   "source": [
    "x = np.linspace(0,6,100)\n",
    "y = [model.evaluate([[v]])[0][0].numpy() for v in x]\n",
    "plt.plot(x,y)\n",
    "x = np.linspace(0,6,50)\n",
    "z = [np.sin(v) for v in x]\n",
    "plt.plot(x,z,'o')\n"
   ]
  },
  {
   "cell_type": "code",
   "execution_count": null,
   "metadata": {},
   "outputs": [],
   "source": []
  }
 ],
 "metadata": {
  "kernelspec": {
   "display_name": "Python 3",
   "language": "python",
   "name": "python3"
  },
  "language_info": {
   "codemirror_mode": {
    "name": "ipython",
    "version": 3
   },
   "file_extension": ".py",
   "mimetype": "text/x-python",
   "name": "python",
   "nbconvert_exporter": "python",
   "pygments_lexer": "ipython3",
   "version": "3.8.0"
  }
 },
 "nbformat": 4,
 "nbformat_minor": 2
}
