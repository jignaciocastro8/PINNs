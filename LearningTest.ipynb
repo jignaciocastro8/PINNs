{
 "cells": [
  {
   "cell_type": "code",
   "execution_count": null,
   "metadata": {},
   "outputs": [],
   "source": [
    "import numpy as np\n",
    "import tensorflow as tf\n",
    "import matplotlib.pyplot as plt\n",
    "from tqdm import tqdm\n",
    "np.random.seed(2727)"
   ]
  },
  {
   "cell_type": "code",
   "execution_count": 30,
   "metadata": {},
   "outputs": [],
   "source": [
    "class Model(tf.Module):\n",
    "    # Heat equation PINN-solver. \n",
    "    def __init__(self, layers_size):\n",
    "\n",
    "        self.input_dim = layers_size[0]\n",
    "        self.layers = layers_size\n",
    "        # List of tf.Tensor objects\n",
    "        self.W = []\n",
    "\n",
    "        # Initializer\n",
    "        init = tf.initializers.GlorotUniform(seed=333)\n",
    "\n",
    "        for i in range(len(layers_size) - 1):\n",
    "            input_dim = layers_size[i]\n",
    "            output_dim = layers_size[i + 1]\n",
    "\n",
    "            w = tf.Variable(init([output_dim, input_dim], dtype='float64'), trainable=True, name=f'w{i+1}')\n",
    "            b = tf.zeros([output_dim, 1], dtype='float64')\n",
    "            b = tf.Variable(b, trainable=True, name=f'b{i+1}')\n",
    "\n",
    "            self.W.append(w)\n",
    "            self.W.append(b)\n",
    "\n",
    "        # Learning rate\n",
    "        self.learning_rate = 0.01\n",
    "    \n",
    "    \n",
    "\n",
    "    def evaluate(self, x):\n",
    "        \"\"\"Evaluates the NN at x.\n",
    "\n",
    "        Args:\n",
    "            x : Shape must match the NN input shape.\n",
    "\n",
    "        Returns:\n",
    "            tf.Tensor: u_theta(x)\n",
    "        \"\"\"\n",
    "        a = x\n",
    "        for i in range(len(self.layers) - 2):\n",
    "            z = tf.add(tf.matmul(self.W[2*i], a), self.W[2*i + 1])\n",
    "            a = tf.nn.tanh(z)\n",
    "\n",
    "        a = tf.add(tf.matmul(self.W[-2], a), self.W[-1])\n",
    "        return a\n",
    "    \n",
    "    def function_to_learn(self, data):\n",
    "        \"\"\"Function to lear.\n",
    "\n",
    "        Args:\n",
    "            data: single data point.\n",
    "\n",
    "        Returns:\n",
    "            float.\n",
    "        \"\"\"\n",
    "        return np.sin(data[0][0])\n",
    "   \n",
    "    ##################### LOSS METHODS ###########################\n",
    "\n",
    "    def loss(self, data):\n",
    "        return tf.subtract(self.evaluate(data), self.function_to_learn(data))\n",
    "\n",
    "    def boundary_loss(self, boundary_data):\n",
    "        \"\"\"Testing for the learning of boundary confitions.\n",
    "\n",
    "        Args:\n",
    "            boundary_data: shape=(1,1)\n",
    "        \"\"\"\n",
    "        return self.evaluate(boundary_data)\n",
    "    \n",
    "    def total_loss(self, data, boundary_data):\n",
    "        \"\"\"Computes the square of the sum of the losses.\n",
    "\n",
    "        Args:\n",
    "            data: shape=(1,1)\n",
    "            boundary_data: shape=(1,1)\n",
    "\n",
    "        Returns:\n",
    "            shape=(,)\n",
    "        \"\"\"\n",
    "        return tf.square(self.loss(data) + self.boundary_loss(boundary_data))\n",
    "\n",
    "    ##################### TRAINING METHODS ###########################\n",
    "\n",
    "\n",
    "    def apply_gradients(self, gradients_list: list):\n",
    "        \"\"\"Updates the parameters according to SGD iteration.\n",
    "\n",
    "        Args:\n",
    "            gradients_list (list): list of tf.Tensor\n",
    "        \"\"\"\n",
    "        for g, p in zip(gradients_list, self.W):\n",
    "            p.assign_sub(self.learning_rate * g)\n",
    "    \n",
    "    \n",
    "    def train(self, num_iter, num_data):\n",
    "        data_set = [[[x]] for x in np.random.uniform(0,2*np.pi,num_data)]\n",
    "        boundary_data = [[[x]] for x in np.random.choice([0, 2*np.pi],num_data)]\n",
    "        l = []\n",
    "        for _ in tqdm(range(num_iter)):\n",
    "            j = np.random.randint(num_data)\n",
    "            with tf.GradientTape() as tape:\n",
    "                tape.watch(self.W)\n",
    "                target = self.total_loss(data_set[j], boundary_data[j])\n",
    "            grads = tape.gradient(target, self.W)\n",
    "            self.apply_gradients(grads)\n",
    "            l.append(target)\n",
    "        return l\n",
    "\n",
    "            "
   ]
  },
  {
   "cell_type": "code",
   "execution_count": 31,
   "metadata": {},
   "outputs": [
    {
     "name": "stderr",
     "output_type": "stream",
     "text": [
      "100%|██████████| 10000/10000 [00:38<00:00, 260.86it/s]\n"
     ]
    },
    {
     "data": {
      "image/png": "[encoded data removed]",
      "text/plain": [
       "<Figure size 432x288 with 1 Axes>"
      ]
     },
     "metadata": {
      "needs_background": "light"
     },
     "output_type": "display_data"
    }
   ],
   "source": [
    "d = 20\n",
    "model = Model([1,d,d,1])\n",
    "loss = model.train(10000, 100)\n",
    "#\n",
    "values = list(map(lambda v: v[0].numpy(), loss))\n",
    "plt.plot(values)\n",
    "plt.grid()\n",
    "plt.yscale(\"log\")"
   ]
  },
  {
   "cell_type": "code",
   "execution_count": 36,
   "metadata": {},
   "outputs": [
    {
     "data": {
      "text/plain": [
       "[<matplotlib.lines.Line2D at 0x1d203dcbf70>]"
      ]
     },
     "execution_count": 36,
     "metadata": {},
     "output_type": "execute_result"
    },
    {
     "data": {
      "image/png": "[encoded data removed]",
      "text/plain": [
       "<Figure size 432x288 with 1 Axes>"
      ]
     },
     "metadata": {
      "needs_background": "light"
     },
     "output_type": "display_data"
    }
   ],
   "source": [
    "x = np.linspace(0,2*np.pi,100)\n",
    "y = [model.evaluate([[v]])[0][0].numpy() for v in x]\n",
    "plt.plot(x,y)\n",
    "x = np.linspace(0,2*np.pi,50)\n",
    "z = [np.sin(v) for v in x]\n",
    "plt.plot(x,z,'o')\n"
   ]
  },
  {
   "cell_type": "code",
   "execution_count": null,
   "metadata": {},
   "outputs": [],
   "source": []
  }
 ],
 "metadata": {
  "kernelspec": {
   "display_name": "Python 3",
   "language": "python",
   "name": "python3"
  },
  "language_info": {
   "codemirror_mode": {
    "name": "ipython",
    "version": 3
   },
   "file_extension": ".py",
   "mimetype": "text/x-python",
   "name": "python",
   "nbconvert_exporter": "python",
   "pygments_lexer": "ipython3",
   "version": "3.8.0"
  }
 },
 "nbformat": 4,
 "nbformat_minor": 2
}
