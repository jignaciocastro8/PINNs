{
 "cells": [
  {
   "cell_type": "code",
   "execution_count": 41,
   "metadata": {},
   "outputs": [],
   "source": [
    "import matplotlib.pyplot as plt\n",
    "import numpy as np\n",
    "import tensorflow as tf\n",
    "import keras\n",
    "from tqdm import tqdm\n",
    "from sinPINN import Model"
   ]
  },
  {
   "cell_type": "code",
   "execution_count": 80,
   "metadata": {},
   "outputs": [],
   "source": [
    "class Model(tf.Module):\n",
    "    # One hidden layer model: 2w + 2b\n",
    "    def __init__(self, layers):\n",
    "\n",
    "        self.layers = layers\n",
    "        # List of tf.Tensor objects\n",
    "        self.W = []\n",
    "\n",
    "        for i in range(len(layers) - 1):\n",
    "            input_dim = layers[i]\n",
    "            output_dim = layers[i + 1]\n",
    "\n",
    "            w = tf.random.normal([output_dim, input_dim], 0, 1, dtype='float64')\n",
    "            w = tf.Variable(w, trainable=True, name=f'w{i+1}')\n",
    "\n",
    "            b = tf.zeros([output_dim, 1], dtype='float64')\n",
    "            b = tf.Variable(b, trainable=True, name=f'b{i+1}')\n",
    "\n",
    "            self.W.append(w)\n",
    "            self.W.append(b)\n",
    "\n",
    "        # Learning rate\n",
    "        self.rate = 0.001\n",
    "    \n",
    "    def evaluate(self, x):\n",
    "        # Computes u(x; theta)\n",
    "        a = x\n",
    "        for i in range(len(self.layers) - 2):\n",
    "            z = tf.add(tf.matmul(self.W[2*i], a), self.W[2*i + 1])\n",
    "            a = tf.nn.tanh(z)\n",
    "\n",
    "        a = tf.add(tf.matmul(self.W[-2], a), self.W[-1])\n",
    "        return a\n",
    "     \n",
    "    def rhs(self, x):\n",
    "        # Right hand side of the PDE.\n",
    "        # x: tf.Tensor\n",
    "        return tf.math.cos(x)\n",
    "\n",
    "    def get_weights(self):\n",
    "        return self.W\n",
    "    \n",
    "    def set_weights(self, new_weights):\n",
    "        # Setter for the parameters.\n",
    "        # Shapes must coincide.\n",
    "        for i in range(len(new_weights)):\n",
    "            self.W[i].assign(new_weights[i])\n",
    "        self.get_weights() \n",
    "\n",
    "    def reset_weights(self):\n",
    "        return None\n",
    "\n",
    "    ##################### LOSS FUNCTIONS ###########################\n",
    "\n",
    "    def physics_loss(self, data_set):\n",
    "        # MSE given by the PDE over data_set.\n",
    "        # Note that, given the form of the NN, when the derivative w.r.t\n",
    "        # x is taken, dependence on b_2 is lost. \n",
    "        \n",
    "        # returns tf.Tensor shape=()\n",
    "\n",
    "        l = []\n",
    "\n",
    "        for x in data_set:\n",
    "            x = tf.reshape(tf.Variable(x, trainable=False), (1,1))\n",
    "            with tf.GradientTape() as tape:\n",
    "                tape.watch(x)\n",
    "                y = self.evaluate(x)\n",
    "            u_x = tape.gradient(y, x)\n",
    "            l.append(tf.subtract(u_x, self.rhs(x)))\n",
    "            del tape\n",
    "        loss = tf.math.reduce_mean(tf.math.multiply(l, l))\n",
    "        return loss\n",
    "\n",
    "    def boundary_condition(self):\n",
    "        # PDE boundary condition.\n",
    "        # output shape : () same as physical_loss()\n",
    "        zero = tf.constant([[0]], dtype='float64')\n",
    "        two_pi = tf.constant([[2 * np.pi]], dtype='float64')\n",
    "        a = tf.add(self.evaluate(zero)**2, self.evaluate(two_pi)**2)\n",
    "        return tf.reshape(a, ())\n",
    "\n",
    "    def total_loss(self, data_set):\n",
    "        # Loss computed from the PDE + loss from training data.\n",
    "        # returns tf.Tensor shape=()\n",
    "\n",
    "        return self.physics_loss(data_set) + self.boundary_condition()\n",
    "\n",
    "    ##################### TRAINING FUNCTIONS ###########################\n",
    "\n",
    "\n",
    "    def new_weight(self, old_W, gradients):\n",
    "        # old_W: list of tensors\n",
    "        # gradients: list of tensors\n",
    "        # Computes: theta_{k+1} = t_k - \\eta\\grad L(\\theta_k)\n",
    "        new_W = []\n",
    "        for w, grad in zip(old_W, gradients):\n",
    "            aux = w - self.rate * grad\n",
    "            new_W.append(aux)\n",
    "        return new_W\n",
    "\n",
    "    def gradients(self, data_set):\n",
    "        # Performs one iteration of GD.\n",
    "        # Since self.trainable_variables is constantly being updated,\n",
    "        # the gradient is evaluated at different values of weights.\n",
    "        with tf.GradientTape() as tape:\n",
    "            tape.watch(self.trainable_variables)\n",
    "            target = self.total_loss(data_set)\n",
    "        gradients = tape.gradient(target, self.trainable_variables)\n",
    "        return gradients\n",
    "            \n",
    "    def update(self, data_set):\n",
    "        # Performs the update on the weights according to \n",
    "        # the gradient descent.\n",
    "        old_w = self.get_weights()\n",
    "        gradients = self.gradients(data_set)\n",
    "        new_W = self.new_weight(old_w, gradients)\n",
    "        self.set_weights(new_W)\n",
    "    \n",
    "    def train(self):\n",
    "        # Generates a batch at each iteration\n",
    "        num_iter = 1000\n",
    "        for _ in tqdm(range(num_iter)):\n",
    "        #for _ in range((num_iter)):\n",
    "            data_set = np.random.uniform(0, 2 * np.pi, 20)\n",
    "            self.update(data_set)\n",
    "            #print(self.get_weights())\n",
    "    \n",
    "    def train_option(self, batches: list):\n",
    "        for batch in batches:\n",
    "            for _, x in enumerate(batch):\n",
    "                #print(f'step {_}')\n",
    "                with tf.GradientTape() as tape:\n",
    "                    tape.watch(self.trainable_variables) \n",
    "                    target = self.total_loss(x)\n",
    "                grads = tape.gradient(target, self.trainable_variables)\n",
    "                self.optimizer.apply_gradients(zip(grads, self.trainable_variables))\n",
    "    ##################################################################\n",
    "    \n"
   ]
  },
  {
   "cell_type": "markdown",
   "metadata": {},
   "source": [
    "\\begin{align}\n",
    "\\partial_x u_{\\theta} &= cos(x)\\\\\n",
    "u_{\\theta}(0) &= 0\\\\\n",
    "u_{\\theta}(2\\pi) &= 0.\n",
    "\\end{align}\n"
   ]
  },
  {
   "cell_type": "code",
   "execution_count": 81,
   "metadata": {},
   "outputs": [],
   "source": [
    "model = Model([1,20,20,20,20,20,1])\n",
    "data_set = np.random.uniform(0, 2 * np.pi, 20)"
   ]
  },
  {
   "cell_type": "code",
   "execution_count": null,
   "metadata": {},
   "outputs": [],
   "source": [
    "# model.get_weights() test:\n",
    "\n",
    "for tensor in model.get_weights():\n",
    "    print('shape: ', tensor.shape, 'name: ', tensor.name)"
   ]
  },
  {
   "cell_type": "code",
   "execution_count": 23,
   "metadata": {},
   "outputs": [],
   "source": [
    "# model.physical_lost(data_set) test:\n",
    "\n",
    "model.physics_loss(data_set)\n",
    "# returns tf.Tensor shape=()"
   ]
  },
  {
   "cell_type": "code",
   "execution_count": null,
   "metadata": {},
   "outputs": [],
   "source": [
    "# model.total_loss(data_set) test:\n",
    "\n",
    "model.total_loss(data_set)\n",
    "# returns tf.Tensor shape=()"
   ]
  },
  {
   "cell_type": "code",
   "execution_count": null,
   "metadata": {},
   "outputs": [],
   "source": [
    "# model.gradients(data_set) test:\n",
    "\n",
    "for grad, weight in zip(model.gradients(data_set), model.get_weights()):\n",
    "    print(weight.name)\n",
    "    print('Weight shape: ', weight.shape)\n",
    "    print('Gradient shape: ', grad.shape)\n",
    "    print('-------------------------------------------')\n",
    "\n"
   ]
  },
  {
   "cell_type": "code",
   "execution_count": 82,
   "metadata": {},
   "outputs": [
    {
     "name": "stderr",
     "output_type": "stream",
     "text": [
      "100%|██████████| 1000/1000 [01:59<00:00,  8.36it/s]\n"
     ]
    }
   ],
   "source": [
    "model.train()"
   ]
  },
  {
   "cell_type": "code",
   "execution_count": null,
   "metadata": {},
   "outputs": [],
   "source": [
    "model.get_weights()"
   ]
  },
  {
   "cell_type": "code",
   "execution_count": 83,
   "metadata": {},
   "outputs": [
    {
     "data": {
      "image/png": "[encoded data removed]",
      "text/plain": [
       "<Figure size 432x288 with 1 Axes>"
      ]
     },
     "metadata": {
      "needs_background": "light"
     },
     "output_type": "display_data"
    }
   ],
   "source": [
    "x = np.arange(0, 2 * np.pi, 0.01)\n",
    "z = [tf.math.sin(v) for v in x]\n",
    "y = [model.evaluate(v.reshape((1,1)))[0,0].numpy() for v in x]\n",
    "\n",
    "\n",
    "plt.plot(x, y, color='r', label='myPINN')\n",
    "plt.plot(x, z, color='b', label='True')\n",
    "\n",
    "plt.legend()\n",
    "plt.show()"
   ]
  },
  {
   "cell_type": "code",
   "execution_count": null,
   "metadata": {},
   "outputs": [],
   "source": [
    "a = tf.cast(tf.constant(2, shape=(1,1)), dtype='float64')\n",
    "tf.reshape(model.evaluate(a), ())"
   ]
  },
  {
   "cell_type": "code",
   "execution_count": null,
   "metadata": {},
   "outputs": [],
   "source": [
    "W = tf.zeros([20, 1], dtype='float64')\n",
    "a = tf.cast(tf.constant(2, shape=(1,1)), dtype='float64')\n",
    "tf.matmul(W, a)"
   ]
  },
  {
   "cell_type": "code",
   "execution_count": null,
   "metadata": {},
   "outputs": [],
   "source": []
  }
 ],
 "metadata": {
  "kernelspec": {
   "display_name": "Python 3",
   "language": "python",
   "name": "python3"
  },
  "language_info": {
   "codemirror_mode": {
    "name": "ipython",
    "version": 3
   },
   "file_extension": ".py",
   "mimetype": "text/x-python",
   "name": "python",
   "nbconvert_exporter": "python",
   "pygments_lexer": "ipython3",
   "version": "3.8.0"
  }
 },
 "nbformat": 4,
 "nbformat_minor": 2
}
