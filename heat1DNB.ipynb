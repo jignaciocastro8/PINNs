{
 "cells": [
  {
   "cell_type": "code",
   "execution_count": 140,
   "metadata": {},
   "outputs": [],
   "source": [
    "import matplotlib.pyplot as plt\n",
    "import numpy as np\n",
    "import tensorflow as tf\n",
    "import keras\n",
    "from tqdm import tqdm\n",
    "import plotly.express as px\n",
    "from mpl_toolkits import mplot3d \n",
    "\n",
    "np.random.seed(11111)"
   ]
  },
  {
   "cell_type": "markdown",
   "metadata": {},
   "source": [
    "Heat Equation:\n",
    "\n",
    "\\begin{align}\n",
    "\\partial_t u_{\\theta}(t,x) &= \\partial^2_{xx}u_{\\theta}(t,x) \\\\\n",
    "u_{\\theta}(0,x) &= \\varphi(x)\n",
    "\\end{align}\n",
    "\n",
    "Here time-space is modeled by $(t,x)\\in[0,1]^{2}$, thus $u_{\\theta}\\colon[0,1]^2\\to \\R$\n"
   ]
  },
  {
   "cell_type": "code",
   "execution_count": 215,
   "metadata": {},
   "outputs": [],
   "source": [
    "class HeatModel(tf.Module):\n",
    "    # Heat equation PINN-solver. \n",
    "    def __init__(self, layers_size):\n",
    "\n",
    "        self.input_dim = layers_size[0]\n",
    "        self.layers = layers_size\n",
    "        # List of tf.Tensor objects\n",
    "        self.W = []\n",
    "\n",
    "        # Initializer\n",
    "        init = tf.initializers.GlorotUniform(seed=333)\n",
    "\n",
    "        for i in range(len(layers_size) - 1):\n",
    "            input_dim = layers_size[i]\n",
    "            output_dim = layers_size[i + 1]\n",
    "\n",
    "            w = tf.Variable(init([output_dim, input_dim], dtype='float64'), trainable=True, name=f'w{i+1}')\n",
    "            b = tf.zeros([output_dim, 1], dtype='float64')\n",
    "            b = tf.Variable(b, trainable=True, name=f'b{i+1}')\n",
    "\n",
    "            self.W.append(w)\n",
    "            self.W.append(b)\n",
    "\n",
    "        # Learning rate\n",
    "        self.learning_rate = 0.01\n",
    "    \n",
    "    \n",
    "\n",
    "    def evaluate(self, x):\n",
    "        \"\"\"Evaluates the NN at x.\n",
    "\n",
    "        Args:\n",
    "            x : Shape must match the NN input shape.\n",
    "\n",
    "        Returns:\n",
    "            tf.Tensor: u_theta(x)\n",
    "        \"\"\"\n",
    "        a = x\n",
    "        for i in range(len(self.layers) - 2):\n",
    "            z = tf.add(tf.matmul(self.W[2*i], a), self.W[2*i + 1])\n",
    "            a = tf.nn.tanh(z)\n",
    "\n",
    "        a = tf.add(tf.matmul(self.W[-2], a), self.W[-1])\n",
    "        return a\n",
    "    \n",
    "    def init_condition(self, init_data):\n",
    "        \"\"\"Initial condition of the PDE.\n",
    "\n",
    "        Args:\n",
    "            init_data: data for t=0.\n",
    "\n",
    "        Returns:\n",
    "            float: initial condition.\n",
    "        \"\"\"\n",
    "        return tf.square(init_data[1][0]) * (2 - init_data[1][0])\n",
    "   \n",
    "    ##################### LOSS METHODS ###########################\n",
    "\n",
    "    def initial_condition_loss(self, init_data):\n",
    "        return tf.subtract(self.evaluate(init_data), self.init_condition(init_data))\n",
    "\n",
    "    def physics_loss(self, interior_data):\n",
    "\n",
    "        # Error given by the PDE over data_set.\n",
    "        # We compute the first and second derivative w.r.t the NN variable.\n",
    "        # returns tf.Tensor shape=().\n",
    "        # Every derivative is reshaped to shape (1,1).\n",
    "        \n",
    "        z = tf.reshape(tf.Variable(interior_data, trainable=False), (self.input_dim,1))\n",
    "        with tf.GradientTape() as tape2:\n",
    "            with tf.GradientTape() as tape1:\n",
    "                tape1.watch(z)\n",
    "                u = self.evaluate(z)\n",
    "            u_z = tape1.gradient(u, z)\n",
    "            tape2.watch(z)\n",
    "        u_zz = tape2.gradient(u_z, z)\n",
    "\n",
    "        u_t = tf.reshape(u_z[0], (1,1))\n",
    "        u_xx = tf.reshape(u_zz[1], (1,1))\n",
    "\n",
    "        del tape1, tape2\n",
    "        \n",
    "        return tf.subtract(u_t, 4 * u_xx)\n",
    "\n",
    "\n",
    "    def total_loss(self, init_data, interior_data):\n",
    "        \"\"\"Computes the loss at init_data and interior_data.\n",
    "\n",
    "        Args:\n",
    "            init_data: shape=(2,1).\n",
    "            interior_data: shape=(2,1).\n",
    "\n",
    "        Returns:\n",
    "            _type_: _description_\n",
    "        \"\"\"\n",
    "\n",
    "        return tf.square(self.initial_condition_loss(init_data) + self.physics_loss(interior_data))\n",
    "\n",
    "    ##################### TRAINING METHODS ###########################\n",
    "\n",
    "\n",
    "    def apply_gradients(self, gradients_list: list):\n",
    "        \"\"\"Updates the parameters according to SGD iteration.\n",
    "\n",
    "        Args:\n",
    "            gradients_list (list): list of tf.Tensor\n",
    "        \"\"\"\n",
    "        for g, p in zip(gradients_list, self.W):\n",
    "            p.assign_sub(self.learning_rate * g)\n",
    "    \n",
    "    \n",
    "    def train(self, num_iter, num_data):\n",
    "        #opt = tf.keras.optimizers.Adam(learning_rate=5e-4)\n",
    "\n",
    "        init_data = [[[0], [x]] for x in np.random.uniform(0,2,num_data)]\n",
    "        interior_data = [[[t], [x]] for t,x in zip(np.random.uniform(0,2,num_data),np.random.uniform(0,3,num_data))]\n",
    "        loss = []\n",
    "        for _ in tqdm(range(num_iter)):\n",
    "            j = np.random.randint(num_data)\n",
    "            k = np.random.randint(num_data)\n",
    "            with tf.GradientTape() as tape:\n",
    "                tape.watch(self.W)\n",
    "                target = self.total_loss(init_data[j], interior_data[j])\n",
    "                #target = self.initial_condition_loss(init_data[j]) ** 2\n",
    "            grads = tape.gradient(target, self.W)\n",
    "            self.apply_gradients(grads)\n",
    "            loss.append(target)\n",
    "            #opt.apply_gradients(zip(grads, self.W))\n",
    "        return loss\n",
    "\n",
    "            "
   ]
  },
  {
   "cell_type": "code",
   "execution_count": 216,
   "metadata": {},
   "outputs": [
    {
     "name": "stderr",
     "output_type": "stream",
     "text": [
      "  0%|          | 0/10000 [00:00<?, ?it/s]"
     ]
    },
    {
     "name": "stderr",
     "output_type": "stream",
     "text": [
      "100%|██████████| 10000/10000 [04:10<00:00, 39.88it/s]\n"
     ]
    },
    {
     "data": {
      "image/png": "[encoded data removed]",
      "text/plain": [
       "<Figure size 432x288 with 1 Axes>"
      ]
     },
     "metadata": {
      "needs_background": "light"
     },
     "output_type": "display_data"
    }
   ],
   "source": [
    "# Create model with input dimension 2 (t,x) and output dimension 1.\n",
    "\n",
    "model = HeatModel([2,32,32,32,32,32,32,1])\n",
    "loss = model.train(5000, 1000)\n",
    "#\n",
    "values = list(map(lambda v: v[0][0].numpy(), loss))\n",
    "plt.plot(values)\n",
    "plt.grid()\n"
   ]
  },
  {
   "cell_type": "code",
   "execution_count": 223,
   "metadata": {},
   "outputs": [
    {
     "data": {
      "text/plain": [
       "[<matplotlib.lines.Line2D at 0x24e90f03f10>]"
      ]
     },
     "execution_count": 223,
     "metadata": {},
     "output_type": "execute_result"
    },
    {
     "data": {
      "image/png": "[encoded data removed]",
      "text/plain": [
       "<Figure size 432x288 with 1 Axes>"
      ]
     },
     "metadata": {
      "needs_background": "light"
     },
     "output_type": "display_data"
    }
   ],
   "source": [
    "x = np.linspace(0,2,30)\n",
    "y = [model.evaluate([[0],[v]])[0][0].numpy() for v in x]\n",
    "plt.plot(x,y)\n",
    "x = np.linspace(0,2,20)\n",
    "plt.plot(x, x**2*(2-x), 'o')\n"
   ]
  },
  {
   "cell_type": "code",
   "execution_count": null,
   "metadata": {},
   "outputs": [],
   "source": []
  }
 ],
 "metadata": {
  "kernelspec": {
   "display_name": "Python 3",
   "language": "python",
   "name": "python3"
  },
  "language_info": {
   "codemirror_mode": {
    "name": "ipython",
    "version": 3
   },
   "file_extension": ".py",
   "mimetype": "text/x-python",
   "name": "python",
   "nbconvert_exporter": "python",
   "pygments_lexer": "ipython3",
   "version": "3.8.0"
  }
 },
 "nbformat": 4,
 "nbformat_minor": 2
}
