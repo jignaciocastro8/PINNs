{
 "cells": [
  {
   "cell_type": "code",
   "execution_count": 2,
   "metadata": {},
   "outputs": [
    {
     "name": "stderr",
     "output_type": "stream",
     "text": [
      "c:\\Users\\jigna\\AppData\\Local\\Programs\\Python\\Python38\\lib\\site-packages\\scipy\\__init__.py:146: UserWarning: A NumPy version >=1.16.5 and <1.23.0 is required for this version of SciPy (detected version 1.24.4\n",
      "  warnings.warn(f\"A NumPy version >={np_minversion} and <{np_maxversion}\"\n"
     ]
    }
   ],
   "source": [
    "import matplotlib.pyplot as plt\n",
    "import numpy as np\n",
    "import tensorflow as tf\n",
    "import keras\n",
    "from tqdm import tqdm\n",
    "from sinPINN import Model"
   ]
  },
  {
   "cell_type": "markdown",
   "metadata": {},
   "source": [
    "Burgers Equation:\n",
    "\n",
    "\\begin{align}\n",
    "\\partial_t u_{\\theta}(t,z) + u_{\\theta}(t,z)\\partial_z u_{\\theta}(t,z) \n",
    "&= \\nu\\partial_{xx} u_{\\theta}(t,z)\\\\\n",
    "u_{\\theta}(0,z) &= -sin(\\pi z)\\\\\n",
    "u_{\\theta}(t,-1)  &= u_{\\theta}(t,1) = 0.\n",
    "\\end{align}\n",
    "\n",
    "Here times-space is modeled by $(t,z)\\in[0,1]\\times[-1,1]$, thus $u_{\\theta}\\colon[0,1]\\times[-1,1]\\to \\R$\n"
   ]
  },
  {
   "cell_type": "code",
   "execution_count": 33,
   "metadata": {},
   "outputs": [],
   "source": [
    "class BurgerModel(tf.Module):\n",
    "    # Models 1D PINN. \n",
    "    def __init__(self, layers):\n",
    "\n",
    "        self.nu = 0.001 / np.pi\n",
    "\n",
    "        self.layers = layers\n",
    "        # List of tf.Tensor objects\n",
    "        self.W = []\n",
    "\n",
    "        for i in range(len(layers) - 1):\n",
    "            input_dim = layers[i]\n",
    "            output_dim = layers[i + 1]\n",
    "\n",
    "            w = tf.random.normal([output_dim, input_dim], 0, 1, dtype='float64')\n",
    "            w = tf.Variable(w, trainable=True, name=f'w{i+1}')\n",
    "\n",
    "            b = tf.zeros([output_dim, 1], dtype='float64')\n",
    "            b = tf.Variable(b, trainable=True, name=f'b{i+1}')\n",
    "\n",
    "            self.W.append(w)\n",
    "            self.W.append(b)\n",
    "\n",
    "        # Learning rate\n",
    "        self.rate = 0.001\n",
    "    \n",
    "    def evaluate(self, x):\n",
    "        # Computes u(x; theta)\n",
    "        a = x\n",
    "        for i in range(len(self.layers) - 2):\n",
    "            z = tf.add(tf.matmul(self.W[2*i], a), self.W[2*i + 1])\n",
    "            a = tf.nn.tanh(z)\n",
    "\n",
    "        a = tf.add(tf.matmul(self.W[-2], a), self.W[-1])\n",
    "        return a\n",
    "     \n",
    "    def rhs(self, x):\n",
    "        # Right hand side of the PDE.\n",
    "        # x: tf.Tensor\n",
    "        return 0.0\n",
    "\n",
    "    def get_weights(self):\n",
    "        return self.W\n",
    "    \n",
    "    def set_weights(self, new_weights):\n",
    "        # Setter for the parameters.\n",
    "        # Shapes must coincide.\n",
    "        for i in range(len(new_weights)):\n",
    "            self.W[i].assign(new_weights[i])\n",
    "        self.get_weights() \n",
    "\n",
    "    def reset_weights(self):\n",
    "        return None\n",
    "\n",
    "    ##################### LOSS METHODS ###########################\n",
    "\n",
    "    def physics_loss(self, data_set):\n",
    "        # Error given by the PDE over data_set.\n",
    "        # We compute first and second derivative w.r.t the NN variable.\n",
    "        # returns tf.Tensor shape=().\n",
    "        # Every derivative is reshaped to be shape=(1,1).\n",
    "\n",
    "        l = []\n",
    "        # Save the first and second derivative evaluated at each\n",
    "        # (t,z) of datas_set.\n",
    "        U = []\n",
    "        U_t = []\n",
    "        U_z =[]\n",
    "        U_zz = []\n",
    "\n",
    "        for x in data_set:\n",
    "            x = tf.reshape(tf.Variable(x, trainable=False), (2,1))\n",
    "            with tf.GradientTape() as tape2:\n",
    "                with tf.GradientTape() as tape1:\n",
    "                    tape1.watch(x)\n",
    "                    y = self.evaluate(x)\n",
    "                u_x = tape1.gradient(y, x)\n",
    "                tape2.watch(x)\n",
    "            u_xx = tape2.gradient(u_x, x)\n",
    "\n",
    "            u = y\n",
    "            u_t = tf.reshape(u_x[0], (1,1))\n",
    "            u_z = tf.reshape(u_x[1], (1,1))\n",
    "            u_zz = tf.reshape(u_xx[1], (1,1))\n",
    "            U.append(u)\n",
    "            U_t.append(u_t)\n",
    "            U_z.append(u_z)\n",
    "            U_zz.append(u_zz)\n",
    "\n",
    "            # Save residue evaluated at x.\n",
    "            aux = tf.add(u_t, tf.matmul(u, u_z))\n",
    "            l.append(tf.add(aux, tf.matmul(u_zz, [[-self.nu]])))\n",
    "            \n",
    "            del tape1, tape2\n",
    "\n",
    "\n",
    "        l = tf.reshape(l, (1,len(data_set)))\n",
    "        loss = tf.math.reduce_mean(tf.math.multiply(l, l))\n",
    "        return loss \n",
    "\n",
    "\n",
    "\n",
    "    def boundary_condition(self, boundary_data):\n",
    "        init, up, down = boundary_data\n",
    "        M = len(init)\n",
    "        #return tf.reshape(a, ())\n",
    "        I = []\n",
    "        U = []\n",
    "        D = []\n",
    "        for i, u, d in zip(init, up, down):\n",
    "            I.append(tf.subtract(self.evaluate(i), tf.math.sin(i[1])))\n",
    "            U.append(self.evaluate(u))\n",
    "            D.append(self.evaluate(d))\n",
    "\n",
    "        I = tf.reshape(I, (1,M))\n",
    "        U = tf.reshape(U, (1,M))\n",
    "        D = tf.reshape(D, (1,M))\n",
    "        lossI = tf.math.reduce_mean(tf.math.multiply(I,I))\n",
    "        lossU = tf.math.reduce_mean(tf.math.multiply(U,U))\n",
    "        lossD = tf.math.reduce_mean(tf.math.multiply(D,D))\n",
    "        \n",
    "        return tf.add(tf.add(lossI, lossU),lossD)\n",
    "\n",
    "    def total_loss(self, data_set, boundary_data):\n",
    "        # Loss computed from the PDE + loss from training data.\n",
    "        # returns tf.Tensor shape=()\n",
    "\n",
    "        return tf.add(self.physics_loss(data_set), self.boundary_condition(boundary_data))\n",
    "\n",
    "    ##################### TRAINING METHODS ###########################\n",
    "\n",
    "\n",
    "    def new_weight(self, old_W, gradients):\n",
    "        # old_W: list of tensors\n",
    "        # gradients: list of tensors\n",
    "        # Computes: theta_{k+1} = t_k - \\eta\\grad L(\\theta_k)\n",
    "        new_W = []\n",
    "        for w, grad in zip(old_W, gradients):\n",
    "            aux = w - self.rate * grad\n",
    "            new_W.append(aux)\n",
    "        return new_W\n",
    "\n",
    "    def gradients(self, data_set, boundary_data):\n",
    "        # Performs one iteration of GD.\n",
    "        # Since self.trainable_variables is constantly being updated,\n",
    "        # the gradient is evaluated at different values of weights.\n",
    "        with tf.GradientTape() as tape:\n",
    "            tape.watch(self.trainable_variables)\n",
    "            target = self.total_loss(data_set, boundary_data)\n",
    "        gradients = tape.gradient(target, self.trainable_variables)\n",
    "        return gradients\n",
    "            \n",
    "    def update(self, data_set, boundary_data):\n",
    "        # Performs the update on the weights according to \n",
    "        # the gradient descent.\n",
    "        old_w = self.get_weights()\n",
    "        gradients = self.gradients(data_set, boundary_data)\n",
    "        new_W = self.new_weight(old_w, gradients)\n",
    "        self.set_weights(new_W)\n",
    "    \n",
    "    def train(self):\n",
    "        # Generates a batch at each iteration\n",
    "        N = 20\n",
    "        M = 20\n",
    "        num_iter = 1000\n",
    "\n",
    "        # For each iteration we generate a new random batch of data.\n",
    "        for _ in tqdm(range(num_iter)):\n",
    "\n",
    "            # Data set for the PDE loss.\n",
    "            T = np.random.uniform(0, 1, N)\n",
    "            Z = np.random.uniform(-1, 1, N)\n",
    "            data_set = [[[t], [z]] for t,z in zip(T,Z)]\n",
    "\n",
    "            # Data set for the boundaty condition.\n",
    "            boundary_data = []\n",
    "            init = [[[0],[x]] for x in np.random.uniform(-1,1,M)]\n",
    "            up = [[[t],[1.0]] for t in np.random.uniform(0,1,M)]\n",
    "            down = [[[t],[-1.0]] for t in np.random.uniform(0,1,M)]\n",
    "            boundary_data = [init, up, down]\n",
    "            \n",
    "            self.update(data_set, boundary_data)\n",
    "            \n",
    "    ##################################################################\n",
    "    \n"
   ]
  },
  {
   "cell_type": "code",
   "execution_count": 34,
   "metadata": {},
   "outputs": [],
   "source": [
    "model = BurgerModel([2,20,20,20,20,20,20,1])"
   ]
  },
  {
   "cell_type": "code",
   "execution_count": 35,
   "metadata": {},
   "outputs": [
    {
     "data": {
      "text/plain": [
       "[[0.9983144835559046], [-0.6993173289619445]]"
      ]
     },
     "execution_count": 35,
     "metadata": {},
     "output_type": "execute_result"
    }
   ],
   "source": [
    "# Creating data_set.\n",
    "N = 2\n",
    "T = np.random.uniform(0, 1, N)\n",
    "Z = np.random.uniform(-1, 1, N)\n",
    "data_set = [[[t], [z]] for t,z in zip(T,Z)]\n",
    "data_set[0]"
   ]
  },
  {
   "cell_type": "code",
   "execution_count": 36,
   "metadata": {},
   "outputs": [
    {
     "data": {
      "text/plain": [
       "<tf.Tensor: shape=(1, 1), dtype=float64, numpy=array([[-0.46046696]])>"
      ]
     },
     "execution_count": 36,
     "metadata": {},
     "output_type": "execute_result"
    }
   ],
   "source": [
    "# model.evaluate() test:\n",
    "model.evaluate(data_set[0])"
   ]
  },
  {
   "cell_type": "code",
   "execution_count": 37,
   "metadata": {},
   "outputs": [
    {
     "name": "stdout",
     "output_type": "stream",
     "text": [
      "shape:  (20, 2) name:  w1:0\n",
      "shape:  (20, 1) name:  b1:0\n",
      "shape:  (20, 20) name:  w2:0\n",
      "shape:  (20, 1) name:  b2:0\n",
      "shape:  (20, 20) name:  w3:0\n",
      "shape:  (20, 1) name:  b3:0\n",
      "shape:  (20, 20) name:  w4:0\n",
      "shape:  (20, 1) name:  b4:0\n",
      "shape:  (20, 20) name:  w5:0\n",
      "shape:  (20, 1) name:  b5:0\n",
      "shape:  (20, 20) name:  w6:0\n",
      "shape:  (20, 1) name:  b6:0\n",
      "shape:  (1, 20) name:  w7:0\n",
      "shape:  (1, 1) name:  b7:0\n"
     ]
    }
   ],
   "source": [
    "# model.get_weights() test:\n",
    "for tensor in model.get_weights():\n",
    "    print('shape: ', tensor.shape, 'name: ', tensor.name)"
   ]
  },
  {
   "cell_type": "code",
   "execution_count": 38,
   "metadata": {},
   "outputs": [
    {
     "data": {
      "text/plain": [
       "<tf.Tensor: shape=(), dtype=float64, numpy=3.344826217443172>"
      ]
     },
     "execution_count": 38,
     "metadata": {},
     "output_type": "execute_result"
    }
   ],
   "source": [
    "# physics_loss(data_set) test:\n",
    "model.physics_loss(data_set)"
   ]
  },
  {
   "cell_type": "code",
   "execution_count": 39,
   "metadata": {},
   "outputs": [
    {
     "name": "stderr",
     "output_type": "stream",
     "text": [
      "100%|██████████| 1000/1000 [08:51<00:00,  1.88it/s]\n"
     ]
    }
   ],
   "source": [
    "# model.train() test:\n",
    "model.train()"
   ]
  },
  {
   "cell_type": "code",
   "execution_count": 20,
   "metadata": {},
   "outputs": [
    {
     "data": {
      "text/plain": [
       "<tf.Tensor: shape=(1, 1), dtype=float64, numpy=array([[0.01352483]])>"
      ]
     },
     "execution_count": 20,
     "metadata": {},
     "output_type": "execute_result"
    }
   ],
   "source": [
    "model.evaluate([[0], [0]])"
   ]
  },
  {
   "cell_type": "code",
   "execution_count": 42,
   "metadata": {},
   "outputs": [
    {
     "data": {
      "text/plain": [
       "[<matplotlib.lines.Line2D at 0x23560dc5b20>]"
      ]
     },
     "execution_count": 42,
     "metadata": {},
     "output_type": "execute_result"
    },
    {
     "data": {
      "image/png": "[encoded data removed]",
      "text/plain": [
       "<Figure size 432x288 with 1 Axes>"
      ]
     },
     "metadata": {
      "needs_background": "light"
     },
     "output_type": "display_data"
    }
   ],
   "source": [
    "t = 0\n",
    "x = [[[t], [z]] for z in np.arange(-1,1,0.01)]\n",
    "y = [model.evaluate(v)[0,0].numpy() for v in x]\n",
    "plt.plot(np.arange(-1,1,0.01), y)"
   ]
  },
  {
   "cell_type": "code",
   "execution_count": null,
   "metadata": {},
   "outputs": [],
   "source": []
  }
 ],
 "metadata": {
  "kernelspec": {
   "display_name": "Python 3",
   "language": "python",
   "name": "python3"
  },
  "language_info": {
   "codemirror_mode": {
    "name": "ipython",
    "version": 3
   },
   "file_extension": ".py",
   "mimetype": "text/x-python",
   "name": "python",
   "nbconvert_exporter": "python",
   "pygments_lexer": "ipython3",
   "version": "3.8.0"
  }
 },
 "nbformat": 4,
 "nbformat_minor": 2
}
