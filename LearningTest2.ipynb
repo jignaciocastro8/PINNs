{
 "cells": [
  {
   "cell_type": "code",
   "execution_count": 2,
   "metadata": {},
   "outputs": [
    {
     "name": "stderr",
     "output_type": "stream",
     "text": [
      "c:\\Users\\jigna\\AppData\\Local\\Programs\\Python\\Python38\\lib\\site-packages\\scipy\\__init__.py:146: UserWarning: A NumPy version >=1.16.5 and <1.23.0 is required for this version of SciPy (detected version 1.24.4\n",
      "  warnings.warn(f\"A NumPy version >={np_minversion} and <{np_maxversion}\"\n"
     ]
    }
   ],
   "source": [
    "import tensorflow as tf\n",
    "import keras\n",
    "from keras import layers\n",
    "import numpy as np\n",
    "import matplotlib.pyplot as plt\n",
    "from tqdm import tqdm\n",
    "np.random.seed(2727)"
   ]
  },
  {
   "cell_type": "code",
   "execution_count": null,
   "metadata": {},
   "outputs": [],
   "source": [
    "learning_rate = 0.001\n",
    "\n",
    "def function_to_learn(x):\n",
    "  return (x**2) * (2-x)\n",
    "\n",
    "def loss(model, x):\n",
    "  return tf.reduce_mean(tf.square(model(x) - function_to_learn(x)))\n",
    "\n",
    "def train_step(model, x):\n",
    "  with tf.GradientTape() as tape:\n",
    "    tape.watch(model.trainable_variables)\n",
    "    target = loss(model, x)\n",
    "  grads = tape.gradient(target, model.trainable_variables)\n",
    "  for w,g in zip(model.trainable_variables, grads):\n",
    "    w = w.assign_sub(learning_rate * g)\n",
    "  return target\n",
    "\n",
    "def train(model, epochs, num_data, batch_size):\n",
    "  loss = []\n",
    "  data_set = np.random.uniform(0,2,size=(num_data,1))\n",
    "  for _ in tqdm(range(epochs)):\n",
    "    j = np.random.randint(0, num_data - batch_size)\n",
    "    value = train_step(model, data_set[j: j + batch_size])\n",
    "    loss.append(value)\n",
    "  return loss\n",
    "\n"
   ]
  },
  {
   "cell_type": "code",
   "execution_count": 40,
   "metadata": {},
   "outputs": [
    {
     "name": "stdout",
     "output_type": "stream",
     "text": [
      "Model: \"sequential_6\"\n",
      "_________________________________________________________________\n",
      " Layer (type)                Output Shape              Param #   \n",
      "=================================================================\n",
      " dense_48 (Dense)            (10, 32)                  64        \n",
      "                                                                 \n",
      " dense_49 (Dense)            (10, 32)                  1056      \n",
      "                                                                 \n",
      " dense_50 (Dense)            (10, 32)                  1056      \n",
      "                                                                 \n",
      " dense_51 (Dense)            (10, 32)                  1056      \n",
      "                                                                 \n",
      " dense_52 (Dense)            (10, 32)                  1056      \n",
      "                                                                 \n",
      " dense_53 (Dense)            (10, 32)                  1056      \n",
      "                                                                 \n",
      " dense_54 (Dense)            (10, 32)                  1056      \n",
      "                                                                 \n",
      " dense_55 (Dense)            (10, 1)                   33        \n",
      "                                                                 \n",
      "=================================================================\n",
      "Total params: 6433 (25.13 KB)\n",
      "Trainable params: 6433 (25.13 KB)\n",
      "Non-trainable params: 0 (0.00 Byte)\n",
      "_________________________________________________________________\n"
     ]
    }
   ],
   "source": [
    "model = keras.Sequential(\n",
    "    [\n",
    "        layers.Dense(32, activation=\"tanh\", kernel_initializer='he_normal'),\n",
    "        layers.Dense(32, activation=\"tanh\", kernel_initializer='he_normal'),\n",
    "        layers.Dense(32, activation=\"tanh\", kernel_initializer='he_normal'),\n",
    "        layers.Dense(32, activation=\"tanh\", kernel_initializer='he_normal'),\n",
    "        layers.Dense(32, activation=\"tanh\", kernel_initializer='he_normal'),\n",
    "        layers.Dense(32, activation=\"tanh\", kernel_initializer='he_normal'),\n",
    "        layers.Dense(32, activation=\"tanh\", kernel_initializer='he_normal'),\n",
    "        layers.Dense(1),\n",
    "    ]\n",
    ")\n",
    "\n",
    "model(tf.zeros((10,1)))\n",
    "model.summary()\n"
   ]
  },
  {
   "cell_type": "code",
   "execution_count": 21,
   "metadata": {},
   "outputs": [
    {
     "data": {
      "text/plain": [
       "array([[ 0.08871695, -1.8975376 , -1.3799978 , -1.681275  ,  0.32511908,\n",
       "        -0.5555464 , -0.04381774, -0.00724301, -0.578109  , -1.4670271 ,\n",
       "        -0.86135995,  1.190978  ,  0.22828723,  3.0744426 ,  1.9161377 ,\n",
       "        -2.3577633 ,  1.019032  ,  1.1465162 ,  2.1836197 ,  0.11097182,\n",
       "         0.11939111, -1.6060528 ,  0.28338593, -1.5219688 , -0.96935886,\n",
       "        -0.54825675,  0.08756716, -0.5826513 , -0.87048686, -1.7147545 ,\n",
       "         0.3817006 ,  0.5085188 ]], dtype=float32)"
      ]
     },
     "execution_count": 21,
     "metadata": {},
     "output_type": "execute_result"
    }
   ],
   "source": [
    "model.get_weights()[0]"
   ]
  },
  {
   "cell_type": "code",
   "execution_count": 26,
   "metadata": {},
   "outputs": [
    {
     "name": "stdout",
     "output_type": "stream",
     "text": [
      "1  :  (1, 32)\n",
      "2  :  (32,)\n",
      "3  :  (32, 32)\n",
      "4  :  (32,)\n",
      "5  :  (32, 32)\n",
      "6  :  (32,)\n",
      "7  :  (32, 32)\n",
      "8  :  (32,)\n",
      "9  :  (32, 32)\n",
      "10  :  (32,)\n",
      "11  :  (32, 32)\n",
      "12  :  (32,)\n",
      "13  :  (32, 32)\n",
      "14  :  (32,)\n",
      "15  :  (32, 1)\n",
      "16  :  (1,)\n"
     ]
    }
   ],
   "source": [
    "for i in range(len(model.get_weights())):\n",
    "    print(i+1, \" : \", model.get_weights()[i].shape)"
   ]
  },
  {
   "cell_type": "code",
   "execution_count": 34,
   "metadata": {},
   "outputs": [
    {
     "data": {
      "text/plain": [
       "[(1, 32),\n",
       " (32,),\n",
       " (32, 32),\n",
       " (32,),\n",
       " (32, 32),\n",
       " (32,),\n",
       " (32, 32),\n",
       " (32,),\n",
       " (32, 32),\n",
       " (32,),\n",
       " (32, 32),\n",
       " (32,),\n",
       " (32, 32),\n",
       " (32,),\n",
       " (32, 1),\n",
       " (1,)]"
      ]
     },
     "execution_count": 34,
     "metadata": {},
     "output_type": "execute_result"
    }
   ],
   "source": [
    "shapes = [w.shape for w in model.get_weights()]\n",
    "shapes\n"
   ]
  },
  {
   "cell_type": "code",
   "execution_count": 39,
   "metadata": {},
   "outputs": [
    {
     "data": {
      "text/plain": [
       "0"
      ]
     },
     "execution_count": 39,
     "metadata": {},
     "output_type": "execute_result"
    }
   ],
   "source": [
    "np.prod(0)\n"
   ]
  },
  {
   "cell_type": "code",
   "execution_count": null,
   "metadata": {},
   "outputs": [],
   "source": [
    "\n",
    "values = train(model, epochs=5000, num_data=5000, batch_size=100)\n"
   ]
  },
  {
   "cell_type": "code",
   "execution_count": null,
   "metadata": {},
   "outputs": [],
   "source": [
    "l = list(map(lambda v: v.numpy(), values))\n",
    "plt.plot(l)\n",
    "plt.yscale(\"log\")\n",
    "plt.grid()"
   ]
  },
  {
   "cell_type": "code",
   "execution_count": null,
   "metadata": {},
   "outputs": [],
   "source": [
    "x = np.linspace(0,2,30)\n",
    "y = [model(np.array([[v]]))[0][0].numpy() for v in x]\n",
    "plt.plot(x,y)\n",
    "x = np.linspace(0,2,20)\n",
    "plt.plot(x, (x**2) * (2-x), 'x')\n",
    "plt.grid()"
   ]
  },
  {
   "cell_type": "code",
   "execution_count": null,
   "metadata": {},
   "outputs": [],
   "source": [
    "x = tf.zeros((10,1,1))\n",
    "tf.square(model(x) - function_to_learn(x))"
   ]
  },
  {
   "cell_type": "code",
   "execution_count": null,
   "metadata": {},
   "outputs": [],
   "source": [
    "tf.reduce_mean(tf.square(model(x) - function_to_learn(x)))"
   ]
  },
  {
   "cell_type": "code",
   "execution_count": null,
   "metadata": {},
   "outputs": [],
   "source": []
  }
 ],
 "metadata": {
  "kernelspec": {
   "display_name": "Python 3",
   "language": "python",
   "name": "python3"
  },
  "language_info": {
   "codemirror_mode": {
    "name": "ipython",
    "version": 3
   },
   "file_extension": ".py",
   "mimetype": "text/x-python",
   "name": "python",
   "nbconvert_exporter": "python",
   "pygments_lexer": "ipython3",
   "version": "3.8.0"
  }
 },
 "nbformat": 4,
 "nbformat_minor": 2
}
