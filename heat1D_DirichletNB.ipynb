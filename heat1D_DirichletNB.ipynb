{
 "cells": [
  {
   "cell_type": "code",
   "execution_count": 1,
   "metadata": {},
   "outputs": [
    {
     "name": "stderr",
     "output_type": "stream",
     "text": [
      "c:\\Users\\jigna\\AppData\\Local\\Programs\\Python\\Python38\\lib\\site-packages\\scipy\\__init__.py:146: UserWarning: A NumPy version >=1.16.5 and <1.23.0 is required for this version of SciPy (detected version 1.24.4\n",
      "  warnings.warn(f\"A NumPy version >={np_minversion} and <{np_maxversion}\"\n"
     ]
    }
   ],
   "source": [
    "import matplotlib.pyplot as plt\n",
    "import numpy as np\n",
    "import tensorflow as tf\n",
    "import keras\n",
    "from tqdm import tqdm\n",
    "import keras\n",
    "from keras import layers\n",
    "import scipy.optimize\n",
    "\n",
    "tf.random.set_seed(2727)\n",
    "np.random.seed(2727)"
   ]
  },
  {
   "cell_type": "markdown",
   "metadata": {},
   "source": [
    "Heat Equation with Dirichlet boundary conditions on $[0,T]\\times[0,c]$:\n",
    "\n",
    "\\begin{align}\n",
    "\\partial_t u(t,x) &= \\partial^2_{xx}u(t,x) \\\\\n",
    "u(0,x) &= \\varphi(x)\\\\\n",
    "u(t,0) &= 0\\\\\n",
    "u(t,c) &= 0 \n",
    "\\end{align}\n",
    "\n",
    "Here time-space is modeled by $(t,x)\\in[0,T]\\times[0,c]$, thus $u\\colon[0,T]\\times[0,c]\\to \\R$\n"
   ]
  },
  {
   "cell_type": "code",
   "execution_count": 2,
   "metadata": {},
   "outputs": [],
   "source": [
    "class Network:\n",
    "    def __init__(self, input_dim) -> None:\n",
    "        self.input_dim = input_dim\n",
    "\n",
    "    def build(self):\n",
    "        nn = keras.Sequential(\n",
    "        [\n",
    "            layers.Input(shape=(self.input_dim,)),\n",
    "            layers.Dense(32, activation=\"tanh\", kernel_initializer='he_normal', bias_initializer='zeros'),\n",
    "            layers.Dense(32, activation=\"tanh\", kernel_initializer='he_normal', bias_initializer='zeros'),\n",
    "            layers.Dense(32, activation=\"tanh\", kernel_initializer='he_normal', bias_initializer='zeros'),\n",
    "            layers.Dense(32, activation=\"tanh\", kernel_initializer='he_normal', bias_initializer='zeros'),\n",
    "            layers.Dense(32, activation=\"tanh\", kernel_initializer='he_normal', bias_initializer='zeros'),\n",
    "            layers.Dense(32, activation=\"tanh\", kernel_initializer='he_normal', bias_initializer='zeros'),\n",
    "            layers.Dense(1, kernel_initializer='he_normal', use_bias=False),\n",
    "        ])\n",
    "        return nn\n"
   ]
  },
  {
   "cell_type": "code",
   "execution_count": 3,
   "metadata": {},
   "outputs": [],
   "source": [
    "class HeatModel:\n",
    "    # 1D Heat equation PINN-solver. It contains its own nn.\n",
    "    def __init__(self):\n",
    "\n",
    "        self.learning_rate = 0.001\n",
    "        self.model = Network(2).build()\n",
    "    \n",
    "    def init_condition(self, data):\n",
    "        batch_size = data.shape[0]\n",
    "        return (data[...,1]**2 * (2-data[...,1])).reshape((batch_size, 1))\n",
    "    \n",
    "    ##################### LOSS METHODS ###########################\n",
    "\n",
    "    def pde_loss(self, data):\n",
    "\n",
    "        # Error given by the PDE over data.\n",
    "        \n",
    "        z = tf.Variable(data, trainable=False)\n",
    "        with tf.GradientTape() as tape2:\n",
    "            tape2.watch(z)\n",
    "            with tf.GradientTape() as tape1:\n",
    "                tape1.watch(z)\n",
    "                u = self.model(z)\n",
    "            u_z = tape1.batch_jacobian(u, z)\n",
    "        u_zz = tape2.batch_jacobian(u_z, z)\n",
    "        u_t = u_z[...,0,0]\n",
    "        u_xx = u_zz[...,0,1,1]\n",
    "        return tf.reduce_mean(tf.math.square(u_t - u_xx))\n",
    "\n",
    "    def boundary_loss(self, data_init, data_left, data_right):\n",
    "        l1 = tf.reduce_mean(tf.math.square(self.model(data_left)))\n",
    "        l2 = tf.reduce_mean(tf.math.square(self.model(data_right)))\n",
    "        l3 = tf.reduce_mean(tf.math.square(self.model(data_init) - self.init_condition(data_init)))\n",
    "        return l1 + l2 + l3\n",
    "    \n",
    "    def total_loss(self, data_int, data_init, data_left, data_right):\n",
    "        #self.pde_loss(data_int) + \n",
    "        return self.boundary_loss(data_init, data_left, data_right)\n",
    "    ##################### TRAINING METHODS ###########################\n",
    "    \n",
    "    def gradients(self, data_int, data_init, data_left, data_right):\n",
    "        with tf.GradientTape() as tape:\n",
    "            tape.watch(self.model.trainable_variables)\n",
    "            target = self.total_loss(data_int, data_init, data_left, data_right)\n",
    "        return target, tape.gradient(target, self.model.trainable_variables)\n",
    "\n",
    "    def fit(self, data_int, data_left, data_right):\n",
    "        pass\n",
    "\n",
    "            "
   ]
  },
  {
   "cell_type": "code",
   "execution_count": 4,
   "metadata": {},
   "outputs": [],
   "source": [
    "heat_model = HeatModel()"
   ]
  },
  {
   "cell_type": "code",
   "execution_count": 5,
   "metadata": {},
   "outputs": [],
   "source": [
    "# batch_size\n",
    "n = 1000\n",
    "# Interior data\n",
    "data_int = np.random.rand(n,2) * 2\n",
    "# t=0 data\n",
    "data_init = np.random.rand(n,2) * 2\n",
    "data_init[..., 0] = 0\n",
    "# x = 0 data\n",
    "data_left = np.random.rand(n,2) * 2\n",
    "data_left[..., 1] = 0\n",
    "# x = 2 data\n",
    "data_right = np.random.rand(n,2) * 2\n",
    "data_right[..., 1] = 2\n"
   ]
  },
  {
   "cell_type": "code",
   "execution_count": 6,
   "metadata": {},
   "outputs": [
    {
     "name": "stderr",
     "output_type": "stream",
     "text": [
      "100%|██████████| 968/968 [00:20<00:00, 47.76it/s]\n"
     ]
    },
    {
     "name": "stdout",
     "output_type": "stream",
     "text": [
      "epoch n°: 0\n"
     ]
    },
    {
     "name": "stderr",
     "output_type": "stream",
     "text": [
      "100%|██████████| 968/968 [00:20<00:00, 46.55it/s]\n"
     ]
    },
    {
     "name": "stdout",
     "output_type": "stream",
     "text": [
      "epoch n°: 1\n"
     ]
    },
    {
     "name": "stderr",
     "output_type": "stream",
     "text": [
      "100%|██████████| 968/968 [00:20<00:00, 47.76it/s]\n"
     ]
    },
    {
     "name": "stdout",
     "output_type": "stream",
     "text": [
      "epoch n°: 2\n"
     ]
    },
    {
     "name": "stderr",
     "output_type": "stream",
     "text": [
      "100%|██████████| 968/968 [00:20<00:00, 48.04it/s]\n"
     ]
    },
    {
     "name": "stdout",
     "output_type": "stream",
     "text": [
      "epoch n°: 3\n"
     ]
    },
    {
     "name": "stderr",
     "output_type": "stream",
     "text": [
      "100%|██████████| 968/968 [00:20<00:00, 48.26it/s]\n"
     ]
    },
    {
     "name": "stdout",
     "output_type": "stream",
     "text": [
      "epoch n°: 4\n"
     ]
    },
    {
     "name": "stderr",
     "output_type": "stream",
     "text": [
      "100%|██████████| 968/968 [00:20<00:00, 48.30it/s]\n"
     ]
    },
    {
     "name": "stdout",
     "output_type": "stream",
     "text": [
      "epoch n°: 5\n"
     ]
    },
    {
     "name": "stderr",
     "output_type": "stream",
     "text": [
      "100%|██████████| 968/968 [00:19<00:00, 48.85it/s]\n"
     ]
    },
    {
     "name": "stdout",
     "output_type": "stream",
     "text": [
      "epoch n°: 6\n"
     ]
    },
    {
     "name": "stderr",
     "output_type": "stream",
     "text": [
      "100%|██████████| 968/968 [00:19<00:00, 48.93it/s]\n"
     ]
    },
    {
     "name": "stdout",
     "output_type": "stream",
     "text": [
      "epoch n°: 7\n"
     ]
    },
    {
     "name": "stderr",
     "output_type": "stream",
     "text": [
      "100%|██████████| 968/968 [00:19<00:00, 48.79it/s]\n"
     ]
    },
    {
     "name": "stdout",
     "output_type": "stream",
     "text": [
      "epoch n°: 8\n"
     ]
    },
    {
     "name": "stderr",
     "output_type": "stream",
     "text": [
      "100%|██████████| 968/968 [00:19<00:00, 48.41it/s]\n"
     ]
    },
    {
     "name": "stdout",
     "output_type": "stream",
     "text": [
      "epoch n°: 9\n"
     ]
    },
    {
     "name": "stderr",
     "output_type": "stream",
     "text": [
      "100%|██████████| 968/968 [00:20<00:00, 48.26it/s]\n"
     ]
    },
    {
     "name": "stdout",
     "output_type": "stream",
     "text": [
      "epoch n°: 10\n"
     ]
    },
    {
     "name": "stderr",
     "output_type": "stream",
     "text": [
      "100%|██████████| 968/968 [00:20<00:00, 48.04it/s]\n"
     ]
    },
    {
     "name": "stdout",
     "output_type": "stream",
     "text": [
      "epoch n°: 11\n"
     ]
    },
    {
     "name": "stderr",
     "output_type": "stream",
     "text": [
      "100%|██████████| 968/968 [00:20<00:00, 48.16it/s]\n"
     ]
    },
    {
     "name": "stdout",
     "output_type": "stream",
     "text": [
      "epoch n°: 12\n"
     ]
    },
    {
     "name": "stderr",
     "output_type": "stream",
     "text": [
      "100%|██████████| 968/968 [00:20<00:00, 48.11it/s]\n"
     ]
    },
    {
     "name": "stdout",
     "output_type": "stream",
     "text": [
      "epoch n°: 13\n"
     ]
    },
    {
     "name": "stderr",
     "output_type": "stream",
     "text": [
      "100%|██████████| 968/968 [00:20<00:00, 47.76it/s]"
     ]
    },
    {
     "name": "stdout",
     "output_type": "stream",
     "text": [
      "epoch n°: 14\n"
     ]
    },
    {
     "name": "stderr",
     "output_type": "stream",
     "text": [
      "\n"
     ]
    }
   ],
   "source": [
    "l = []\n",
    "optimizer = tf.keras.optimizers.SGD(learning_rate=0.01)\n",
    "b = 32\n",
    "for epoch in range(15):\n",
    "    for i in tqdm(range(n - b)):\n",
    "        target, gradients = heat_model.gradients(data_int[i:i+b], data_init[i:i+b], data_left[i:i+b], data_right[i:i+b])\n",
    "        #heat_model.apply_gradients(gradients)\n",
    "        optimizer.apply_gradients(zip(gradients, heat_model.model.trainable_variables))\n",
    "    print(f'epoch n°: {epoch}')\n",
    "    l.append(target)"
   ]
  },
  {
   "cell_type": "code",
   "execution_count": 7,
   "metadata": {},
   "outputs": [
    {
     "data": {
      "image/png": "[encoded data removed]",
      "text/plain": [
       "<Figure size 432x288 with 1 Axes>"
      ]
     },
     "metadata": {
      "needs_background": "light"
     },
     "output_type": "display_data"
    }
   ],
   "source": [
    "plt.plot(l)\n",
    "plt.grid()\n",
    "plt.yscale(\"log\")"
   ]
  },
  {
   "cell_type": "code",
   "execution_count": 8,
   "metadata": {},
   "outputs": [],
   "source": [
    "z = np.arange(0,2 + 0.01,0.01)\n",
    "a0 = np.array([[0.0,x] for x in z])\n",
    "a1 = np.array([[0.5,x] for x in z])\n",
    "a2 = np.array([[1,x] for x in z])\n",
    "a3 = np.array([[1.5,x] for x in z])"
   ]
  },
  {
   "cell_type": "code",
   "execution_count": 9,
   "metadata": {},
   "outputs": [],
   "source": [
    "b0 = heat_model.model(a0)[...,0].numpy()\n",
    "b1 = heat_model.model(a1)[...,0].numpy()\n",
    "b2 = heat_model.model(a2)[...,0].numpy()\n",
    "b3 = heat_model.model(a3)[...,0].numpy()\n",
    "\n"
   ]
  },
  {
   "cell_type": "code",
   "execution_count": 10,
   "metadata": {},
   "outputs": [
    {
     "data": {
      "image/png": "[encoded data removed]",
      "text/plain": [
       "<Figure size 432x288 with 1 Axes>"
      ]
     },
     "metadata": {
      "needs_background": "light"
     },
     "output_type": "display_data"
    }
   ],
   "source": [
    "plt.plot(z, b0)\n",
    "plt.plot(z, heat_model.init_condition(a0))\n",
    "plt.grid()"
   ]
  },
  {
   "cell_type": "code",
   "execution_count": null,
   "metadata": {},
   "outputs": [],
   "source": []
  },
  {
   "cell_type": "code",
   "execution_count": null,
   "metadata": {},
   "outputs": [],
   "source": []
  },
  {
   "cell_type": "code",
   "execution_count": null,
   "metadata": {},
   "outputs": [],
   "source": []
  },
  {
   "cell_type": "code",
   "execution_count": null,
   "metadata": {},
   "outputs": [],
   "source": []
  },
  {
   "cell_type": "code",
   "execution_count": null,
   "metadata": {},
   "outputs": [],
   "source": []
  }
 ],
 "metadata": {
  "kernelspec": {
   "display_name": "Python 3",
   "language": "python",
   "name": "python3"
  },
  "language_info": {
   "codemirror_mode": {
    "name": "ipython",
    "version": 3
   },
   "file_extension": ".py",
   "mimetype": "text/x-python",
   "name": "python",
   "nbconvert_exporter": "python",
   "pygments_lexer": "ipython3",
   "version": "3.8.0"
  }
 },
 "nbformat": 4,
 "nbformat_minor": 2
}
