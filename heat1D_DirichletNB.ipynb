{
 "cells": [
  {
   "cell_type": "code",
   "execution_count": 1,
   "metadata": {},
   "outputs": [
    {
     "name": "stderr",
     "output_type": "stream",
     "text": [
      "c:\\Users\\jigna\\AppData\\Local\\Programs\\Python\\Python38\\lib\\site-packages\\scipy\\__init__.py:146: UserWarning: A NumPy version >=1.16.5 and <1.23.0 is required for this version of SciPy (detected version 1.24.4\n",
      "  warnings.warn(f\"A NumPy version >={np_minversion} and <{np_maxversion}\"\n"
     ]
    }
   ],
   "source": [
    "import matplotlib.pyplot as plt\n",
    "import numpy as np\n",
    "import tensorflow as tf\n",
    "import keras\n",
    "from tqdm import tqdm\n",
    "import keras\n",
    "from keras import layers\n",
    "import scipy.optimize\n",
    "\n",
    "tf.random.set_seed(2727)\n",
    "np.random.seed(2727)"
   ]
  },
  {
   "cell_type": "markdown",
   "metadata": {},
   "source": [
    "Heat Equation with Dirichlet boundary conditions on $[0,T]\\times[0,c]$:\n",
    "\n",
    "\\begin{align}\n",
    "\\partial_t u(t,x) &= \\partial^2_{xx}u(t,x) \\\\\n",
    "u(0,x) &= \\varphi(x)\\\\\n",
    "u(t,0) &= 0\\\\\n",
    "u(t,c) &= 0 \n",
    "\\end{align}\n",
    "\n",
    "Here time-space is modeled by $(t,x)\\in[0,T]\\times[0,c]$, thus $u\\colon[0,T]\\times[0,c]\\to \\R$\n"
   ]
  },
  {
   "cell_type": "code",
   "execution_count": 2,
   "metadata": {},
   "outputs": [],
   "source": [
    "class Network:\n",
    "    def __init__(self, input_dim) -> None:\n",
    "        self.input_dim = input_dim\n",
    "\n",
    "    def build(self):\n",
    "        nn = keras.Sequential(\n",
    "        [\n",
    "            layers.Input(shape=(self.input_dim,)),\n",
    "            layers.Dense(32, activation=\"tanh\", kernel_initializer='he_normal', bias_initializer='zeros'),\n",
    "            layers.Dense(32, activation=\"tanh\", kernel_initializer='he_normal', bias_initializer='zeros'),\n",
    "            layers.Dense(32, activation=\"tanh\", kernel_initializer='he_normal', bias_initializer='zeros'),\n",
    "            layers.Dense(32, activation=\"tanh\", kernel_initializer='he_normal', bias_initializer='zeros'),\n",
    "            layers.Dense(32, activation=\"tanh\", kernel_initializer='he_normal', bias_initializer='zeros'),\n",
    "            layers.Dense(32, activation=\"tanh\", kernel_initializer='he_normal', bias_initializer='zeros'),\n",
    "            layers.Dense(1, kernel_initializer='he_normal', use_bias=False),\n",
    "        ])\n",
    "        return nn\n"
   ]
  },
  {
   "cell_type": "code",
   "execution_count": 3,
   "metadata": {},
   "outputs": [],
   "source": [
    "class HeatModel:\n",
    "    # 1D Heat equation PINN-solver. It contains its own nn.\n",
    "    def __init__(self):\n",
    "\n",
    "        self.model = Network(2).build()\n",
    "    \n",
    "    def init_condition(self, data):\n",
    "        n = data.shape[0]\n",
    "        return tf.reshape(data[...,1]**2 * (2-data[...,1]), shape=(n,1))\n",
    "    \n",
    "    ##################### LOSS METHODS ###########################\n",
    "\n",
    "    def pde_loss(self, data):\n",
    "\n",
    "        # Error given by the PDE over data.\n",
    "        \n",
    "        with tf.GradientTape() as tape2:\n",
    "            tape2.watch(data)\n",
    "            with tf.GradientTape() as tape1:\n",
    "                tape1.watch(data)\n",
    "                u = self.model(data)\n",
    "            u_z = tape1.batch_jacobian(u, data)\n",
    "        u_zz = tape2.batch_jacobian(u_z, data)\n",
    "        u_t = u_z[...,0,0]\n",
    "        u_xx = u_zz[...,0,1,1]\n",
    "        return tf.reduce_mean(tf.math.square(u_t - u_xx))\n",
    "\n",
    "    def boundary_loss(self, data_init, data_left, data_right):\n",
    "        l1 = tf.reduce_mean(tf.math.square(self.model(data_left)))\n",
    "        l2 = tf.reduce_mean(tf.math.square(self.model(data_right)))\n",
    "        l3 = tf.reduce_mean(tf.math.square(self.model(data_init) - self.init_condition(data_init)))\n",
    "        return l1 + l2 + l3\n",
    "    \n",
    "    def total_loss(self, data_int, data_init, data_left, data_right):\n",
    "        #self.pde_loss(data_int) + \n",
    "        return self.boundary_loss(data_init, data_left, data_right) + self.pde_loss(data_int)\n",
    "    ##################### TRAINING METHODS ###########################\n",
    "    \n",
    "    @tf.function\n",
    "    def gradients(self, data_int, data_init, data_left, data_right):\n",
    "        with tf.GradientTape() as tape:\n",
    "            tape.watch(self.model.trainable_variables)\n",
    "            target = self.total_loss(data_int, data_init, data_left, data_right)\n",
    "        return target, tape.gradient(target, self.model.trainable_variables)\n",
    "\n",
    "    def fit_SGD(self, data_int, data_init, data_left, data_right):\n",
    "        n = data_int.shape[0]\n",
    "        l = []\n",
    "        optimizer = tf.keras.optimizers.SGD(learning_rate=0.01)\n",
    "        b = 64\n",
    "        for _ in tqdm(tf.range(50)):\n",
    "            for j in tqdm(tf.range(n)):\n",
    "                i = np.random.randint(n - b)\n",
    "                target, gradients = self.gradients(data_int[i:i+b], data_init[i:i+b], data_left[i:i+b], data_right[i:i+b])\n",
    "                optimizer.apply_gradients(zip(gradients, self.model.trainable_variables))\n",
    "            l.append(target)\n",
    "        return l\n",
    "    \n",
    "    def fit(self, data_int, data_init, data_left, data_right):\n",
    "        n = data_int.shape[0]\n",
    "        l = []\n",
    "        optimizer = tf.keras.optimizers.SGD(learning_rate=0.01)\n",
    "        b = 32\n",
    "        for epoch in tf.range(60):\n",
    "            for i in tqdm(tf.range(n - b)):\n",
    "                i = tf.cast(i, tf.int32)\n",
    "                target, gradients = self.gradients(data_int[i:i+b], data_init[i:i+b], data_left[i:i+b], data_right[i:i+b])\n",
    "                optimizer.apply_gradients(zip(gradients, self.model.trainable_variables))\n",
    "            l.append(target)\n",
    "        return l"
   ]
  },
  {
   "cell_type": "code",
   "execution_count": 4,
   "metadata": {},
   "outputs": [],
   "source": [
    "heat_model = HeatModel()"
   ]
  },
  {
   "cell_type": "code",
   "execution_count": 5,
   "metadata": {},
   "outputs": [],
   "source": [
    "# batch_size\n",
    "n = 1000\n",
    "# Interior data t \\in [0,2], x \\in [0,2]\n",
    "data_int = tf.Variable(np.random.rand(n,2) * 2, trainable=False, dtype=\"float32\")\n",
    "# t=0 data\n",
    "data_init = (np.random.rand(n,2) * 2)\n",
    "data_init[..., 0] = 0\n",
    "data_init = tf.constant(data_init, dtype=\"float32\")\n",
    "# x = 0 data\n",
    "data_left = np.random.rand(n,2) * 2\n",
    "data_left[..., 1] = 0\n",
    "data_left = tf.constant(data_left, dtype=\"float32\")\n",
    "# x = 2 data\n",
    "data_right = np.random.rand(n,2) * 2\n",
    "data_right[..., 1] = 2\n",
    "data_right = tf.constant(data_right, dtype=\"float32\")\n"
   ]
  },
  {
   "cell_type": "code",
   "execution_count": 6,
   "metadata": {},
   "outputs": [
    {
     "name": "stderr",
     "output_type": "stream",
     "text": [
      "100%|██████████| 968/968 [00:12<00:00, 80.60it/s]"
     ]
    },
    {
     "name": "stdout",
     "output_type": "stream",
     "text": [
      "epoch n°: 1\n"
     ]
    },
    {
     "name": "stderr",
     "output_type": "stream",
     "text": [
      "\n",
      "100%|██████████| 968/968 [00:10<00:00, 95.05it/s]"
     ]
    },
    {
     "name": "stdout",
     "output_type": "stream",
     "text": [
      "epoch n°: 2\n"
     ]
    },
    {
     "name": "stderr",
     "output_type": "stream",
     "text": [
      "\n",
      "100%|██████████| 968/968 [00:10<00:00, 91.84it/s]"
     ]
    },
    {
     "name": "stdout",
     "output_type": "stream",
     "text": [
      "epoch n°: 3\n"
     ]
    },
    {
     "name": "stderr",
     "output_type": "stream",
     "text": [
      "\n",
      "100%|██████████| 968/968 [00:10<00:00, 92.77it/s]"
     ]
    },
    {
     "name": "stdout",
     "output_type": "stream",
     "text": [
      "epoch n°: 4\n"
     ]
    },
    {
     "name": "stderr",
     "output_type": "stream",
     "text": [
      "\n",
      "100%|██████████| 968/968 [00:10<00:00, 96.01it/s] "
     ]
    },
    {
     "name": "stdout",
     "output_type": "stream",
     "text": [
      "epoch n°: 5\n"
     ]
    },
    {
     "name": "stderr",
     "output_type": "stream",
     "text": [
      "\n",
      "100%|██████████| 968/968 [00:09<00:00, 98.10it/s] "
     ]
    },
    {
     "name": "stdout",
     "output_type": "stream",
     "text": [
      "epoch n°: 6\n"
     ]
    },
    {
     "name": "stderr",
     "output_type": "stream",
     "text": [
      "\n",
      "100%|██████████| 968/968 [00:09<00:00, 97.94it/s] "
     ]
    },
    {
     "name": "stdout",
     "output_type": "stream",
     "text": [
      "epoch n°: 7\n"
     ]
    },
    {
     "name": "stderr",
     "output_type": "stream",
     "text": [
      "\n",
      "100%|██████████| 968/968 [00:09<00:00, 98.61it/s] "
     ]
    },
    {
     "name": "stdout",
     "output_type": "stream",
     "text": [
      "epoch n°: 8\n"
     ]
    },
    {
     "name": "stderr",
     "output_type": "stream",
     "text": [
      "\n",
      "100%|██████████| 968/968 [00:09<00:00, 98.27it/s] "
     ]
    },
    {
     "name": "stdout",
     "output_type": "stream",
     "text": [
      "epoch n°: 9\n"
     ]
    },
    {
     "name": "stderr",
     "output_type": "stream",
     "text": [
      "\n",
      "100%|██████████| 968/968 [00:09<00:00, 98.45it/s] \n",
      "100%|██████████| 968/968 [00:09<00:00, 98.09it/s]"
     ]
    },
    {
     "name": "stdout",
     "output_type": "stream",
     "text": [
      "epoch n°: 11\n"
     ]
    },
    {
     "name": "stderr",
     "output_type": "stream",
     "text": [
      "\n",
      "100%|██████████| 968/968 [00:10<00:00, 93.85it/s]"
     ]
    },
    {
     "name": "stdout",
     "output_type": "stream",
     "text": [
      "epoch n°: 12\n"
     ]
    },
    {
     "name": "stderr",
     "output_type": "stream",
     "text": [
      "\n",
      "100%|██████████| 968/968 [00:10<00:00, 95.74it/s]"
     ]
    },
    {
     "name": "stdout",
     "output_type": "stream",
     "text": [
      "epoch n°: 13\n"
     ]
    },
    {
     "name": "stderr",
     "output_type": "stream",
     "text": [
      "\n",
      "100%|██████████| 968/968 [00:10<00:00, 92.73it/s]"
     ]
    },
    {
     "name": "stdout",
     "output_type": "stream",
     "text": [
      "epoch n°: 14\n"
     ]
    },
    {
     "name": "stderr",
     "output_type": "stream",
     "text": [
      "\n",
      "100%|██████████| 968/968 [00:10<00:00, 93.53it/s]"
     ]
    },
    {
     "name": "stdout",
     "output_type": "stream",
     "text": [
      "epoch n°: 15\n"
     ]
    },
    {
     "name": "stderr",
     "output_type": "stream",
     "text": [
      "\n",
      "100%|██████████| 968/968 [00:10<00:00, 89.45it/s]"
     ]
    },
    {
     "name": "stdout",
     "output_type": "stream",
     "text": [
      "epoch n°: 16\n"
     ]
    },
    {
     "name": "stderr",
     "output_type": "stream",
     "text": [
      "\n",
      "100%|██████████| 968/968 [00:10<00:00, 92.34it/s]"
     ]
    },
    {
     "name": "stdout",
     "output_type": "stream",
     "text": [
      "epoch n°: 17\n"
     ]
    },
    {
     "name": "stderr",
     "output_type": "stream",
     "text": [
      "\n",
      "100%|██████████| 968/968 [00:10<00:00, 88.48it/s]"
     ]
    },
    {
     "name": "stdout",
     "output_type": "stream",
     "text": [
      "epoch n°: 18\n"
     ]
    },
    {
     "name": "stderr",
     "output_type": "stream",
     "text": [
      "\n",
      "100%|██████████| 968/968 [00:10<00:00, 91.45it/s]"
     ]
    },
    {
     "name": "stdout",
     "output_type": "stream",
     "text": [
      "epoch n°: 19\n"
     ]
    },
    {
     "name": "stderr",
     "output_type": "stream",
     "text": [
      "\n",
      "100%|██████████| 968/968 [00:10<00:00, 92.07it/s]\n",
      "100%|██████████| 968/968 [00:10<00:00, 89.62it/s]"
     ]
    },
    {
     "name": "stdout",
     "output_type": "stream",
     "text": [
      "epoch n°: 21\n"
     ]
    },
    {
     "name": "stderr",
     "output_type": "stream",
     "text": [
      "\n",
      "100%|██████████| 968/968 [00:10<00:00, 94.78it/s]"
     ]
    },
    {
     "name": "stdout",
     "output_type": "stream",
     "text": [
      "epoch n°: 22\n"
     ]
    },
    {
     "name": "stderr",
     "output_type": "stream",
     "text": [
      "\n",
      "100%|██████████| 968/968 [00:10<00:00, 90.74it/s]"
     ]
    },
    {
     "name": "stdout",
     "output_type": "stream",
     "text": [
      "epoch n°: 23\n"
     ]
    },
    {
     "name": "stderr",
     "output_type": "stream",
     "text": [
      "\n",
      "100%|██████████| 968/968 [00:10<00:00, 95.16it/s] "
     ]
    },
    {
     "name": "stdout",
     "output_type": "stream",
     "text": [
      "epoch n°: 24\n"
     ]
    },
    {
     "name": "stderr",
     "output_type": "stream",
     "text": [
      "\n",
      "100%|██████████| 968/968 [00:09<00:00, 102.83it/s]"
     ]
    },
    {
     "name": "stdout",
     "output_type": "stream",
     "text": [
      "epoch n°: 25\n"
     ]
    },
    {
     "name": "stderr",
     "output_type": "stream",
     "text": [
      "\n",
      "100%|██████████| 968/968 [00:09<00:00, 103.02it/s]"
     ]
    },
    {
     "name": "stdout",
     "output_type": "stream",
     "text": [
      "epoch n°: 26\n"
     ]
    },
    {
     "name": "stderr",
     "output_type": "stream",
     "text": [
      "\n",
      "100%|██████████| 968/968 [00:09<00:00, 103.10it/s]"
     ]
    },
    {
     "name": "stdout",
     "output_type": "stream",
     "text": [
      "epoch n°: 27\n"
     ]
    },
    {
     "name": "stderr",
     "output_type": "stream",
     "text": [
      "\n",
      "100%|██████████| 968/968 [00:09<00:00, 103.37it/s]"
     ]
    },
    {
     "name": "stdout",
     "output_type": "stream",
     "text": [
      "epoch n°: 28\n"
     ]
    },
    {
     "name": "stderr",
     "output_type": "stream",
     "text": [
      "\n",
      "100%|██████████| 968/968 [00:09<00:00, 102.95it/s]"
     ]
    },
    {
     "name": "stdout",
     "output_type": "stream",
     "text": [
      "epoch n°: 29\n"
     ]
    },
    {
     "name": "stderr",
     "output_type": "stream",
     "text": [
      "\n",
      "100%|██████████| 968/968 [00:09<00:00, 103.28it/s]\n",
      "100%|██████████| 968/968 [00:09<00:00, 103.28it/s]"
     ]
    },
    {
     "name": "stdout",
     "output_type": "stream",
     "text": [
      "epoch n°: 31\n"
     ]
    },
    {
     "name": "stderr",
     "output_type": "stream",
     "text": [
      "\n",
      "100%|██████████| 968/968 [00:09<00:00, 103.44it/s]"
     ]
    },
    {
     "name": "stdout",
     "output_type": "stream",
     "text": [
      "epoch n°: 32\n"
     ]
    },
    {
     "name": "stderr",
     "output_type": "stream",
     "text": [
      "\n",
      "100%|██████████| 968/968 [00:09<00:00, 102.86it/s]"
     ]
    },
    {
     "name": "stdout",
     "output_type": "stream",
     "text": [
      "epoch n°: 33\n"
     ]
    },
    {
     "name": "stderr",
     "output_type": "stream",
     "text": [
      "\n",
      "100%|██████████| 968/968 [00:09<00:00, 103.28it/s]"
     ]
    },
    {
     "name": "stdout",
     "output_type": "stream",
     "text": [
      "epoch n°: 34\n"
     ]
    },
    {
     "name": "stderr",
     "output_type": "stream",
     "text": [
      "\n",
      "100%|██████████| 968/968 [00:10<00:00, 94.84it/s] "
     ]
    },
    {
     "name": "stdout",
     "output_type": "stream",
     "text": [
      "epoch n°: 35\n"
     ]
    },
    {
     "name": "stderr",
     "output_type": "stream",
     "text": [
      "\n",
      "100%|██████████| 968/968 [00:10<00:00, 93.02it/s]"
     ]
    },
    {
     "name": "stdout",
     "output_type": "stream",
     "text": [
      "epoch n°: 36\n"
     ]
    },
    {
     "name": "stderr",
     "output_type": "stream",
     "text": [
      "\n",
      "100%|██████████| 968/968 [00:10<00:00, 94.80it/s]\n"
     ]
    },
    {
     "name": "stdout",
     "output_type": "stream",
     "text": [
      "epoch n°: 37\n"
     ]
    },
    {
     "name": "stderr",
     "output_type": "stream",
     "text": [
      "100%|██████████| 968/968 [00:10<00:00, 94.91it/s]"
     ]
    },
    {
     "name": "stdout",
     "output_type": "stream",
     "text": [
      "epoch n°: 38\n"
     ]
    },
    {
     "name": "stderr",
     "output_type": "stream",
     "text": [
      "\n",
      "100%|██████████| 968/968 [00:10<00:00, 95.13it/s]"
     ]
    },
    {
     "name": "stdout",
     "output_type": "stream",
     "text": [
      "epoch n°: 39\n"
     ]
    },
    {
     "name": "stderr",
     "output_type": "stream",
     "text": [
      "\n",
      "100%|██████████| 968/968 [00:10<00:00, 95.34it/s]\n",
      "100%|██████████| 968/968 [00:10<00:00, 95.83it/s]"
     ]
    },
    {
     "name": "stdout",
     "output_type": "stream",
     "text": [
      "epoch n°: 41\n"
     ]
    },
    {
     "name": "stderr",
     "output_type": "stream",
     "text": [
      "\n",
      "100%|██████████| 968/968 [00:10<00:00, 95.02it/s]"
     ]
    },
    {
     "name": "stdout",
     "output_type": "stream",
     "text": [
      "epoch n°: 42\n"
     ]
    },
    {
     "name": "stderr",
     "output_type": "stream",
     "text": [
      "\n",
      "100%|██████████| 968/968 [00:10<00:00, 95.79it/s]"
     ]
    },
    {
     "name": "stdout",
     "output_type": "stream",
     "text": [
      "epoch n°: 43\n"
     ]
    },
    {
     "name": "stderr",
     "output_type": "stream",
     "text": [
      "\n",
      "100%|██████████| 968/968 [00:10<00:00, 95.34it/s]"
     ]
    },
    {
     "name": "stdout",
     "output_type": "stream",
     "text": [
      "epoch n°: 44\n"
     ]
    },
    {
     "name": "stderr",
     "output_type": "stream",
     "text": [
      "\n",
      "100%|██████████| 968/968 [00:10<00:00, 95.83it/s]"
     ]
    },
    {
     "name": "stdout",
     "output_type": "stream",
     "text": [
      "epoch n°: 45\n"
     ]
    },
    {
     "name": "stderr",
     "output_type": "stream",
     "text": [
      "\n",
      "100%|██████████| 968/968 [00:10<00:00, 96.28it/s]"
     ]
    },
    {
     "name": "stdout",
     "output_type": "stream",
     "text": [
      "epoch n°: 46\n"
     ]
    },
    {
     "name": "stderr",
     "output_type": "stream",
     "text": [
      "\n",
      "100%|██████████| 968/968 [00:10<00:00, 96.09it/s]"
     ]
    },
    {
     "name": "stdout",
     "output_type": "stream",
     "text": [
      "epoch n°: 47\n"
     ]
    },
    {
     "name": "stderr",
     "output_type": "stream",
     "text": [
      "\n",
      "100%|██████████| 968/968 [00:10<00:00, 96.32it/s]"
     ]
    },
    {
     "name": "stdout",
     "output_type": "stream",
     "text": [
      "epoch n°: 48\n"
     ]
    },
    {
     "name": "stderr",
     "output_type": "stream",
     "text": [
      "\n",
      "100%|██████████| 968/968 [00:10<00:00, 96.41it/s]"
     ]
    },
    {
     "name": "stdout",
     "output_type": "stream",
     "text": [
      "epoch n°: 49\n"
     ]
    },
    {
     "name": "stderr",
     "output_type": "stream",
     "text": [
      "\n",
      "100%|██████████| 968/968 [00:10<00:00, 96.41it/s]\n",
      "100%|██████████| 968/968 [00:10<00:00, 96.47it/s]"
     ]
    },
    {
     "name": "stdout",
     "output_type": "stream",
     "text": [
      "epoch n°: 51\n"
     ]
    },
    {
     "name": "stderr",
     "output_type": "stream",
     "text": [
      "\n",
      "100%|██████████| 968/968 [00:10<00:00, 95.25it/s]"
     ]
    },
    {
     "name": "stdout",
     "output_type": "stream",
     "text": [
      "epoch n°: 52\n"
     ]
    },
    {
     "name": "stderr",
     "output_type": "stream",
     "text": [
      "\n",
      "100%|██████████| 968/968 [00:10<00:00, 96.68it/s]"
     ]
    },
    {
     "name": "stdout",
     "output_type": "stream",
     "text": [
      "epoch n°: 53\n"
     ]
    },
    {
     "name": "stderr",
     "output_type": "stream",
     "text": [
      "\n",
      "100%|██████████| 968/968 [00:10<00:00, 96.21it/s]"
     ]
    },
    {
     "name": "stdout",
     "output_type": "stream",
     "text": [
      "epoch n°: 54\n"
     ]
    },
    {
     "name": "stderr",
     "output_type": "stream",
     "text": [
      "\n",
      "100%|██████████| 968/968 [00:10<00:00, 96.46it/s]"
     ]
    },
    {
     "name": "stdout",
     "output_type": "stream",
     "text": [
      "epoch n°: 55\n"
     ]
    },
    {
     "name": "stderr",
     "output_type": "stream",
     "text": [
      "\n",
      "100%|██████████| 968/968 [00:09<00:00, 96.83it/s]"
     ]
    },
    {
     "name": "stdout",
     "output_type": "stream",
     "text": [
      "epoch n°: 56\n"
     ]
    },
    {
     "name": "stderr",
     "output_type": "stream",
     "text": [
      "\n",
      "100%|██████████| 968/968 [00:10<00:00, 96.64it/s]"
     ]
    },
    {
     "name": "stdout",
     "output_type": "stream",
     "text": [
      "epoch n°: 57\n"
     ]
    },
    {
     "name": "stderr",
     "output_type": "stream",
     "text": [
      "\n",
      "100%|██████████| 968/968 [00:09<00:00, 96.92it/s]"
     ]
    },
    {
     "name": "stdout",
     "output_type": "stream",
     "text": [
      "epoch n°: 58\n"
     ]
    },
    {
     "name": "stderr",
     "output_type": "stream",
     "text": [
      "\n",
      "100%|██████████| 968/968 [00:09<00:00, 96.86it/s]"
     ]
    },
    {
     "name": "stdout",
     "output_type": "stream",
     "text": [
      "epoch n°: 59\n"
     ]
    },
    {
     "name": "stderr",
     "output_type": "stream",
     "text": [
      "\n",
      "100%|██████████| 968/968 [00:10<00:00, 96.79it/s]\n"
     ]
    }
   ],
   "source": [
    "l = heat_model.fit(data_int, data_init, data_left, data_right)"
   ]
  },
  {
   "cell_type": "code",
   "execution_count": 11,
   "metadata": {},
   "outputs": [
    {
     "data": {
      "image/png": "[encoded data removed]",
      "text/plain": [
       "<Figure size 432x288 with 1 Axes>"
      ]
     },
     "metadata": {
      "needs_background": "light"
     },
     "output_type": "display_data"
    }
   ],
   "source": [
    "plt.plot(l)\n",
    "plt.grid()\n",
    "plt.yscale(\"log\")"
   ]
  },
  {
   "cell_type": "code",
   "execution_count": 22,
   "metadata": {},
   "outputs": [],
   "source": [
    "z = np.arange(0,2 + 0.01,0.01)\n",
    "a0 = np.array([[0.0, x] for x in z])\n",
    "a1 = np.array([[0.01, x] for x in z])\n",
    "a2 = np.array([[0.05, x] for x in z])\n",
    "a3 = np.array([[0.1, x] for x in z])\n",
    "a4 = np.array([[0.15, x] for x in z])\n",
    "a5 = np.array([[0.2, x] for x in z])"
   ]
  },
  {
   "cell_type": "code",
   "execution_count": 23,
   "metadata": {},
   "outputs": [],
   "source": [
    "b0 = heat_model.model(a0)[...,0].numpy()\n",
    "b1 = heat_model.model(a1)[...,0].numpy()\n",
    "b2 = heat_model.model(a2)[...,0].numpy()\n",
    "b3 = heat_model.model(a3)[...,0].numpy()\n",
    "b4 = heat_model.model(a4)[...,0].numpy()\n",
    "b5 = heat_model.model(a5)[...,0].numpy()\n",
    "\n"
   ]
  },
  {
   "cell_type": "code",
   "execution_count": 24,
   "metadata": {},
   "outputs": [
    {
     "data": {
      "image/png": "[encoded data removed]",
      "text/plain": [
       "<Figure size 432x288 with 1 Axes>"
      ]
     },
     "metadata": {
      "needs_background": "light"
     },
     "output_type": "display_data"
    }
   ],
   "source": [
    "plt.plot(z, b0)\n",
    "plt.plot(z, b1)\n",
    "plt.plot(z, b2)\n",
    "plt.plot(z, b3)\n",
    "plt.plot(z, b4)\n",
    "plt.plot(z, b5)\n",
    "plt.plot(z, heat_model.init_condition(a0))\n",
    "plt.grid()"
   ]
  },
  {
   "cell_type": "code",
   "execution_count": null,
   "metadata": {},
   "outputs": [],
   "source": []
  }
 ],
 "metadata": {
  "kernelspec": {
   "display_name": "Python 3",
   "language": "python",
   "name": "python3"
  },
  "language_info": {
   "codemirror_mode": {
    "name": "ipython",
    "version": 3
   },
   "file_extension": ".py",
   "mimetype": "text/x-python",
   "name": "python",
   "nbconvert_exporter": "python",
   "pygments_lexer": "ipython3",
   "version": "3.8.0"
  }
 },
 "nbformat": 4,
 "nbformat_minor": 2
}
