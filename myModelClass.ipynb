{
 "cells": [
  {
   "cell_type": "code",
   "execution_count": 1,
   "metadata": {},
   "outputs": [
    {
     "name": "stderr",
     "output_type": "stream",
     "text": [
      "c:\\Users\\jigna\\AppData\\Local\\Programs\\Python\\Python38\\lib\\site-packages\\scipy\\__init__.py:146: UserWarning: A NumPy version >=1.16.5 and <1.23.0 is required for this version of SciPy (detected version 1.24.4\n",
      "  warnings.warn(f\"A NumPy version >={np_minversion} and <{np_maxversion}\"\n"
     ]
    }
   ],
   "source": [
    "import matplotlib.pyplot as plt\n",
    "import numpy as np\n",
    "import tensorflow as tf\n",
    "import keras\n",
    "from tqdm import tqdm"
   ]
  },
  {
   "cell_type": "markdown",
   "metadata": {},
   "source": [
    "\\begin{align}\n",
    "\\partial_x u_{\\theta} &= cos(x)\\\\\n",
    "u_{\\theta}(0) &= 0\\\\\n",
    "u_{\\theta}(2\\pi) &= 0.\n",
    "\\end{align}\n"
   ]
  },
  {
   "cell_type": "code",
   "execution_count": 312,
   "metadata": {},
   "outputs": [],
   "source": [
    "\n",
    "\n",
    "\n",
    "class MyModel(tf.Module):\n",
    "    # One hidden layer model: 2w + 2b\n",
    "    def __init__(self, n_units, **kwargs):\n",
    "        super().__init__(**kwargs)\n",
    "\n",
    "\n",
    "        # Initialize weight and bias as trainable tf.Variables\n",
    "        w1 = np.random.uniform(0, 1, size=(n_units,1))\n",
    "        w1 = tf.Variable(w1, trainable=True, name='w1')\n",
    "        \n",
    "        b1 = np.random.uniform(0, 2*np.pi, size=(n_units,1)) * 0\n",
    "        b1 = tf.Variable(b1, trainable=True, name='b1')\n",
    "        \n",
    "        w2 = np.random.uniform(0, 1, size=(n_units,1))\n",
    "        w2 = tf.Variable(w2, trainable=True, name='w2')\n",
    "\n",
    "        b2 = np.random.uniform(0, 2*np.pi, size=(1,1))\n",
    "        #b2 = tf.Variable(b2, trainable=True, name='b2')\n",
    "        \n",
    "        self.W = [w1, b1, w2]\n",
    "\n",
    "        # Learning rate\n",
    "        self.rate = 0.1\n",
    "    \n",
    "    def __call__(self, x):\n",
    "        # x is going to be a tf.Variable, we need to compute the gradient.\n",
    "        x = x[0,0].numpy()\n",
    "        return sum(tf.nn.tanh(self.W[0] * x + self.W[1]) * self.W[2]) + self.W[3]\n",
    "    \n",
    "    def evaluate(self, x):\n",
    "        # Computes u(x; theta)\n",
    "        a = tf.nn.tanh(tf.add(self.W[0] * x, self.W[1]))\n",
    "        # u = tf.add(tf.matmul(a, self.W[2], transpose_a=True), self.W[3])\n",
    "        u = tf.matmul(a, self.W[2], transpose_a=True)   \n",
    "        return u\n",
    "    \n",
    "    def rhs(self, x):\n",
    "        # Right hand side of the PDE.\n",
    "        # x: tf.Tensor\n",
    "        return tf.math.cos(x)\n",
    "\n",
    "    def get_weights(self):\n",
    "        return self.W\n",
    "    \n",
    "    def set_weights(self, new_weights):\n",
    "        # Setter for the parameters.\n",
    "        # Shapes must coincide.\n",
    "        for i in range(len(new_weights)):\n",
    "            self.W[i].assign(new_weights[i])\n",
    "        self.get_weights() \n",
    "\n",
    "\n",
    "    ##################### LOSS FUNCTIONS ###########################\n",
    "\n",
    "    def physics_loss(self, data_set):\n",
    "        # MSE given by the PDE over data_set.\n",
    "        # Note that, given the form of the NN, when the derivative w.r.t\n",
    "        # x is taken, dependence on b_2 is lost. \n",
    "        \n",
    "        l = []\n",
    "\n",
    "        # For each x in data_set computes second derivative at x.\n",
    "        for x in data_set:\n",
    "            x = tf.Variable(x, trainable=False)\n",
    "            with tf.GradientTape() as tape:\n",
    "                tape.watch(x)\n",
    "                y = self.evaluate(x)\n",
    "            u_x = tape.gradient(y, x)\n",
    "            l.append(tf.subtract(u_x, self.rhs(x)))\n",
    "            del tape\n",
    "        loss = tf.math.reduce_mean(tf.math.multiply(l, l))\n",
    "        return loss\n",
    "\n",
    "    def boundary_condition(self):\n",
    "        # PDE boundary condition.\n",
    "        # output shape : () same as physical_loss()\n",
    "        a = tf.add(self.evaluate(0)**2, self.evaluate(2 * np.pi)**2)\n",
    "        return tf.reshape(a, ())\n",
    "\n",
    "    def total_loss(self, data_set):\n",
    "        # Loss computed from the PDE + loss from training data.\n",
    "        return self.physics_loss(data_set) + self.boundary_condition()\n",
    "\n",
    "    ##################### TRAINING FUNCTIONS ###########################\n",
    "\n",
    "\n",
    "    def new_weight(self, old_W, gradients):\n",
    "        # old_W: list of tensors\n",
    "        # gradients: list of tensors\n",
    "        # Computes: theta_{k+1} = t_k - \\eta\\grad L(\\theta_k)\n",
    "        new_W = []\n",
    "        for w, grad in zip(old_W, gradients):\n",
    "            aux = w - self.rate * grad\n",
    "            new_W.append(aux)\n",
    "        return new_W\n",
    "\n",
    "    def gradients(self, data_set):\n",
    "        # Performs one iteration of GD.\n",
    "        # Since self.trainable_variables is constantly being updated,\n",
    "        # the gradient is evaluated at different values of weights.\n",
    "        with tf.GradientTape() as tape:\n",
    "            tape.watch(self.trainable_variables)\n",
    "            target = self.total_loss(data_set)\n",
    "        gradients = tape.gradient(target, self.trainable_variables)\n",
    "        return gradients\n",
    "            \n",
    "    def update(self, data_set):\n",
    "        # Performs the update on the weights according to \n",
    "        # the gradient descent.\n",
    "        old_w = self.get_weights()\n",
    "        gradients = self.gradients(data_set)\n",
    "        new_W = self.new_weight(old_w, gradients)\n",
    "        self.set_weights(new_W)\n",
    "    \n",
    "    def train(self):\n",
    "        # Generates a batch at each iteration\n",
    "        num_iter = 1000\n",
    "        for _ in tqdm(range(num_iter)):\n",
    "            data_set = np.random.uniform(0, 2 * np.pi, 64)\n",
    "            self.update(data_set)\n",
    "    \n",
    "    def train_option(self, batches: list):\n",
    "        for batch in batches:\n",
    "            for _, x in enumerate(batch):\n",
    "                #print(f'step {_}')\n",
    "                with tf.GradientTape() as tape:\n",
    "                    tape.watch(self.trainable_variables) \n",
    "                    target = self.total_loss(x)\n",
    "                grads = tape.gradient(target, self.trainable_variables)\n",
    "                self.optimizer.apply_gradients(zip(grads, self.trainable_variables))\n",
    "    ##################################################################\n",
    "    \n"
   ]
  },
  {
   "cell_type": "code",
   "execution_count": 313,
   "metadata": {},
   "outputs": [
    {
     "data": {
      "text/plain": [
       "(<tf.Variable 'w1:0' shape=(3, 1) dtype=float64, numpy=\n",
       " array([[0.73439177],\n",
       "        [0.17972853],\n",
       "        [0.48988904]])>,\n",
       " <tf.Variable 'b1:0' shape=(3, 1) dtype=float64, numpy=\n",
       " array([[0.],\n",
       "        [0.],\n",
       "        [0.]])>,\n",
       " <tf.Variable 'w2:0' shape=(3, 1) dtype=float64, numpy=\n",
       " array([[0.5199859 ],\n",
       "        [0.8902477 ],\n",
       "        [0.76834593]])>)"
      ]
     },
     "execution_count": 313,
     "metadata": {},
     "output_type": "execute_result"
    }
   ],
   "source": [
    "#optimizer = keras.optimizers.legacy.SGD(learning_rate=1e-3)\n",
    "model = MyModel(3)\n",
    "model.trainable_variables"
   ]
  },
  {
   "cell_type": "code",
   "execution_count": 314,
   "metadata": {},
   "outputs": [
    {
     "name": "stderr",
     "output_type": "stream",
     "text": [
      "100%|██████████| 1000/1000 [02:42<00:00,  6.16it/s]\n"
     ]
    }
   ],
   "source": [
    "model.train()"
   ]
  },
  {
   "cell_type": "code",
   "execution_count": 315,
   "metadata": {},
   "outputs": [
    {
     "data": {
      "image/png": "[encoded data removed]",
      "text/plain": [
       "<Figure size 432x288 with 1 Axes>"
      ]
     },
     "metadata": {
      "needs_background": "light"
     },
     "output_type": "display_data"
    }
   ],
   "source": [
    "x = np.arange(0, 2 * np.pi, 0.01)\n",
    "y = [model.evaluate(v)[0,0].numpy() for v in x]\n",
    "z = [tf.math.sin(v) for v in x]\n",
    "plt.plot(x, y, color='r', label='myPINN')\n",
    "plt.plot(x, z, color='b', label='True')\n",
    "plt.legend()\n",
    "plt.show()"
   ]
  },
  {
   "cell_type": "code",
   "execution_count": 72,
   "metadata": {},
   "outputs": [
    {
     "data": {
      "text/plain": [
       "<tf.Tensor: shape=(), dtype=float32, numpy=1.0>"
      ]
     },
     "execution_count": 72,
     "metadata": {},
     "output_type": "execute_result"
    }
   ],
   "source": [
    "x = tf.constant(0.0)\n",
    "tf.math.cos(x)"
   ]
  },
  {
   "cell_type": "code",
   "execution_count": 65,
   "metadata": {},
   "outputs": [
    {
     "data": {
      "text/plain": [
       "3.141592653589793"
      ]
     },
     "execution_count": 65,
     "metadata": {},
     "output_type": "execute_result"
    }
   ],
   "source": [
    "np.pi"
   ]
  },
  {
   "cell_type": "code",
   "execution_count": 77,
   "metadata": {},
   "outputs": [
    {
     "data": {
      "text/plain": [
       "<tf.Tensor: shape=(), dtype=int32, numpy=2>"
      ]
     },
     "execution_count": 77,
     "metadata": {},
     "output_type": "execute_result"
    }
   ],
   "source": [
    "a = [tf.constant(1), tf.constant(1)]\n",
    "tf.reduce_sum(a)"
   ]
  },
  {
   "cell_type": "code",
   "execution_count": 3,
   "metadata": {},
   "outputs": [],
   "source": [
    "m = np.random.normal(0,1,(10,10))"
   ]
  },
  {
   "cell_type": "code",
   "execution_count": 4,
   "metadata": {},
   "outputs": [
    {
     "data": {
      "text/plain": [
       "<matplotlib.image.AxesImage at 0x2008be80fa0>"
      ]
     },
     "execution_count": 4,
     "metadata": {},
     "output_type": "execute_result"
    },
    {
     "data": {
      "image/png": "[encoded data removed]",
      "text/plain": [
       "<Figure size 288x288 with 1 Axes>"
      ]
     },
     "metadata": {
      "needs_background": "light"
     },
     "output_type": "display_data"
    }
   ],
   "source": [
    "plt.matshow(m)"
   ]
  },
  {
   "cell_type": "code",
   "execution_count": null,
   "metadata": {},
   "outputs": [],
   "source": []
  }
 ],
 "metadata": {
  "kernelspec": {
   "display_name": "Python 3",
   "language": "python",
   "name": "python3"
  },
  "language_info": {
   "codemirror_mode": {
    "name": "ipython",
    "version": 3
   },
   "file_extension": ".py",
   "mimetype": "text/x-python",
   "name": "python",
   "nbconvert_exporter": "python",
   "pygments_lexer": "ipython3",
   "version": "3.8.0"
  }
 },
 "nbformat": 4,
 "nbformat_minor": 2
}
