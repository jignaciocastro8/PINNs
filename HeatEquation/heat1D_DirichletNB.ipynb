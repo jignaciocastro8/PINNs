{
 "cells": [
  {
   "cell_type": "code",
   "execution_count": 2,
   "metadata": {},
   "outputs": [
    {
     "name": "stderr",
     "output_type": "stream",
     "text": [
      "c:\\Users\\jigna\\AppData\\Local\\Programs\\Python\\Python38\\lib\\site-packages\\scipy\\__init__.py:146: UserWarning: A NumPy version >=1.16.5 and <1.23.0 is required for this version of SciPy (detected version 1.24.4\n",
      "  warnings.warn(f\"A NumPy version >={np_minversion} and <{np_maxversion}\"\n"
     ]
    }
   ],
   "source": [
    "import matplotlib.pyplot as plt\n",
    "import numpy as np\n",
    "import tensorflow as tf\n",
    "import keras\n",
    "from tqdm import tqdm\n",
    "import keras\n",
    "from keras import layers\n",
    "import os\n",
    "import random\n",
    "from matplotlib import cm\n",
    "from matplotlib.ticker import LinearLocator\n",
    "import plotly.graph_objects as go\n",
    "import pandas as pd\n",
    "\n",
    "seed = 2727\n",
    "os.environ['PYTHONHASHSEED']=str(seed)\n",
    "os.environ['TF_CUDNN_DETERMINISTIC'] = '1'\n",
    "random.seed(seed)\n",
    "np.random.seed(seed)\n",
    "tf.random.set_seed(seed)"
   ]
  },
  {
   "cell_type": "markdown",
   "metadata": {},
   "source": [
    "Heat Equation with Dirichlet boundary conditions on $[0,T]\\times[0,c]$:\n",
    "\n",
    "\\begin{align}\n",
    "\\partial_t u(t,x) &= \\partial^2_{xx}u(t,x) \\\\\n",
    "u(0,x) &= \\varphi(x)\\\\\n",
    "u(t,0) &= 0\\\\\n",
    "u(t,c) &= 0 \n",
    "\\end{align}\n",
    "\n",
    "Here time-space is modeled by $(t,x)\\in[0,T]\\times[0,c]$, thus $u\\colon[0,T]\\times[0,c]\\to \\R$\n"
   ]
  },
  {
   "cell_type": "code",
   "execution_count": 3,
   "metadata": {},
   "outputs": [],
   "source": [
    "class Network:\n",
    "    def __init__(self, layers_list: list) -> None:\n",
    "        self.layers_list = layers_list\n",
    "\n",
    "    def build(self):\n",
    "        input_dim = self.layers_list.pop(0)\n",
    "        ouput_dim = self.layers_list.pop()\n",
    "        \n",
    "        array = [layers.Input(shape=(input_dim,))]\n",
    "        for units in self.layers_list:\n",
    "            array.append(layers.Dense(units, activation=\"tanh\", kernel_initializer=\"he_normal\", bias_initializer=\"zeros\"))\n",
    "        array.append(layers.Dense(ouput_dim, kernel_initializer=\"he_normal\", use_bias=False))\n",
    "        \n",
    "        nn = keras.Sequential(array)\n",
    "\n",
    "        return nn\n"
   ]
  },
  {
   "cell_type": "code",
   "execution_count": 3,
   "metadata": {},
   "outputs": [],
   "source": [
    "class HeatModel:\n",
    "    # 1D Heat equation PINN-solver. It contains its own nn.\n",
    "    def __init__(self):\n",
    "\n",
    "        self.model = Network([2,32,32,32,32,32,32,1]).build()\n",
    "    \n",
    "    def init_condition(self, data):\n",
    "        n = data.shape[0]\n",
    "        return tf.reshape(data[...,1]**2 * (2-data[...,1]), shape=(n,1))\n",
    "    \n",
    "    ##################### LOSS METHODS ###########################\n",
    "\n",
    "    def pde_loss(self, data):\n",
    "\n",
    "        # Error given by the PDE over data.\n",
    "        \n",
    "        with tf.GradientTape() as tape2:\n",
    "            tape2.watch(data)\n",
    "            with tf.GradientTape() as tape1:\n",
    "                tape1.watch(data)\n",
    "                u = self.model(data)\n",
    "            u_z = tape1.batch_jacobian(u, data)\n",
    "        u_zz = tape2.batch_jacobian(u_z, data)\n",
    "        u_t = u_z[...,0,0]\n",
    "        u_xx = u_zz[...,0,1,1]\n",
    "        return tf.reduce_mean(tf.math.square(u_t - u_xx))\n",
    "\n",
    "    def boundary_loss(self, data_init, data_left, data_right):\n",
    "        l1 = tf.reduce_mean(tf.math.square(self.model(data_left)))\n",
    "        l2 = tf.reduce_mean(tf.math.square(self.model(data_right)))\n",
    "        l3 = tf.reduce_mean(tf.math.square(self.model(data_init) - self.init_condition(data_init)))\n",
    "        return l1 + l2 + l3\n",
    "    \n",
    "    def total_loss(self, data_int, data_init, data_left, data_right):\n",
    "        #self.pde_loss(data_int) + \n",
    "        return self.boundary_loss(data_init, data_left, data_right) + self.pde_loss(data_int)\n",
    "    ##################### TRAINING METHODS ###########################\n",
    "    \n",
    "    @tf.function\n",
    "    def gradients(self, data_int, data_init, data_left, data_right):\n",
    "        with tf.GradientTape() as tape:\n",
    "            tape.watch(self.model.trainable_variables)\n",
    "            target = self.total_loss(data_int, data_init, data_left, data_right)\n",
    "        return target, tape.gradient(target, self.model.trainable_variables)\n",
    "\n",
    "    def fit_SGD(self, data_int, data_init, data_left, data_right):\n",
    "        # Random mini-batch\n",
    "        n = data_int.shape[0]\n",
    "        l = []\n",
    "        optimizer = tf.keras.optimizers.SGD(learning_rate=0.01)\n",
    "        b = 64\n",
    "        for _ in tqdm(tf.range(50)):\n",
    "            for _ in tf.range(n):\n",
    "                i = np.random.randint(n - b)\n",
    "                target, gradients = self.gradients(data_int[i:i+b], data_init[i:i+b], data_left[i:i+b], data_right[i:i+b])\n",
    "                optimizer.apply_gradients(zip(gradients, self.model.trainable_variables))\n",
    "            l.append(target)\n",
    "        return l\n",
    "    \n",
    "    def fit(self, data_int, data_init, data_left, data_right):\n",
    "        n = data_int.shape[0]\n",
    "        l = []\n",
    "        optimizer = tf.keras.optimizers.SGD(learning_rate=0.01)\n",
    "        b = 100\n",
    "        for epoch in tqdm(tf.range(60)):\n",
    "            for i in tf.range(n - b):\n",
    "                i = tf.cast(i, tf.int32)\n",
    "                target, gradients = self.gradients(data_int[i:i+b], data_init[i:i+b], data_left[i:i+b], data_right[i:i+b])\n",
    "                optimizer.apply_gradients(zip(gradients, self.model.trainable_variables))\n",
    "            l.append(target)\n",
    "        return l"
   ]
  },
  {
   "cell_type": "code",
   "execution_count": 4,
   "metadata": {},
   "outputs": [],
   "source": [
    "heat_model = HeatModel()"
   ]
  },
  {
   "cell_type": "code",
   "execution_count": 5,
   "metadata": {},
   "outputs": [],
   "source": [
    "# batch_size\n",
    "n = 1000\n",
    "# Interior data t \\in [0,2], x \\in [0,2]\n",
    "data_int = tf.Variable(np.random.rand(n,2) * 2, trainable=False, dtype=\"float32\")\n",
    "# t=0 data\n",
    "data_init = (np.random.rand(n,2) * 2)\n",
    "data_init[..., 0] = 0\n",
    "data_init = tf.constant(data_init, dtype=\"float32\")\n",
    "# x = 0 data\n",
    "data_left = np.random.rand(n,2) * 2\n",
    "data_left[..., 1] = 0\n",
    "data_left = tf.constant(data_left, dtype=\"float32\")\n",
    "# x = 2 data\n",
    "data_right = np.random.rand(n,2) * 2\n",
    "data_right[..., 1] = 2\n",
    "data_right = tf.constant(data_right, dtype=\"float32\")\n"
   ]
  },
  {
   "cell_type": "code",
   "execution_count": 6,
   "metadata": {},
   "outputs": [
    {
     "name": "stderr",
     "output_type": "stream",
     "text": [
      "100%|██████████| 50/50 [08:30<00:00, 10.22s/it]\n"
     ]
    }
   ],
   "source": [
    "l = heat_model.fit_SGD(data_int, data_init, data_left, data_right)"
   ]
  },
  {
   "cell_type": "code",
   "execution_count": 7,
   "metadata": {},
   "outputs": [
    {
     "data": {
      "image/png": "[encoded data removed]",
      "text/plain": [
       "<Figure size 432x288 with 1 Axes>"
      ]
     },
     "metadata": {
      "needs_background": "light"
     },
     "output_type": "display_data"
    }
   ],
   "source": [
    "plt.plot(l)\n",
    "plt.grid()\n",
    "plt.yscale(\"log\")"
   ]
  },
  {
   "cell_type": "code",
   "execution_count": 8,
   "metadata": {},
   "outputs": [],
   "source": [
    "T = np.arange(0, 1.5 + 0.1, 0.1)\n",
    "X = np.arange(0, 2 + 0.1, 0.1)\n",
    "A, B = np.meshgrid(X, T)\n",
    "grid = np.array([[t,x] for t in T for x in X])\n",
    "Z = heat_model.model(grid).numpy().reshape((len(T),len(X)))"
   ]
  },
  {
   "cell_type": "code",
   "execution_count": 9,
   "metadata": {},
   "outputs": [
    {
     "data": {
      "application/vnd.plotly.v1+json": {
       "config": {
        "plotlyServerURL": "https://plot.ly"
       },
       "data": [
        {
         "type": "surface",
         "x": [
          0,
          0.1,
          0.2,
          0.30000000000000004,
          0.4,
          0.5,
          0.6000000000000001,
          0.7000000000000001,
          0.8,
          0.9,
          1,
          1.1,
          1.2000000000000002,
          1.3,
          1.4000000000000001,
          1.5,
          1.6,
          1.7000000000000002,
          1.8,
          1.9000000000000001,
          2
         ],
         "y": [
          0,
          0.1,
          0.2,
          0.30000000000000004,
          0.4,
          0.5,
          0.6000000000000001,
          0.7000000000000001,
          0.8,
          0.9,
          1,
          1.1,
          1.2000000000000002,
          1.3,
          1.4000000000000001,
          1.5
         ],
         "z": [
          [
           -0.020916283130645752,
           0.02438044548034668,
           0.08361990749835968,
           0.1611965149641037,
           0.26006045937538147,
           0.37846702337265015,
           0.5088263750076294,
           0.6422958374023438,
           0.7727530002593994,
           0.8956882953643799,
           1.0057241916656494,
           1.0963170528411865,
           1.1609416007995605,
           1.1936527490615845,
           1.1883949041366577,
           1.1379698514938354,
           1.0340806245803833,
           0.86982262134552,
           0.6444669961929321,
           0.36709004640579224,
           0.05605340003967285
          ],
          [
           0.009816117584705353,
           0.09089063107967377,
           0.1730247586965561,
           0.2574828863143921,
           0.344423770904541,
           0.43303677439689636,
           0.5215699672698975,
           0.607257604598999,
           0.6865251064300537,
           0.7554048299789429,
           0.8096514940261841,
           0.8448622822761536,
           0.856883704662323,
           0.8422776460647583,
           0.7987155914306641,
           0.7253180742263794,
           0.6228924989700317,
           0.49395743012428284,
           0.34263181686401367,
           0.17455026507377625,
           -0.0034828931093215942
          ],
          [
           0.0012268871068954468,
           0.08483268320560455,
           0.16718490421772003,
           0.2473292052745819,
           0.3243641257286072,
           0.3970891237258911,
           0.4639647305011749,
           0.5232034921646118,
           0.5728135108947754,
           0.6107453107833862,
           0.6350357532501221,
           0.6438554525375366,
           0.6356413960456848,
           0.6093616485595703,
           0.5647338032722473,
           0.5023068189620972,
           0.4234136939048767,
           0.3300958275794983,
           0.22509893774986267,
           0.11194586753845215,
           -0.0051727294921875
          ],
          [
           0.0029488354921340942,
           0.0734587013721466,
           0.142978698015213,
           0.21022868156433105,
           0.2737647593021393,
           0.3320046067237854,
           0.38349801301956177,
           0.42687126994132996,
           0.4607933759689331,
           0.48413580656051636,
           0.49602219462394714,
           0.49577176570892334,
           0.48292216658592224,
           0.45734456181526184,
           0.4193527400493622,
           0.3697139024734497,
           0.3095998167991638,
           0.24054807424545288,
           0.1644851565361023,
           0.08376839756965637,
           0.0010991990566253662
          ],
          [
           0.005609959363937378,
           0.06269478797912598,
           0.11870506405830383,
           0.1723795235157013,
           0.22252696752548218,
           0.2679169178009033,
           0.3073708713054657,
           0.3398546874523163,
           0.36445873975753784,
           0.3804384469985962,
           0.3872644305229187,
           0.38462311029434204,
           0.37242212891578674,
           0.35083064436912537,
           0.3203027546405792,
           0.28157150745391846,
           0.23561722040176392,
           0.18364626169204712,
           0.12708482146263123,
           0.06755876541137695,
           0.006821304559707642
          ],
          [
           0.005788892507553101,
           0.05156564712524414,
           0.09630860388278961,
           0.13889595866203308,
           0.1783081591129303,
           0.21362709999084473,
           0.24403062462806702,
           0.2687973976135254,
           0.2872968316078186,
           0.2990112900733948,
           0.30357152223587036,
           0.3007766306400299,
           0.2906217575073242,
           0.27331897616386414,
           0.24930605292320251,
           0.2192288637161255,
           0.18390890955924988,
           0.1443111002445221,
           0.10150578618049622,
           0.056633174419403076,
           0.010848701000213623
          ],
          [
           0.004918932914733887,
           0.04125973582267761,
           0.07670962810516357,
           0.11040785908699036,
           0.1415252387523651,
           0.16931003332138062,
           0.1931048035621643,
           0.21236485242843628,
           0.2266426980495453,
           0.2355842888355255,
           0.23894479870796204,
           0.23660176992416382,
           0.22857412695884705,
           0.215046226978302,
           0.1963808536529541,
           0.17310720682144165,
           0.14588892459869385,
           0.1154804527759552,
           0.08268627524375916,
           0.04832184314727783,
           0.013174057006835938
          ],
          [
           0.004112571477890015,
           0.03271615505218506,
           0.06060078740119934,
           0.08713924884796143,
           0.11168360710144043,
           0.1336396336555481,
           0.15246433019638062,
           0.16769376397132874,
           0.17896106839179993,
           0.18599927425384521,
           0.1886453926563263,
           0.18684467673301697,
           0.1806468367576599,
           0.17020964622497559,
           0.15581351518630981,
           0.1378626525402069,
           0.11686089634895325,
           0.09338030219078064,
           0.06802168488502502,
           0.041380375623703,
           0.014016509056091309
          ],
          [
           0.0036663413047790527,
           0.026076972484588623,
           0.04794144630432129,
           0.06879368424415588,
           0.08811822533607483,
           0.1054498553276062,
           0.12036794424057007,
           0.1324903964996338,
           0.14150023460388184,
           0.14716836810112,
           0.1493617594242096,
           0.1480523645877838,
           0.14330777525901794,
           0.13527968525886536,
           0.12419036030769348,
           0.11033803224563599,
           0.09408843517303467,
           0.0758582055568695,
           0.05608925223350525,
           0.035220056772232056,
           0.01366358995437622
          ],
          [
           0.0035255253314971924,
           0.021076440811157227,
           0.03823286294937134,
           0.054632365703582764,
           0.06985211372375488,
           0.08352106809616089,
           0.09532025456428528,
           0.10495749115943909,
           0.11217501759529114,
           0.11677506566047668,
           0.11863848567008972,
           0.1177319586277008,
           0.11411029100418091,
           0.10790634155273438,
           0.09930968284606934,
           0.08855140209197998,
           0.07589638233184814,
           0.06164008378982544,
           0.046098679304122925,
           0.02959248423576355,
           0.012429535388946533
          ],
          [
           0.003563821315765381,
           0.017348021268844604,
           0.030855000019073486,
           0.04378986358642578,
           0.05580231547355652,
           0.06658902764320374,
           0.0759059488773346,
           0.08353817462921143,
           0.08929023146629333,
           0.09300103783607483,
           0.0945669412612915,
           0.09395134449005127,
           0.09118258953094482,
           0.08635610342025757,
           0.07962337136268616,
           0.0711725652217865,
           0.061208248138427734,
           0.04994514584541321,
           0.03760671615600586,
           0.024421483278274536,
           0.010616928339004517
          ],
          [
           0.0036773681640625,
           0.014553099870681763,
           0.025234907865524292,
           0.03547459840774536,
           0.0449807345867157,
           0.053505003452301025,
           0.06085553765296936,
           0.06687533855438232,
           0.07142335176467896,
           0.07437729835510254,
           0.0756506621837616,
           0.07520714402198792,
           0.07306274771690369,
           0.06927695870399475,
           0.06395357847213745,
           0.05723404884338379,
           0.04928305745124817,
           0.0402684211730957,
           0.03035557270050049,
           0.019707977771759033,
           0.008488863706588745
          ],
          [
           0.0037975311279296875,
           0.012419581413269043,
           0.020904093980789185,
           0.029037505388259888,
           0.036577433347702026,
           0.04332253336906433,
           0.049119383096694946,
           0.05384856462478638,
           0.05741128325462341,
           0.059722572565078735,
           0.06071358919143677,
           0.06034994125366211,
           0.058638542890548706,
           0.05562359094619751,
           0.051373571157455444,
           0.04598018527030945,
           0.03956121206283569,
           0.03225019574165344,
           0.024180293083190918,
           0.015476346015930176,
           0.0062573254108428955
          ],
          [
           0.0038826167583465576,
           0.010743468999862671,
           0.017503440380096436,
           0.02397671341896057,
           0.029963761568069458,
           0.03530400991439819,
           0.0398731529712677,
           0.04357558488845825,
           0.046339720487594604,
           0.048110008239746094,
           0.04883986711502075,
           0.04849812388420105,
           0.04708138108253479,
           0.04462236166000366,
           0.041176557540893555,
           0.036806851625442505,
           0.031584084033966064,
           0.02559724450111389,
           0.018949419260025024,
           0.011745989322662354,
           0.004081010818481445
          ],
          [
           0.003912001848220825,
           0.009379982948303223,
           0.014769822359085083,
           0.01992008090019226,
           0.024669259786605835,
           0.028892964124679565,
           0.032490700483322144,
           0.03538087010383606,
           0.03750482201576233,
           0.03882822394371033,
           0.039324790239334106,
           0.03897249698638916,
           0.03776127099990845,
           0.035706788301467896,
           0.0328536331653595,
           0.029259026050567627,
           0.024973005056381226,
           0.02004292607307434,
           0.014529168605804443,
           0.00851026177406311,
           0.002068161964416504
          ],
          [
           0.0038771331310272217,
           0.0082283616065979,
           0.012515723705291748,
           0.016598999500274658,
           0.02034968137741089,
           0.023677527904510498,
           0.026503771543502808,
           0.028753608465194702,
           0.030372709035873413,
           0.03133594989776611,
           0.031633585691452026,
           0.03125569224357605,
           0.030191779136657715,
           0.02844342589378357,
           0.026036828756332397,
           0.02302151918411255,
           0.019450992345809937,
           0.015360027551651001,
           0.010772228240966797,
           0.0057242512702941895,
           0.00027254223823547363
          ]
         ]
        }
       ],
       "layout": {
        "margin": {
         "b": 65,
         "l": 65,
         "r": 50,
         "t": 90
        },
        "template": {
         "data": {
          "bar": [
           {
            "error_x": {
             "color": "#2a3f5f"
            },
            "error_y": {
             "color": "#2a3f5f"
            },
            "marker": {
             "line": {
              "color": "#E5ECF6",
              "width": 0.5
             },
             "pattern": {
              "fillmode": "overlay",
              "size": 10,
              "solidity": 0.2
             }
            },
            "type": "bar"
           }
          ],
          "barpolar": [
           {
            "marker": {
             "line": {
              "color": "#E5ECF6",
              "width": 0.5
             },
             "pattern": {
              "fillmode": "overlay",
              "size": 10,
              "solidity": 0.2
             }
            },
            "type": "barpolar"
           }
          ],
          "carpet": [
           {
            "aaxis": {
             "endlinecolor": "#2a3f5f",
             "gridcolor": "white",
             "linecolor": "white",
             "minorgridcolor": "white",
             "startlinecolor": "#2a3f5f"
            },
            "baxis": {
             "endlinecolor": "#2a3f5f",
             "gridcolor": "white",
             "linecolor": "white",
             "minorgridcolor": "white",
             "startlinecolor": "#2a3f5f"
            },
            "type": "carpet"
           }
          ],
          "choropleth": [
           {
            "colorbar": {
             "outlinewidth": 0,
             "ticks": ""
            },
            "type": "choropleth"
           }
          ],
          "contour": [
           {
            "colorbar": {
             "outlinewidth": 0,
             "ticks": ""
            },
            "colorscale": [
             [
              0,
              "#0d0887"
             ],
             [
              0.1111111111111111,
              "#46039f"
             ],
             [
              0.2222222222222222,
              "#7201a8"
             ],
             [
              0.3333333333333333,
              "#9c179e"
             ],
             [
              0.4444444444444444,
              "#bd3786"
             ],
             [
              0.5555555555555556,
              "#d8576b"
             ],
             [
              0.6666666666666666,
              "#ed7953"
             ],
             [
              0.7777777777777778,
              "#fb9f3a"
             ],
             [
              0.8888888888888888,
              "#fdca26"
             ],
             [
              1,
              "#f0f921"
             ]
            ],
            "type": "contour"
           }
          ],
          "contourcarpet": [
           {
            "colorbar": {
             "outlinewidth": 0,
             "ticks": ""
            },
            "type": "contourcarpet"
           }
          ],
          "heatmap": [
           {
            "colorbar": {
             "outlinewidth": 0,
             "ticks": ""
            },
            "colorscale": [
             [
              0,
              "#0d0887"
             ],
             [
              0.1111111111111111,
              "#46039f"
             ],
             [
              0.2222222222222222,
              "#7201a8"
             ],
             [
              0.3333333333333333,
              "#9c179e"
             ],
             [
              0.4444444444444444,
              "#bd3786"
             ],
             [
              0.5555555555555556,
              "#d8576b"
             ],
             [
              0.6666666666666666,
              "#ed7953"
             ],
             [
              0.7777777777777778,
              "#fb9f3a"
             ],
             [
              0.8888888888888888,
              "#fdca26"
             ],
             [
              1,
              "#f0f921"
             ]
            ],
            "type": "heatmap"
           }
          ],
          "heatmapgl": [
           {
            "colorbar": {
             "outlinewidth": 0,
             "ticks": ""
            },
            "colorscale": [
             [
              0,
              "#0d0887"
             ],
             [
              0.1111111111111111,
              "#46039f"
             ],
             [
              0.2222222222222222,
              "#7201a8"
             ],
             [
              0.3333333333333333,
              "#9c179e"
             ],
             [
              0.4444444444444444,
              "#bd3786"
             ],
             [
              0.5555555555555556,
              "#d8576b"
             ],
             [
              0.6666666666666666,
              "#ed7953"
             ],
             [
              0.7777777777777778,
              "#fb9f3a"
             ],
             [
              0.8888888888888888,
              "#fdca26"
             ],
             [
              1,
              "#f0f921"
             ]
            ],
            "type": "heatmapgl"
           }
          ],
          "histogram": [
           {
            "marker": {
             "pattern": {
              "fillmode": "overlay",
              "size": 10,
              "solidity": 0.2
             }
            },
            "type": "histogram"
           }
          ],
          "histogram2d": [
           {
            "colorbar": {
             "outlinewidth": 0,
             "ticks": ""
            },
            "colorscale": [
             [
              0,
              "#0d0887"
             ],
             [
              0.1111111111111111,
              "#46039f"
             ],
             [
              0.2222222222222222,
              "#7201a8"
             ],
             [
              0.3333333333333333,
              "#9c179e"
             ],
             [
              0.4444444444444444,
              "#bd3786"
             ],
             [
              0.5555555555555556,
              "#d8576b"
             ],
             [
              0.6666666666666666,
              "#ed7953"
             ],
             [
              0.7777777777777778,
              "#fb9f3a"
             ],
             [
              0.8888888888888888,
              "#fdca26"
             ],
             [
              1,
              "#f0f921"
             ]
            ],
            "type": "histogram2d"
           }
          ],
          "histogram2dcontour": [
           {
            "colorbar": {
             "outlinewidth": 0,
             "ticks": ""
            },
            "colorscale": [
             [
              0,
              "#0d0887"
             ],
             [
              0.1111111111111111,
              "#46039f"
             ],
             [
              0.2222222222222222,
              "#7201a8"
             ],
             [
              0.3333333333333333,
              "#9c179e"
             ],
             [
              0.4444444444444444,
              "#bd3786"
             ],
             [
              0.5555555555555556,
              "#d8576b"
             ],
             [
              0.6666666666666666,
              "#ed7953"
             ],
             [
              0.7777777777777778,
              "#fb9f3a"
             ],
             [
              0.8888888888888888,
              "#fdca26"
             ],
             [
              1,
              "#f0f921"
             ]
            ],
            "type": "histogram2dcontour"
           }
          ],
          "mesh3d": [
           {
            "colorbar": {
             "outlinewidth": 0,
             "ticks": ""
            },
            "type": "mesh3d"
           }
          ],
          "parcoords": [
           {
            "line": {
             "colorbar": {
              "outlinewidth": 0,
              "ticks": ""
             }
            },
            "type": "parcoords"
           }
          ],
          "pie": [
           {
            "automargin": true,
            "type": "pie"
           }
          ],
          "scatter": [
           {
            "marker": {
             "colorbar": {
              "outlinewidth": 0,
              "ticks": ""
             }
            },
            "type": "scatter"
           }
          ],
          "scatter3d": [
           {
            "line": {
             "colorbar": {
              "outlinewidth": 0,
              "ticks": ""
             }
            },
            "marker": {
             "colorbar": {
              "outlinewidth": 0,
              "ticks": ""
             }
            },
            "type": "scatter3d"
           }
          ],
          "scattercarpet": [
           {
            "marker": {
             "colorbar": {
              "outlinewidth": 0,
              "ticks": ""
             }
            },
            "type": "scattercarpet"
           }
          ],
          "scattergeo": [
           {
            "marker": {
             "colorbar": {
              "outlinewidth": 0,
              "ticks": ""
             }
            },
            "type": "scattergeo"
           }
          ],
          "scattergl": [
           {
            "marker": {
             "colorbar": {
              "outlinewidth": 0,
              "ticks": ""
             }
            },
            "type": "scattergl"
           }
          ],
          "scattermapbox": [
           {
            "marker": {
             "colorbar": {
              "outlinewidth": 0,
              "ticks": ""
             }
            },
            "type": "scattermapbox"
           }
          ],
          "scatterpolar": [
           {
            "marker": {
             "colorbar": {
              "outlinewidth": 0,
              "ticks": ""
             }
            },
            "type": "scatterpolar"
           }
          ],
          "scatterpolargl": [
           {
            "marker": {
             "colorbar": {
              "outlinewidth": 0,
              "ticks": ""
             }
            },
            "type": "scatterpolargl"
           }
          ],
          "scatterternary": [
           {
            "marker": {
             "colorbar": {
              "outlinewidth": 0,
              "ticks": ""
             }
            },
            "type": "scatterternary"
           }
          ],
          "surface": [
           {
            "colorbar": {
             "outlinewidth": 0,
             "ticks": ""
            },
            "colorscale": [
             [
              0,
              "#0d0887"
             ],
             [
              0.1111111111111111,
              "#46039f"
             ],
             [
              0.2222222222222222,
              "#7201a8"
             ],
             [
              0.3333333333333333,
              "#9c179e"
             ],
             [
              0.4444444444444444,
              "#bd3786"
             ],
             [
              0.5555555555555556,
              "#d8576b"
             ],
             [
              0.6666666666666666,
              "#ed7953"
             ],
             [
              0.7777777777777778,
              "#fb9f3a"
             ],
             [
              0.8888888888888888,
              "#fdca26"
             ],
             [
              1,
              "#f0f921"
             ]
            ],
            "type": "surface"
           }
          ],
          "table": [
           {
            "cells": {
             "fill": {
              "color": "#EBF0F8"
             },
             "line": {
              "color": "white"
             }
            },
            "header": {
             "fill": {
              "color": "#C8D4E3"
             },
             "line": {
              "color": "white"
             }
            },
            "type": "table"
           }
          ]
         },
         "layout": {
          "annotationdefaults": {
           "arrowcolor": "#2a3f5f",
           "arrowhead": 0,
           "arrowwidth": 1
          },
          "autotypenumbers": "strict",
          "coloraxis": {
           "colorbar": {
            "outlinewidth": 0,
            "ticks": ""
           }
          },
          "colorscale": {
           "diverging": [
            [
             0,
             "#8e0152"
            ],
            [
             0.1,
             "#c51b7d"
            ],
            [
             0.2,
             "#de77ae"
            ],
            [
             0.3,
             "#f1b6da"
            ],
            [
             0.4,
             "#fde0ef"
            ],
            [
             0.5,
             "#f7f7f7"
            ],
            [
             0.6,
             "#e6f5d0"
            ],
            [
             0.7,
             "#b8e186"
            ],
            [
             0.8,
             "#7fbc41"
            ],
            [
             0.9,
             "#4d9221"
            ],
            [
             1,
             "#276419"
            ]
           ],
           "sequential": [
            [
             0,
             "#0d0887"
            ],
            [
             0.1111111111111111,
             "#46039f"
            ],
            [
             0.2222222222222222,
             "#7201a8"
            ],
            [
             0.3333333333333333,
             "#9c179e"
            ],
            [
             0.4444444444444444,
             "#bd3786"
            ],
            [
             0.5555555555555556,
             "#d8576b"
            ],
            [
             0.6666666666666666,
             "#ed7953"
            ],
            [
             0.7777777777777778,
             "#fb9f3a"
            ],
            [
             0.8888888888888888,
             "#fdca26"
            ],
            [
             1,
             "#f0f921"
            ]
           ],
           "sequentialminus": [
            [
             0,
             "#0d0887"
            ],
            [
             0.1111111111111111,
             "#46039f"
            ],
            [
             0.2222222222222222,
             "#7201a8"
            ],
            [
             0.3333333333333333,
             "#9c179e"
            ],
            [
             0.4444444444444444,
             "#bd3786"
            ],
            [
             0.5555555555555556,
             "#d8576b"
            ],
            [
             0.6666666666666666,
             "#ed7953"
            ],
            [
             0.7777777777777778,
             "#fb9f3a"
            ],
            [
             0.8888888888888888,
             "#fdca26"
            ],
            [
             1,
             "#f0f921"
            ]
           ]
          },
          "colorway": [
           "#636efa",
           "#EF553B",
           "#00cc96",
           "#ab63fa",
           "#FFA15A",
           "#19d3f3",
           "#FF6692",
           "#B6E880",
           "#FF97FF",
           "#FECB52"
          ],
          "font": {
           "color": "#2a3f5f"
          },
          "geo": {
           "bgcolor": "white",
           "lakecolor": "white",
           "landcolor": "#E5ECF6",
           "showlakes": true,
           "showland": true,
           "subunitcolor": "white"
          },
          "hoverlabel": {
           "align": "left"
          },
          "hovermode": "closest",
          "mapbox": {
           "style": "light"
          },
          "paper_bgcolor": "white",
          "plot_bgcolor": "#E5ECF6",
          "polar": {
           "angularaxis": {
            "gridcolor": "white",
            "linecolor": "white",
            "ticks": ""
           },
           "bgcolor": "#E5ECF6",
           "radialaxis": {
            "gridcolor": "white",
            "linecolor": "white",
            "ticks": ""
           }
          },
          "scene": {
           "xaxis": {
            "backgroundcolor": "#E5ECF6",
            "gridcolor": "white",
            "gridwidth": 2,
            "linecolor": "white",
            "showbackground": true,
            "ticks": "",
            "zerolinecolor": "white"
           },
           "yaxis": {
            "backgroundcolor": "#E5ECF6",
            "gridcolor": "white",
            "gridwidth": 2,
            "linecolor": "white",
            "showbackground": true,
            "ticks": "",
            "zerolinecolor": "white"
           },
           "zaxis": {
            "backgroundcolor": "#E5ECF6",
            "gridcolor": "white",
            "gridwidth": 2,
            "linecolor": "white",
            "showbackground": true,
            "ticks": "",
            "zerolinecolor": "white"
           }
          },
          "shapedefaults": {
           "line": {
            "color": "#2a3f5f"
           }
          },
          "ternary": {
           "aaxis": {
            "gridcolor": "white",
            "linecolor": "white",
            "ticks": ""
           },
           "baxis": {
            "gridcolor": "white",
            "linecolor": "white",
            "ticks": ""
           },
           "bgcolor": "#E5ECF6",
           "caxis": {
            "gridcolor": "white",
            "linecolor": "white",
            "ticks": ""
           }
          },
          "title": {
           "x": 0.05
          },
          "xaxis": {
           "automargin": true,
           "gridcolor": "white",
           "linecolor": "white",
           "ticks": "",
           "title": {
            "standoff": 15
           },
           "zerolinecolor": "white",
           "zerolinewidth": 2
          },
          "yaxis": {
           "automargin": true,
           "gridcolor": "white",
           "linecolor": "white",
           "ticks": "",
           "title": {
            "standoff": 15
           },
           "zerolinecolor": "white",
           "zerolinewidth": 2
          }
         }
        },
        "title": {
         "text": "Heat Equation"
        }
       }
      }
     },
     "metadata": {},
     "output_type": "display_data"
    }
   ],
   "source": [
    "fig = go.Figure(data=[go.Surface(z=Z, x=X, y=T)])\n",
    "\n",
    "fig.update_layout(title='Heat Equation', margin=dict(l=65, r=50, b=65, t=90))\n",
    "\n",
    "fig.show()"
   ]
  },
  {
   "cell_type": "code",
   "execution_count": null,
   "metadata": {},
   "outputs": [],
   "source": []
  },
  {
   "cell_type": "markdown",
   "metadata": {},
   "source": [
    "### Second example"
   ]
  },
  {
   "cell_type": "markdown",
   "metadata": {},
   "source": [
    "Heat Equation with Dirichlet boundary conditions on $[0,1]\\times[-1,1]$:\n",
    "\n",
    "\\begin{align}\n",
    "\\partial_t u(t,x) - \\partial^2_{xx}u(t,x) &= -e^{-t}(sin(\\pi x) - \\pi^2 sin(\\pi x)) \\\\\n",
    "u(0,x) &= sin(\\pi x)\\\\\n",
    "u(t,-1) &= u(t, 1) = 0\n",
    "\\end{align}\n",
    "\n",
    "With exact solution\n",
    "\n",
    "\\begin{align}\n",
    "u(t,x) = e^{-t} sin(\\pi x)\n",
    "\\end{align}"
   ]
  },
  {
   "cell_type": "code",
   "execution_count": 9,
   "metadata": {},
   "outputs": [],
   "source": [
    "class HeatModel2:\n",
    "    # 1D Heat equation PINN-solver. It contains its own nn.\n",
    "    def __init__(self):\n",
    "\n",
    "        self.model = Network([2,40,40,40,40,40,40,40,40,40,1]).build()\n",
    "    \n",
    "    def init_condition(self, data):\n",
    "        n = data.shape[0]\n",
    "        return tf.reshape(tf.math.sin(data[...,1] * np.pi), shape=(n,1))\n",
    "    \n",
    "    def rhs(self, data):\n",
    "        n = data.shape[0]\n",
    "        r = -tf.math.exp(-data[...,0]) * (tf.math.sin(data[...,1] * np.pi) - (np.pi**2) * tf.math.sin(data[...,1] * np.pi))\n",
    "        return tf.reshape(r, shape=(n,1))\n",
    "    \n",
    "    ##################### LOSS METHODS ###########################\n",
    "\n",
    "    def pde_loss(self, data):\n",
    "\n",
    "        # Error given by the PDE over data.\n",
    "        \n",
    "        r = self.rhs(data)\n",
    "        with tf.GradientTape() as tape2:\n",
    "            tape2.watch(data)\n",
    "            with tf.GradientTape() as tape1:\n",
    "                tape1.watch(data)\n",
    "                u = self.model(data)\n",
    "            u_z = tape1.batch_jacobian(u, data)\n",
    "        u_zz = tape2.batch_jacobian(u_z, data)\n",
    "        u_t = u_z[...,0,0]\n",
    "        u_xx = u_zz[...,0,1,1]\n",
    "        return tf.reduce_mean(tf.math.square(u_t - u_xx - r))\n",
    "\n",
    "    def boundary_loss(self, data_init, data_left, data_right):\n",
    "        l1 = tf.reduce_mean(tf.math.square(self.model(data_left)))\n",
    "        l2 = tf.reduce_mean(tf.math.square(self.model(data_right)))\n",
    "        l3 = tf.reduce_mean(tf.math.square(self.model(data_init) - self.init_condition(data_init)))\n",
    "        return l1 + l2 + l3\n",
    "    \n",
    "    def total_loss(self, data_int, data_init, data_left, data_right):\n",
    "        \n",
    "        return self.boundary_loss(data_init, data_left, data_right) + self.pde_loss(data_int)\n",
    "    ##################### TRAINING METHODS ###########################\n",
    "    \n",
    "    @tf.function\n",
    "    def gradients(self, data_int, data_init, data_left, data_right):\n",
    "        with tf.GradientTape() as tape:\n",
    "            tape.watch(self.model.trainable_variables)\n",
    "            target = self.total_loss(data_int, data_init, data_left, data_right)\n",
    "        return target, tape.gradient(target, self.model.trainable_variables)\n",
    "\n",
    "    def fit_SGD(self, data_int, data_init, data_left, data_right):\n",
    "        # Random mini-batch\n",
    "        n = data_int.shape[0]\n",
    "        l = []\n",
    "        optimizer = tf.keras.optimizers.SGD(learning_rate=0.001)\n",
    "        b = 50\n",
    "        for _ in tqdm(tf.range(1000)):\n",
    "            i = np.random.randint(n - b)\n",
    "            target, gradients = self.gradients(data_int[i:i+b], data_init[i:i+b], data_left[i:i+b], data_right[i:i+b])\n",
    "            optimizer.apply_gradients(zip(gradients, self.model.trainable_variables))\n",
    "            l.append(target)\n",
    "        return l\n",
    "    \n",
    "    def fit(self, data_int, data_init, data_left, data_right):\n",
    "        n = data_int.shape[0]\n",
    "        l = []\n",
    "        optimizer = tf.keras.optimizers.SGD(learning_rate=0.01)\n",
    "        b = 100\n",
    "        for epoch in tqdm(tf.range(15)):\n",
    "            for i in tf.range(n - b):\n",
    "                i = tf.cast(i, tf.int32)\n",
    "                target, gradients = self.gradients(data_int[i:i+b], data_init[i:i+b], data_left[i:i+b], data_right[i:i+b])\n",
    "                optimizer.apply_gradients(zip(gradients, self.model.trainable_variables))\n",
    "            l.append(target)\n",
    "        return l"
   ]
  },
  {
   "cell_type": "code",
   "execution_count": 10,
   "metadata": {},
   "outputs": [],
   "source": [
    "model2 = HeatModel2()\n"
   ]
  },
  {
   "cell_type": "code",
   "execution_count": 11,
   "metadata": {},
   "outputs": [],
   "source": [
    "# batch_size\n",
    "n = 250\n",
    "# Interior data t \\in [0,1], x \\in [-1,1]\n",
    "data_int = np.random.rand(n, 2)\n",
    "data_int[..., 1] = data_int[..., 1]*2 - 1\n",
    "data_int = tf.Variable(data_int, trainable=False, dtype=\"float32\")\n",
    "# t=0 data\n",
    "data_init = np.random.rand(n,2) * 2 - 1\n",
    "data_init[..., 0] = 0\n",
    "data_init = tf.constant(data_init, dtype=\"float32\")\n",
    "# x = -1 data\n",
    "data_left = np.random.rand(n,2) * 2 - 1\n",
    "data_left[..., 1] = -1\n",
    "data_left = tf.constant(data_left, dtype=\"float32\")\n",
    "# x = 2 data\n",
    "data_right = np.random.rand(n,2) * 2 - 1\n",
    "data_right[..., 1] = 1\n",
    "data_right = tf.constant(data_right, dtype=\"float32\")"
   ]
  },
  {
   "cell_type": "code",
   "execution_count": 12,
   "metadata": {},
   "outputs": [
    {
     "name": "stderr",
     "output_type": "stream",
     "text": [
      "100%|██████████| 1000/1000 [00:15<00:00, 64.67it/s]\n"
     ]
    }
   ],
   "source": [
    "l = model2.fit_SGD(data_int, data_init, data_left, data_right)"
   ]
  },
  {
   "cell_type": "code",
   "execution_count": 13,
   "metadata": {},
   "outputs": [
    {
     "data": {
      "image/png": "[encoded data removed]",
      "text/plain": [
       "<Figure size 432x288 with 1 Axes>"
      ]
     },
     "metadata": {
      "needs_background": "light"
     },
     "output_type": "display_data"
    }
   ],
   "source": [
    "plt.plot(l)\n",
    "plt.grid()\n",
    "plt.yscale(\"log\")"
   ]
  },
  {
   "cell_type": "code",
   "execution_count": 17,
   "metadata": {},
   "outputs": [],
   "source": [
    "T = np.arange(0, 2 + 0.1, 0.1)\n",
    "X = np.arange(-1, 1, 0.1)\n",
    "grid = np.array([[t,x] for t in T for x in X])\n",
    "Z = model2.model(grid).numpy().reshape((len(T),len(X)))"
   ]
  },
  {
   "cell_type": "code",
   "execution_count": 18,
   "metadata": {},
   "outputs": [
    {
     "data": {
      "application/vnd.plotly.v1+json": {
       "config": {
        "plotlyServerURL": "https://plot.ly"
       },
       "data": [
        {
         "type": "surface",
         "x": [
          -1,
          -0.9,
          -0.8,
          -0.7000000000000001,
          -0.6000000000000001,
          -0.5000000000000001,
          -0.40000000000000013,
          -0.30000000000000016,
          -0.20000000000000018,
          -0.1000000000000002,
          -2.220446049250313e-16,
          0.09999999999999964,
          0.19999999999999973,
          0.2999999999999998,
          0.3999999999999997,
          0.49999999999999956,
          0.5999999999999996,
          0.6999999999999997,
          0.7999999999999996,
          0.8999999999999995
         ],
         "y": [
          0,
          0.1,
          0.2,
          0.30000000000000004,
          0.4,
          0.5,
          0.6000000000000001,
          0.7000000000000001,
          0.8,
          0.9,
          1,
          1.1,
          1.2000000000000002,
          1.3,
          1.4000000000000001,
          1.5,
          1.6,
          1.7000000000000002,
          1.8,
          1.9000000000000001,
          2
         ],
         "z": [
          [
           -0.26965975761413574,
           -0.26339492201805115,
           -0.2560727894306183,
           -0.24759060144424438,
           -0.23730823397636414,
           -0.222708061337471,
           -0.1976904720067978,
           -0.1537538468837738,
           -0.08868430554866791,
           -0.01108686625957489,
           0.07143238186836243,
           0.15724700689315796,
           0.24381104111671448,
           0.3198593854904175,
           0.38091421127319336,
           0.4331817626953125,
           0.45490846037864685,
           0.4179212749004364,
           0.36469408869743347,
           0.30741310119628906
          ],
          [
           -0.2539166808128357,
           -0.24513079226016998,
           -0.23504243791103363,
           -0.22329269349575043,
           -0.208941251039505,
           -0.18954716622829437,
           -0.1603192687034607,
           -0.11647737771272659,
           -0.06020154803991318,
           0.0018286705017089844,
           0.06641796231269836,
           0.13128434121608734,
           0.19406014680862427,
           0.25049272179603577,
           0.2979910671710968,
           0.33781570196151733,
           0.36501336097717285,
           0.35652464628219604,
           0.3248889744281769,
           0.2854882478713989
          ],
          [
           -0.23194169998168945,
           -0.22082816064357758,
           -0.20820964872837067,
           -0.19363662600517273,
           -0.17612750828266144,
           -0.15366768836975098,
           -0.1231091320514679,
           -0.08270149677991867,
           -0.036318905651569366,
           0.011929512023925781,
           0.06154690682888031,
           0.10984012484550476,
           0.15422353148460388,
           0.19401776790618896,
           0.22857189178466797,
           0.2562093734741211,
           0.2764906883239746,
           0.2818533778190613,
           0.26890629529953003,
           0.24538739025592804
          ],
          [
           -0.20791620016098022,
           -0.1948244869709015,
           -0.18009427189826965,
           -0.16329750418663025,
           -0.14363935589790344,
           -0.11981305480003357,
           -0.09026075154542923,
           -0.05498819053173065,
           -0.017689526081085205,
           0.019348472356796265,
           0.05681648850440979,
           0.09235818684101105,
           0.12359750270843506,
           0.15072950720787048,
           0.17401567101478577,
           0.19124871492385864,
           0.20234030485153198,
           0.20783376693725586,
           0.20439425110816956,
           0.1916060596704483
          ],
          [
           -0.1837550550699234,
           -0.1690729558467865,
           -0.15273097157478333,
           -0.13440293073654175,
           -0.11361797899007797,
           -0.08989781886339188,
           -0.06297894567251205,
           -0.033484846353530884,
           -0.003907337784767151,
           0.024448171257972717,
           0.05232839286327362,
           0.07812054455280304,
           0.10002841055393219,
           0.11804303526878357,
           0.13249316811561584,
           0.14183825254440308,
           0.14569467306137085,
           0.1463611125946045,
           0.14306822419166565,
           0.1336216926574707
          ],
          [
           -0.16013896465301514,
           -0.14429156482219696,
           -0.12691272795200348,
           -0.10782448947429657,
           -0.08693856745958328,
           -0.06453967094421387,
           -0.0412326455116272,
           -0.017519429326057434,
           0.005607098340988159,
           0.027330726385116577,
           0.047785788774490356,
           0.06606192886829376,
           0.08112551271915436,
           0.09270825982093811,
           0.1009049117565155,
           0.10497936606407166,
           0.10442553460597992,
           0.10087499022483826,
           0.09410491585731506,
           0.08267806470394135
          ],
          [
           -0.13725480437278748,
           -0.12071733176708221,
           -0.10293369740247726,
           -0.08389920741319656,
           -0.06388428807258606,
           -0.04374810308218002,
           -0.02450065314769745,
           -0.006182461977005005,
           0.01149614155292511,
           0.027997806668281555,
           0.042687416076660156,
           0.05510275065898895,
           0.06501336395740509,
           0.07217039167881012,
           0.07641501724720001,
           0.07746784389019012,
           0.07491457462310791,
           0.0692823976278305,
           0.05990803241729736,
           0.04576791822910309
          ],
          [
           -0.11519284546375275,
           -0.09848516434431076,
           -0.080950066447258,
           -0.06274939328432083,
           -0.04444269835948944,
           -0.027213245630264282,
           -0.012088090181350708,
           0.0014262273907661438,
           0.01445019245147705,
           0.02661272883415222,
           0.03672391176223755,
           0.04456886649131775,
           0.05063484609127045,
           0.05493202805519104,
           0.05704036355018616,
           0.05672614276409149,
           0.05379505455493927,
           0.048017919063568115,
           0.038210928440093994,
           0.023570016026496887
          ],
          [
           -0.09411527216434479,
           -0.0777684897184372,
           -0.061096712946891785,
           -0.04439987242221832,
           -0.028431758284568787,
           -0.014460548758506775,
           -0.003266766667366028,
           0.006101444363594055,
           0.015149161219596863,
           0.023592740297317505,
           0.030048862099647522,
           0.034468069672584534,
           0.037851929664611816,
           0.04047563672065735,
           0.041637033224105835,
           0.040943145751953125,
           0.03850749135017395,
           0.03388836979866028,
           0.02553020417690277,
           0.012963473796844482
          ],
          [
           -0.07427667826414108,
           -0.05878317356109619,
           -0.04349169880151749,
           -0.02880515158176422,
           -0.015568181872367859,
           -0.004950396716594696,
           0.0026440024375915527,
           0.008501403033733368,
           0.01421046257019043,
           0.01955738663673401,
           0.023306384682655334,
           0.025497794151306152,
           0.027255922555923462,
           0.028909623622894287,
           0.029615819454193115,
           0.028942212462425232,
           0.027341797947883606,
           0.024562418460845947,
           0.018873825669288635,
           0.010066226124763489
          ],
          [
           -0.05596715956926346,
           -0.04173116385936737,
           -0.02820262312889099,
           -0.015846803784370422,
           -0.0055130720138549805,
           0.0018412470817565918,
           0.006227165460586548,
           0.009158089756965637,
           0.012176364660263062,
           0.015224263072013855,
           0.017419517040252686,
           0.018642455339431763,
           0.01955580711364746,
           0.02040262520313263,
           0.02061992883682251,
           0.020013824105262756,
           0.019293129444122314,
           0.01856737583875656,
           0.01613694429397583,
           0.011747732758522034
          ],
          [
           -0.03944544494152069,
           -0.026752978563308716,
           -0.015218555927276611,
           -0.005340978503227234,
           0.0020866990089416504,
           0.006380729377269745,
           0.007957607507705688,
           0.008502557873725891,
           0.009540453553199768,
           0.011299699544906616,
           0.013225793838500977,
           0.014522522687911987,
           0.014916256070137024,
           0.014798611402511597,
           0.014346271753311157,
           0.01376129686832428,
           0.013851553201675415,
           0.015075743198394775,
           0.01596193015575409,
           0.015895813703536987
          ],
          [
           -0.024879544973373413,
           -0.013891637325286865,
           -0.004448816180229187,
           0.002937115728855133,
           0.007563330233097076,
           0.009052380919456482,
           0.008211985230445862,
           0.006912708282470703,
           0.0067696720361709595,
           0.008368819952011108,
           0.011136054992675781,
           0.013005584478378296,
           0.01284666359424591,
           0.011671274900436401,
           0.010511785745620728,
           0.009930983185768127,
           0.01072104275226593,
           0.013606235384941101,
           0.01747310161590576,
           0.02117428183555603
          ],
          [
           -0.012323610484600067,
           -0.0030921250581741333,
           0.004263535141944885,
           0.009225472807884216,
           0.011208347976207733,
           0.010164424777030945,
           0.007309660315513611,
           0.004755154252052307,
           0.004312992095947266,
           0.006792411208152771,
           0.01100747287273407,
           0.013395160436630249,
           0.012616708874702454,
           0.010546907782554626,
           0.008826255798339844,
           0.008251078426837921,
           0.009592004120349884,
           0.013757973909378052,
           0.02004414051771164,
           0.02676205337047577
          ],
          [
           -0.0017261654138565063,
           0.005775667726993561,
           0.011105872690677643,
           0.013748392462730408,
           0.013261355459690094,
           0.009974926710128784,
           0.005554854869842529,
           0.002422332763671875,
           0.002563074231147766,
           0.006639420986175537,
           0.012307524681091309,
           0.014904022216796875,
           0.013619929552078247,
           0.011005833745002747,
           0.008937031030654907,
           0.008346900343894958,
           0.010046035051345825,
           0.015092968940734863,
           0.02318219095468521,
           0.03217324614524841
          ],
          [
           0.007043138146400452,
           0.012883290648460388,
           0.016269810497760773,
           0.016698069870471954,
           0.01392209529876709,
           0.008722692728042603,
           0.003283888101577759,
           0.0003223121166229248,
           0.001787140965461731,
           0.0077027082443237305,
           0.014402583241462708,
           0.016962647438049316,
           0.015453726053237915,
           0.012663275003433228,
           0.010428495705127716,
           0.009771227836608887,
           0.011613085865974426,
           0.0171738862991333,
           0.026509076356887817,
           0.03715279698371887
          ],
          [
           0.014156192541122437,
           0.018409185111522675,
           0.01992201805114746,
           0.018231108784675598,
           0.013367787003517151,
           0.006677567958831787,
           0.0008817911148071289,
           -0.0011690706014633179,
           0.0020666122436523438,
           0.009606331586837769,
           0.016785278916358948,
           0.019256338477134705,
           0.017847806215286255,
           0.015164941549301147,
           0.012882083654403687,
           0.012089446187019348,
           0.013870388269424438,
           0.01963554322719574,
           0.029772639274597168,
           0.041601091623306274
          ],
          [
           0.019793599843978882,
           0.0225144624710083,
           0.022198721766471863,
           0.018478304147720337,
           0.011798068881034851,
           0.004169166088104248,
           -0.0012419521808624268,
           -0.001789480447769165,
           0.0032917261123657227,
           0.011945202946662903,
           0.01916012167930603,
           0.02164115011692047,
           0.02059301733970642,
           0.018195971846580505,
           0.0159282386302948,
           0.014943607151508331,
           0.016501054167747498,
           0.022232040762901306,
           0.032836250960826874,
           0.04551616311073303
          ],
          [
           0.02411589026451111,
           0.02532682567834854,
           0.02320052683353424,
           0.017574995756149292,
           0.009468480944633484,
           0.0015930533409118652,
           -0.0027252286672592163,
           -0.0014542341232299805,
           0.005215346813201904,
           0.014396369457244873,
           0.021401315927505493,
           0.024038732051849365,
           0.023509487509727478,
           0.02149118483066559,
           0.01927700638771057,
           0.018070735037326813,
           0.019298359751701355,
           0.024825409054756165,
           0.035652488470077515,
           0.04894842207431793
          ],
          [
           0.02725367248058319,
           0.026936382055282593,
           0.023018568754196167,
           0.015699297189712524,
           0.006722584366798401,
           -0.0006412863731384277,
           -0.00334380567073822,
           -0.0002550184726715088,
           0.007544293999671936,
           0.016760244965553284,
           0.023479551076889038,
           0.026388555765151978,
           0.026442378759384155,
           0.024843253195285797,
           0.022714629769325256,
           0.021289490163326263,
           0.02213919907808304,
           0.027354352176189423,
           0.03822877258062363,
           0.05197237432003021
          ],
          [
           0.02929583191871643,
           0.02740958333015442,
           0.021764710545539856,
           0.01311597228050232,
           0.003968402743339539,
           -0.0022034943103790283,
           -0.0030573904514312744,
           0.0015970021486282349,
           0.010019496083259583,
           0.018944844603538513,
           0.0253981351852417,
           0.028633564710617065,
           0.029266834259033203,
           0.028097078204154968,
           0.026089593768119812,
           0.02448175847530365,
           0.024954497814178467,
           0.02980254590511322,
           0.04059946537017822,
           0.054665133357048035
          ]
         ]
        }
       ],
       "layout": {
        "margin": {
         "b": 65,
         "l": 65,
         "r": 50,
         "t": 90
        },
        "template": {
         "data": {
          "bar": [
           {
            "error_x": {
             "color": "#2a3f5f"
            },
            "error_y": {
             "color": "#2a3f5f"
            },
            "marker": {
             "line": {
              "color": "#E5ECF6",
              "width": 0.5
             },
             "pattern": {
              "fillmode": "overlay",
              "size": 10,
              "solidity": 0.2
             }
            },
            "type": "bar"
           }
          ],
          "barpolar": [
           {
            "marker": {
             "line": {
              "color": "#E5ECF6",
              "width": 0.5
             },
             "pattern": {
              "fillmode": "overlay",
              "size": 10,
              "solidity": 0.2
             }
            },
            "type": "barpolar"
           }
          ],
          "carpet": [
           {
            "aaxis": {
             "endlinecolor": "#2a3f5f",
             "gridcolor": "white",
             "linecolor": "white",
             "minorgridcolor": "white",
             "startlinecolor": "#2a3f5f"
            },
            "baxis": {
             "endlinecolor": "#2a3f5f",
             "gridcolor": "white",
             "linecolor": "white",
             "minorgridcolor": "white",
             "startlinecolor": "#2a3f5f"
            },
            "type": "carpet"
           }
          ],
          "choropleth": [
           {
            "colorbar": {
             "outlinewidth": 0,
             "ticks": ""
            },
            "type": "choropleth"
           }
          ],
          "contour": [
           {
            "colorbar": {
             "outlinewidth": 0,
             "ticks": ""
            },
            "colorscale": [
             [
              0,
              "#0d0887"
             ],
             [
              0.1111111111111111,
              "#46039f"
             ],
             [
              0.2222222222222222,
              "#7201a8"
             ],
             [
              0.3333333333333333,
              "#9c179e"
             ],
             [
              0.4444444444444444,
              "#bd3786"
             ],
             [
              0.5555555555555556,
              "#d8576b"
             ],
             [
              0.6666666666666666,
              "#ed7953"
             ],
             [
              0.7777777777777778,
              "#fb9f3a"
             ],
             [
              0.8888888888888888,
              "#fdca26"
             ],
             [
              1,
              "#f0f921"
             ]
            ],
            "type": "contour"
           }
          ],
          "contourcarpet": [
           {
            "colorbar": {
             "outlinewidth": 0,
             "ticks": ""
            },
            "type": "contourcarpet"
           }
          ],
          "heatmap": [
           {
            "colorbar": {
             "outlinewidth": 0,
             "ticks": ""
            },
            "colorscale": [
             [
              0,
              "#0d0887"
             ],
             [
              0.1111111111111111,
              "#46039f"
             ],
             [
              0.2222222222222222,
              "#7201a8"
             ],
             [
              0.3333333333333333,
              "#9c179e"
             ],
             [
              0.4444444444444444,
              "#bd3786"
             ],
             [
              0.5555555555555556,
              "#d8576b"
             ],
             [
              0.6666666666666666,
              "#ed7953"
             ],
             [
              0.7777777777777778,
              "#fb9f3a"
             ],
             [
              0.8888888888888888,
              "#fdca26"
             ],
             [
              1,
              "#f0f921"
             ]
            ],
            "type": "heatmap"
           }
          ],
          "heatmapgl": [
           {
            "colorbar": {
             "outlinewidth": 0,
             "ticks": ""
            },
            "colorscale": [
             [
              0,
              "#0d0887"
             ],
             [
              0.1111111111111111,
              "#46039f"
             ],
             [
              0.2222222222222222,
              "#7201a8"
             ],
             [
              0.3333333333333333,
              "#9c179e"
             ],
             [
              0.4444444444444444,
              "#bd3786"
             ],
             [
              0.5555555555555556,
              "#d8576b"
             ],
             [
              0.6666666666666666,
              "#ed7953"
             ],
             [
              0.7777777777777778,
              "#fb9f3a"
             ],
             [
              0.8888888888888888,
              "#fdca26"
             ],
             [
              1,
              "#f0f921"
             ]
            ],
            "type": "heatmapgl"
           }
          ],
          "histogram": [
           {
            "marker": {
             "pattern": {
              "fillmode": "overlay",
              "size": 10,
              "solidity": 0.2
             }
            },
            "type": "histogram"
           }
          ],
          "histogram2d": [
           {
            "colorbar": {
             "outlinewidth": 0,
             "ticks": ""
            },
            "colorscale": [
             [
              0,
              "#0d0887"
             ],
             [
              0.1111111111111111,
              "#46039f"
             ],
             [
              0.2222222222222222,
              "#7201a8"
             ],
             [
              0.3333333333333333,
              "#9c179e"
             ],
             [
              0.4444444444444444,
              "#bd3786"
             ],
             [
              0.5555555555555556,
              "#d8576b"
             ],
             [
              0.6666666666666666,
              "#ed7953"
             ],
             [
              0.7777777777777778,
              "#fb9f3a"
             ],
             [
              0.8888888888888888,
              "#fdca26"
             ],
             [
              1,
              "#f0f921"
             ]
            ],
            "type": "histogram2d"
           }
          ],
          "histogram2dcontour": [
           {
            "colorbar": {
             "outlinewidth": 0,
             "ticks": ""
            },
            "colorscale": [
             [
              0,
              "#0d0887"
             ],
             [
              0.1111111111111111,
              "#46039f"
             ],
             [
              0.2222222222222222,
              "#7201a8"
             ],
             [
              0.3333333333333333,
              "#9c179e"
             ],
             [
              0.4444444444444444,
              "#bd3786"
             ],
             [
              0.5555555555555556,
              "#d8576b"
             ],
             [
              0.6666666666666666,
              "#ed7953"
             ],
             [
              0.7777777777777778,
              "#fb9f3a"
             ],
             [
              0.8888888888888888,
              "#fdca26"
             ],
             [
              1,
              "#f0f921"
             ]
            ],
            "type": "histogram2dcontour"
           }
          ],
          "mesh3d": [
           {
            "colorbar": {
             "outlinewidth": 0,
             "ticks": ""
            },
            "type": "mesh3d"
           }
          ],
          "parcoords": [
           {
            "line": {
             "colorbar": {
              "outlinewidth": 0,
              "ticks": ""
             }
            },
            "type": "parcoords"
           }
          ],
          "pie": [
           {
            "automargin": true,
            "type": "pie"
           }
          ],
          "scatter": [
           {
            "marker": {
             "colorbar": {
              "outlinewidth": 0,
              "ticks": ""
             }
            },
            "type": "scatter"
           }
          ],
          "scatter3d": [
           {
            "line": {
             "colorbar": {
              "outlinewidth": 0,
              "ticks": ""
             }
            },
            "marker": {
             "colorbar": {
              "outlinewidth": 0,
              "ticks": ""
             }
            },
            "type": "scatter3d"
           }
          ],
          "scattercarpet": [
           {
            "marker": {
             "colorbar": {
              "outlinewidth": 0,
              "ticks": ""
             }
            },
            "type": "scattercarpet"
           }
          ],
          "scattergeo": [
           {
            "marker": {
             "colorbar": {
              "outlinewidth": 0,
              "ticks": ""
             }
            },
            "type": "scattergeo"
           }
          ],
          "scattergl": [
           {
            "marker": {
             "colorbar": {
              "outlinewidth": 0,
              "ticks": ""
             }
            },
            "type": "scattergl"
           }
          ],
          "scattermapbox": [
           {
            "marker": {
             "colorbar": {
              "outlinewidth": 0,
              "ticks": ""
             }
            },
            "type": "scattermapbox"
           }
          ],
          "scatterpolar": [
           {
            "marker": {
             "colorbar": {
              "outlinewidth": 0,
              "ticks": ""
             }
            },
            "type": "scatterpolar"
           }
          ],
          "scatterpolargl": [
           {
            "marker": {
             "colorbar": {
              "outlinewidth": 0,
              "ticks": ""
             }
            },
            "type": "scatterpolargl"
           }
          ],
          "scatterternary": [
           {
            "marker": {
             "colorbar": {
              "outlinewidth": 0,
              "ticks": ""
             }
            },
            "type": "scatterternary"
           }
          ],
          "surface": [
           {
            "colorbar": {
             "outlinewidth": 0,
             "ticks": ""
            },
            "colorscale": [
             [
              0,
              "#0d0887"
             ],
             [
              0.1111111111111111,
              "#46039f"
             ],
             [
              0.2222222222222222,
              "#7201a8"
             ],
             [
              0.3333333333333333,
              "#9c179e"
             ],
             [
              0.4444444444444444,
              "#bd3786"
             ],
             [
              0.5555555555555556,
              "#d8576b"
             ],
             [
              0.6666666666666666,
              "#ed7953"
             ],
             [
              0.7777777777777778,
              "#fb9f3a"
             ],
             [
              0.8888888888888888,
              "#fdca26"
             ],
             [
              1,
              "#f0f921"
             ]
            ],
            "type": "surface"
           }
          ],
          "table": [
           {
            "cells": {
             "fill": {
              "color": "#EBF0F8"
             },
             "line": {
              "color": "white"
             }
            },
            "header": {
             "fill": {
              "color": "#C8D4E3"
             },
             "line": {
              "color": "white"
             }
            },
            "type": "table"
           }
          ]
         },
         "layout": {
          "annotationdefaults": {
           "arrowcolor": "#2a3f5f",
           "arrowhead": 0,
           "arrowwidth": 1
          },
          "autotypenumbers": "strict",
          "coloraxis": {
           "colorbar": {
            "outlinewidth": 0,
            "ticks": ""
           }
          },
          "colorscale": {
           "diverging": [
            [
             0,
             "#8e0152"
            ],
            [
             0.1,
             "#c51b7d"
            ],
            [
             0.2,
             "#de77ae"
            ],
            [
             0.3,
             "#f1b6da"
            ],
            [
             0.4,
             "#fde0ef"
            ],
            [
             0.5,
             "#f7f7f7"
            ],
            [
             0.6,
             "#e6f5d0"
            ],
            [
             0.7,
             "#b8e186"
            ],
            [
             0.8,
             "#7fbc41"
            ],
            [
             0.9,
             "#4d9221"
            ],
            [
             1,
             "#276419"
            ]
           ],
           "sequential": [
            [
             0,
             "#0d0887"
            ],
            [
             0.1111111111111111,
             "#46039f"
            ],
            [
             0.2222222222222222,
             "#7201a8"
            ],
            [
             0.3333333333333333,
             "#9c179e"
            ],
            [
             0.4444444444444444,
             "#bd3786"
            ],
            [
             0.5555555555555556,
             "#d8576b"
            ],
            [
             0.6666666666666666,
             "#ed7953"
            ],
            [
             0.7777777777777778,
             "#fb9f3a"
            ],
            [
             0.8888888888888888,
             "#fdca26"
            ],
            [
             1,
             "#f0f921"
            ]
           ],
           "sequentialminus": [
            [
             0,
             "#0d0887"
            ],
            [
             0.1111111111111111,
             "#46039f"
            ],
            [
             0.2222222222222222,
             "#7201a8"
            ],
            [
             0.3333333333333333,
             "#9c179e"
            ],
            [
             0.4444444444444444,
             "#bd3786"
            ],
            [
             0.5555555555555556,
             "#d8576b"
            ],
            [
             0.6666666666666666,
             "#ed7953"
            ],
            [
             0.7777777777777778,
             "#fb9f3a"
            ],
            [
             0.8888888888888888,
             "#fdca26"
            ],
            [
             1,
             "#f0f921"
            ]
           ]
          },
          "colorway": [
           "#636efa",
           "#EF553B",
           "#00cc96",
           "#ab63fa",
           "#FFA15A",
           "#19d3f3",
           "#FF6692",
           "#B6E880",
           "#FF97FF",
           "#FECB52"
          ],
          "font": {
           "color": "#2a3f5f"
          },
          "geo": {
           "bgcolor": "white",
           "lakecolor": "white",
           "landcolor": "#E5ECF6",
           "showlakes": true,
           "showland": true,
           "subunitcolor": "white"
          },
          "hoverlabel": {
           "align": "left"
          },
          "hovermode": "closest",
          "mapbox": {
           "style": "light"
          },
          "paper_bgcolor": "white",
          "plot_bgcolor": "#E5ECF6",
          "polar": {
           "angularaxis": {
            "gridcolor": "white",
            "linecolor": "white",
            "ticks": ""
           },
           "bgcolor": "#E5ECF6",
           "radialaxis": {
            "gridcolor": "white",
            "linecolor": "white",
            "ticks": ""
           }
          },
          "scene": {
           "xaxis": {
            "backgroundcolor": "#E5ECF6",
            "gridcolor": "white",
            "gridwidth": 2,
            "linecolor": "white",
            "showbackground": true,
            "ticks": "",
            "zerolinecolor": "white"
           },
           "yaxis": {
            "backgroundcolor": "#E5ECF6",
            "gridcolor": "white",
            "gridwidth": 2,
            "linecolor": "white",
            "showbackground": true,
            "ticks": "",
            "zerolinecolor": "white"
           },
           "zaxis": {
            "backgroundcolor": "#E5ECF6",
            "gridcolor": "white",
            "gridwidth": 2,
            "linecolor": "white",
            "showbackground": true,
            "ticks": "",
            "zerolinecolor": "white"
           }
          },
          "shapedefaults": {
           "line": {
            "color": "#2a3f5f"
           }
          },
          "ternary": {
           "aaxis": {
            "gridcolor": "white",
            "linecolor": "white",
            "ticks": ""
           },
           "baxis": {
            "gridcolor": "white",
            "linecolor": "white",
            "ticks": ""
           },
           "bgcolor": "#E5ECF6",
           "caxis": {
            "gridcolor": "white",
            "linecolor": "white",
            "ticks": ""
           }
          },
          "title": {
           "x": 0.05
          },
          "xaxis": {
           "automargin": true,
           "gridcolor": "white",
           "linecolor": "white",
           "ticks": "",
           "title": {
            "standoff": 15
           },
           "zerolinecolor": "white",
           "zerolinewidth": 2
          },
          "yaxis": {
           "automargin": true,
           "gridcolor": "white",
           "linecolor": "white",
           "ticks": "",
           "title": {
            "standoff": 15
           },
           "zerolinecolor": "white",
           "zerolinewidth": 2
          }
         }
        },
        "title": {
         "text": "PINN solution"
        }
       }
      }
     },
     "metadata": {},
     "output_type": "display_data"
    }
   ],
   "source": [
    "fig = go.Figure(data=[go.Surface(z=Z, x=X, y=T)])\n",
    "\n",
    "fig.update_layout(title='PINN solution', margin=dict(l=65, r=50, b=65, t=90))\n",
    "\n",
    "fig.show()"
   ]
  },
  {
   "cell_type": "code",
   "execution_count": 19,
   "metadata": {},
   "outputs": [],
   "source": [
    "def true_solution(tx):\n",
    "    return np.exp(-tx[...,0]) * np.sin(tx[...,1] * np.pi)"
   ]
  },
  {
   "cell_type": "code",
   "execution_count": 20,
   "metadata": {},
   "outputs": [
    {
     "data": {
      "application/vnd.plotly.v1+json": {
       "config": {
        "plotlyServerURL": "https://plot.ly"
       },
       "data": [
        {
         "type": "surface",
         "x": [
          -1,
          -0.9,
          -0.8,
          -0.7000000000000001,
          -0.6000000000000001,
          -0.5000000000000001,
          -0.40000000000000013,
          -0.30000000000000016,
          -0.20000000000000018,
          -0.1000000000000002,
          -2.220446049250313e-16,
          0.09999999999999964,
          0.19999999999999973,
          0.2999999999999998,
          0.3999999999999997,
          0.49999999999999956,
          0.5999999999999996,
          0.6999999999999997,
          0.7999999999999996,
          0.8999999999999995
         ],
         "y": [
          0,
          0.1,
          0.2,
          0.30000000000000004,
          0.4,
          0.5,
          0.6000000000000001,
          0.7000000000000001,
          0.8,
          0.9,
          1,
          1.1,
          1.2000000000000002,
          1.3,
          1.4000000000000001,
          1.5,
          1.6,
          1.7000000000000002,
          1.8,
          1.9000000000000001,
          2
         ],
         "z": [
          [
           -0.26965975761413563,
           0.04562207235689636,
           0.33171246286185496,
           0.5614263929307031,
           0.7137482823187894,
           0.777291938662529,
           0.7533660442883559,
           0.6552631474911739,
           0.4991009467438057,
           0.2979301281153731,
           0.07143238186836312,
           -0.15176998748178838,
           -0.3439742111757579,
           -0.48915760888452964,
           -0.57014230502196,
           -0.5668182373046875,
           -0.4961480559165071,
           -0.3910957194745116,
           -0.22309116359504078,
           -0.0016038931786601651
          ],
          [
           -0.2539166808128356,
           0.03447934705929012,
           0.29680765213290294,
           0.5087361548416894,
           0.6516102715712762,
           0.7152902518076651,
           0.7002322539073206,
           0.6155514706247135,
           0.4716485420040236,
           0.2814388098211696,
           0.06641796231269899,
           -0.1483257981033717,
           -0.33778994323531153,
           -0.48153612654140376,
           -0.5625604554396841,
           -0.5670217160744422,
           -0.49553816163360875,
           -0.37550420205524426,
           -0.20696111561576058,
           0.005878108551937267
          ],
          [
           -0.23194169998168934,
           0.03217355587491766,
           0.2730282135291775,
           0.46873046705231336,
           0.6025317095233915,
           0.6650630647082308,
           0.6555500857545852,
           0.5796655962775676,
           0.4449189566059791,
           0.26493122854242146,
           0.06154690682888088,
           -0.14316159167298953,
           -0.32701433077294356,
           -0.4683493251512969,
           -0.5500873260213848,
           -0.5625213796038607,
           -0.5021685294820787,
           -0.38051371523842525,
           -0.21233156695801897,
           -0.007614326262568638
          ],
          [
           -0.20791620016098014,
           0.034100932962359554,
           0.255347752847995,
           0.43603702608748973,
           0.5609206402716255,
           0.6210051658816843,
           0.6142992446240997,
           0.5443463397423894,
           0.4177524986651797,
           0.24827389229005767,
           0.056816488504410304,
           -0.13656723309224914,
           -0.311844522037829,
           -0.44860502306624916,
           -0.5305443251547429,
           -0.5495695057578592,
           -0.5022196913179973,
           -0.39150076333686445,
           -0.23104777363809587,
           -0.037319360262814016
          ],
          [
           -0.18375505506992332,
           0.03806733004842322,
           0.24127326580097724,
           0.40789737817648763,
           0.5238942687953841,
           0.5804222271722475,
           0.5745333021129501,
           0.5088154625594986,
           0.39009689959099364,
           0.23158845715318277,
           0.052328392863274086,
           -0.1290197413424059,
           -0.29397582682182777,
           -0.4242572736442456,
           -0.505019079669846,
           -0.5284817934912363,
           -0.4918175747240915,
           -0.3959391963184252,
           -0.2509360131840956,
           -0.07351859323774015
          ],
          [
           -0.16013896465301505,
           0.043136716638455086,
           0.22959704889030702,
           0.38286912184267213,
           0.48990636879291505,
           0.5419909887684196,
           0.5356122907408712,
           0.47317418199091144,
           0.3621168751832988,
           0.21475900784576893,
           0.04778578877449078,
           -0.12136635259235756,
           -0.2753842641231556,
           -0.3979853514960304,
           -0.4759400244959827,
           -0.5015512936485618,
           -0.47241940164651874,
           -0.3898186210921308,
           -0.26240486098499605,
           -0.10475021675671173
          ],
          [
           -0.13725480437278742,
           0.04887479049669127,
           0.21964968858009504,
           0.3600987328975901,
           0.4580665946532422,
           0.5050635330118464,
           0.4974502295781309,
           0.43781547833378176,
           0.33407952753549763,
           0.19758992893205532,
           0.04268741607666054,
           -0.1144893716047839,
           -0.25757002202516677,
           -0.37182754863197637,
           -0.4455358654786281,
           -0.47134379220383626,
           -0.44703630810272066,
           -0.3747155426829565,
           -0.2626753535652755,
           -0.12382420403467134
          ],
          [
           -0.11519284546375269,
           0.05496813368408082,
           0.21093545162651012,
           0.33899655663977546,
           0.4278379907077389,
           0.4693720581611452,
           0.4601925988858777,
           0.40317217731486255,
           0.30633571052524533,
           0.18006602686254405,
           0.036723911762237896,
           -0.10888443153707325,
           -0.24125067198249722,
           -0.3468139218689051,
           -0.4152403255170421,
           -0.439859161027318,
           -0.4184856345122893,
           -0.35372803086052845,
           -0.25367458963367456,
           -0.12988328200189556
          ],
          [
           -0.09411527216434473,
           0.06108179625867524,
           0.20301222558906495,
           0.31911489561350487,
           0.398905480999266,
           0.4348684153587148,
           0.4240704726164688,
           0.36961621239931736,
           0.27925809975555377,
           0.16244302627443016,
           0.030048862099647834,
           -0.10438221630452738,
           -0.22625700887134453,
           -0.32303913131506573,
           -0.3857002060597289,
           -0.40838581836526844,
           -0.38882974793366104,
           -0.3296263982370632,
           -0.2385787343590544,
           -0.12588681218026873
          ],
          [
           -0.07427667826414103,
           0.06685376069598883,
           0.19548395122357556,
           0.30011661254562033,
           0.37110254235183227,
           0.4016192630240044,
           0.38931472666179173,
           0.33742316716111803,
           0.2531861125952836,
           0.14519432089381926,
           0.02330638468265562,
           -0.1001391401057784,
           -0.21171972746916923,
           -0.30001214050449015,
           -0.3570549047700069,
           -0.3776274472781739,
           -0.3593289262763167,
           -0.3043593456665388,
           -0.22010182435580483,
           -0.11557070813232226
          ],
          [
           -0.05596715956926342,
           0.07194983534376706,
           0.18803148701327932,
           0.28177391600448515,
           0.34436106772326486,
           0.3697206882531989,
           0.3561013051977064,
           0.3067788095458213,
           0.22841047480243348,
           0.12890526227514848,
           0.017419517040252942,
           -0.09503854386370224,
           -0.19667830302852252,
           -0.27721809458572283,
           -0.3292542109002972,
           -0.3478656170661796,
           -0.3305810102929977,
           -0.27905334395009923,
           -0.20009716584819484,
           -0.10193326644461302
          ],
          [
           -0.03944544494152065,
           0.07610984323540342,
           0.18043815798506804,
           0.26395738514452466,
           0.31866591224622964,
           0.3392518130753493,
           0.32453682074499374,
           0.27780092152147784,
           0.20519716746554453,
           0.11416252134361891,
           0.013225793838501209,
           -0.08834029911079976,
           -0.18074045784220735,
           -0.2544997522452402,
           -0.3022329414839768,
           -0.31910978682975527,
           -0.30272766003561274,
           -0.2542226204493573,
           -0.1796947837565909,
           -0.08696700809517571
          ],
          [
           -0.024879544973373375,
           0.07918249276295282,
           0.17258869965761714,
           0.24660835177319582,
           0.29401604814258014,
           0.3102465928316585,
           0.294664703139929,
           0.2505839443268114,
           0.18380718787401737,
           0.10144295004025095,
           0.011136054992675991,
           -0.08006854560986103,
           -0.16419085224360014,
           -0.23199996114390417,
           -0.2759409321638623,
           -0.2912632287264339,
           -0.2757316751572173,
           -0.23006500065939975,
           -0.15956441422194087,
           -0.07189984825268417
          ],
          [
           -0.012323610484600034,
           0.0811248304968117,
           0.16445370386816208,
           0.22970832487987633,
           0.27040148563880756,
           0.28269621781104354,
           0.26650279797811344,
           0.22523800632404448,
           0.16450316082216454,
           0.09100936676313874,
           0.01100747287273426,
           -0.07082179511835526,
           -0.1475734598515145,
           -0.2099359442894374,
           -0.2503668818642599,
           -0.26428071460717467,
           -0.24960113354225005,
           -0.2067248781626142,
           -0.14014602820850583,
           -0.057454902184510534
          ],
          [
           -0.0017261654138564762,
           0.08197832034621609,
           0.1560519313556527,
           0.21324952705275613,
           0.2477890049149559,
           0.25657189065173525,
           0.24008250432510836,
           0.20192346735369765,
           0.1475091328961229,
           0.08284207360539819,
           0.01230752468109148,
           -0.061298630402425364,
           -0.1313261291128966,
           -0.1884953008450229,
           -0.22559061842461084,
           -0.23825006359771148,
           -0.2244816144039201,
           -0.184408165649291,
           -0.1217638677102901,
           -0.04402940647397453
          ],
          [
           0.007043138146400479,
           0.08183430209192886,
           0.14742242797466557,
           0.1972141613881553,
           0.22613148808991246,
           0.23185285287647242,
           0.21549328089272315,
           0.18083840363430634,
           0.13293975844236658,
           0.07665371968779232,
           0.014402583241462864,
           -0.0519883640054189,
           -0.11569889142366666,
           -0.16785281651425007,
           -0.2017808970860176,
           -0.21335893231182093,
           -0.20059630692517103,
           -0.1633422052185502,
           -0.1046435411200172,
           -0.03179821445974998
          ],
          [
           0.01415619254112246,
           0.0807986402769986,
           0.13859381381760782,
           0.1815688229474792,
           0.20538278605963586,
           0.20857408595348717,
           0.19289679017092587,
           0.1621686435613403,
           0.12073840801011279,
           0.07199578675231377,
           0.01678527891635909,
           -0.043133116688340974,
           -0.10082398955117394,
           -0.14817277261350237,
           -0.179132915401715,
           -0.18980707180763604,
           -0.17814461078669439,
           -0.14370217093560797,
           -0.08889915649186342,
           -0.020788363542169987
          ],
          [
           0.019793599843978903,
           0.07896677599560778,
           0.12957740304148657,
           0.1662723796986871,
           0.18554042485115052,
           0.18685269014083886,
           0.17250040378925327,
           0.14600459510319766,
           0.1106704073873805,
           0.06839751647126247,
           0.01916012167930616,
           -0.03481116340767879,
           -0.08678566393530814,
           -0.1295981037043862,
           -0.15781411733982081,
           -0.16773991690122628,
           -0.15724130180236826,
           -0.12556203478806557,
           -0.07454243031418803,
           -0.010936150413866759
          ],
          [
           0.02411589026451113,
           0.07640699129010362,
           0.12036077555052481,
           0.15130460547869762,
           0.16667706572411756,
           0.1668919415624984,
           0.15448335611222488,
           0.1322753755993184,
           0.10237559553019253,
           0.06547653506900003,
           0.021401315927505608,
           -0.02704143355990552,
           -0.07365076120726295,
           -0.11223842489188268,
           -0.13793157839177347,
           -0.14722815318425972,
           -0.1379102250277828,
           -0.10890420066779227,
           -0.06150776024691322,
           -0.0021317435374374333
          ],
          [
           0.027253672480583208,
           0.07315562722027227,
           0.11093279733900957,
           0.13670285196601972,
           0.148970794311754,
           0.1489273328494966,
           0.1389044042742174,
           0.1207485363036357,
           0.09545852258448538,
           0.06297949013054303,
           0.023479551076889142,
           -0.019830689399837523,
           -0.06147184982542911,
           -0.09616030158102133,
           -0.11953358017563032,
           -0.12827912905930877,
           -0.12010901086687265,
           -0.09364920260011785,
           -0.049685456004189915,
           0.005753129155040282
          ],
          [
           0.029295831918716448,
           0.06923048578881469,
           0.10131279414684558,
           0.12260451635746894,
           0.1326799057501703,
           0.13313178892623367,
           0.12565411255539952,
           0.11108554622559488,
           0.08956757968456536,
           0.06076574706219886,
           0.025398135185241793,
           -0.013187337748043051,
           -0.050281249342272405,
           -0.08139146587281161,
           -0.10262190923871092,
           -0.11085352476130905,
           -0.10375700519265235,
           -0.07968599817185347,
           -0.038948618231127635,
           0.01284423089838753
          ]
         ]
        }
       ],
       "layout": {
        "margin": {
         "b": 65,
         "l": 65,
         "r": 50,
         "t": 90
        },
        "template": {
         "data": {
          "bar": [
           {
            "error_x": {
             "color": "#2a3f5f"
            },
            "error_y": {
             "color": "#2a3f5f"
            },
            "marker": {
             "line": {
              "color": "#E5ECF6",
              "width": 0.5
             },
             "pattern": {
              "fillmode": "overlay",
              "size": 10,
              "solidity": 0.2
             }
            },
            "type": "bar"
           }
          ],
          "barpolar": [
           {
            "marker": {
             "line": {
              "color": "#E5ECF6",
              "width": 0.5
             },
             "pattern": {
              "fillmode": "overlay",
              "size": 10,
              "solidity": 0.2
             }
            },
            "type": "barpolar"
           }
          ],
          "carpet": [
           {
            "aaxis": {
             "endlinecolor": "#2a3f5f",
             "gridcolor": "white",
             "linecolor": "white",
             "minorgridcolor": "white",
             "startlinecolor": "#2a3f5f"
            },
            "baxis": {
             "endlinecolor": "#2a3f5f",
             "gridcolor": "white",
             "linecolor": "white",
             "minorgridcolor": "white",
             "startlinecolor": "#2a3f5f"
            },
            "type": "carpet"
           }
          ],
          "choropleth": [
           {
            "colorbar": {
             "outlinewidth": 0,
             "ticks": ""
            },
            "type": "choropleth"
           }
          ],
          "contour": [
           {
            "colorbar": {
             "outlinewidth": 0,
             "ticks": ""
            },
            "colorscale": [
             [
              0,
              "#0d0887"
             ],
             [
              0.1111111111111111,
              "#46039f"
             ],
             [
              0.2222222222222222,
              "#7201a8"
             ],
             [
              0.3333333333333333,
              "#9c179e"
             ],
             [
              0.4444444444444444,
              "#bd3786"
             ],
             [
              0.5555555555555556,
              "#d8576b"
             ],
             [
              0.6666666666666666,
              "#ed7953"
             ],
             [
              0.7777777777777778,
              "#fb9f3a"
             ],
             [
              0.8888888888888888,
              "#fdca26"
             ],
             [
              1,
              "#f0f921"
             ]
            ],
            "type": "contour"
           }
          ],
          "contourcarpet": [
           {
            "colorbar": {
             "outlinewidth": 0,
             "ticks": ""
            },
            "type": "contourcarpet"
           }
          ],
          "heatmap": [
           {
            "colorbar": {
             "outlinewidth": 0,
             "ticks": ""
            },
            "colorscale": [
             [
              0,
              "#0d0887"
             ],
             [
              0.1111111111111111,
              "#46039f"
             ],
             [
              0.2222222222222222,
              "#7201a8"
             ],
             [
              0.3333333333333333,
              "#9c179e"
             ],
             [
              0.4444444444444444,
              "#bd3786"
             ],
             [
              0.5555555555555556,
              "#d8576b"
             ],
             [
              0.6666666666666666,
              "#ed7953"
             ],
             [
              0.7777777777777778,
              "#fb9f3a"
             ],
             [
              0.8888888888888888,
              "#fdca26"
             ],
             [
              1,
              "#f0f921"
             ]
            ],
            "type": "heatmap"
           }
          ],
          "heatmapgl": [
           {
            "colorbar": {
             "outlinewidth": 0,
             "ticks": ""
            },
            "colorscale": [
             [
              0,
              "#0d0887"
             ],
             [
              0.1111111111111111,
              "#46039f"
             ],
             [
              0.2222222222222222,
              "#7201a8"
             ],
             [
              0.3333333333333333,
              "#9c179e"
             ],
             [
              0.4444444444444444,
              "#bd3786"
             ],
             [
              0.5555555555555556,
              "#d8576b"
             ],
             [
              0.6666666666666666,
              "#ed7953"
             ],
             [
              0.7777777777777778,
              "#fb9f3a"
             ],
             [
              0.8888888888888888,
              "#fdca26"
             ],
             [
              1,
              "#f0f921"
             ]
            ],
            "type": "heatmapgl"
           }
          ],
          "histogram": [
           {
            "marker": {
             "pattern": {
              "fillmode": "overlay",
              "size": 10,
              "solidity": 0.2
             }
            },
            "type": "histogram"
           }
          ],
          "histogram2d": [
           {
            "colorbar": {
             "outlinewidth": 0,
             "ticks": ""
            },
            "colorscale": [
             [
              0,
              "#0d0887"
             ],
             [
              0.1111111111111111,
              "#46039f"
             ],
             [
              0.2222222222222222,
              "#7201a8"
             ],
             [
              0.3333333333333333,
              "#9c179e"
             ],
             [
              0.4444444444444444,
              "#bd3786"
             ],
             [
              0.5555555555555556,
              "#d8576b"
             ],
             [
              0.6666666666666666,
              "#ed7953"
             ],
             [
              0.7777777777777778,
              "#fb9f3a"
             ],
             [
              0.8888888888888888,
              "#fdca26"
             ],
             [
              1,
              "#f0f921"
             ]
            ],
            "type": "histogram2d"
           }
          ],
          "histogram2dcontour": [
           {
            "colorbar": {
             "outlinewidth": 0,
             "ticks": ""
            },
            "colorscale": [
             [
              0,
              "#0d0887"
             ],
             [
              0.1111111111111111,
              "#46039f"
             ],
             [
              0.2222222222222222,
              "#7201a8"
             ],
             [
              0.3333333333333333,
              "#9c179e"
             ],
             [
              0.4444444444444444,
              "#bd3786"
             ],
             [
              0.5555555555555556,
              "#d8576b"
             ],
             [
              0.6666666666666666,
              "#ed7953"
             ],
             [
              0.7777777777777778,
              "#fb9f3a"
             ],
             [
              0.8888888888888888,
              "#fdca26"
             ],
             [
              1,
              "#f0f921"
             ]
            ],
            "type": "histogram2dcontour"
           }
          ],
          "mesh3d": [
           {
            "colorbar": {
             "outlinewidth": 0,
             "ticks": ""
            },
            "type": "mesh3d"
           }
          ],
          "parcoords": [
           {
            "line": {
             "colorbar": {
              "outlinewidth": 0,
              "ticks": ""
             }
            },
            "type": "parcoords"
           }
          ],
          "pie": [
           {
            "automargin": true,
            "type": "pie"
           }
          ],
          "scatter": [
           {
            "marker": {
             "colorbar": {
              "outlinewidth": 0,
              "ticks": ""
             }
            },
            "type": "scatter"
           }
          ],
          "scatter3d": [
           {
            "line": {
             "colorbar": {
              "outlinewidth": 0,
              "ticks": ""
             }
            },
            "marker": {
             "colorbar": {
              "outlinewidth": 0,
              "ticks": ""
             }
            },
            "type": "scatter3d"
           }
          ],
          "scattercarpet": [
           {
            "marker": {
             "colorbar": {
              "outlinewidth": 0,
              "ticks": ""
             }
            },
            "type": "scattercarpet"
           }
          ],
          "scattergeo": [
           {
            "marker": {
             "colorbar": {
              "outlinewidth": 0,
              "ticks": ""
             }
            },
            "type": "scattergeo"
           }
          ],
          "scattergl": [
           {
            "marker": {
             "colorbar": {
              "outlinewidth": 0,
              "ticks": ""
             }
            },
            "type": "scattergl"
           }
          ],
          "scattermapbox": [
           {
            "marker": {
             "colorbar": {
              "outlinewidth": 0,
              "ticks": ""
             }
            },
            "type": "scattermapbox"
           }
          ],
          "scatterpolar": [
           {
            "marker": {
             "colorbar": {
              "outlinewidth": 0,
              "ticks": ""
             }
            },
            "type": "scatterpolar"
           }
          ],
          "scatterpolargl": [
           {
            "marker": {
             "colorbar": {
              "outlinewidth": 0,
              "ticks": ""
             }
            },
            "type": "scatterpolargl"
           }
          ],
          "scatterternary": [
           {
            "marker": {
             "colorbar": {
              "outlinewidth": 0,
              "ticks": ""
             }
            },
            "type": "scatterternary"
           }
          ],
          "surface": [
           {
            "colorbar": {
             "outlinewidth": 0,
             "ticks": ""
            },
            "colorscale": [
             [
              0,
              "#0d0887"
             ],
             [
              0.1111111111111111,
              "#46039f"
             ],
             [
              0.2222222222222222,
              "#7201a8"
             ],
             [
              0.3333333333333333,
              "#9c179e"
             ],
             [
              0.4444444444444444,
              "#bd3786"
             ],
             [
              0.5555555555555556,
              "#d8576b"
             ],
             [
              0.6666666666666666,
              "#ed7953"
             ],
             [
              0.7777777777777778,
              "#fb9f3a"
             ],
             [
              0.8888888888888888,
              "#fdca26"
             ],
             [
              1,
              "#f0f921"
             ]
            ],
            "type": "surface"
           }
          ],
          "table": [
           {
            "cells": {
             "fill": {
              "color": "#EBF0F8"
             },
             "line": {
              "color": "white"
             }
            },
            "header": {
             "fill": {
              "color": "#C8D4E3"
             },
             "line": {
              "color": "white"
             }
            },
            "type": "table"
           }
          ]
         },
         "layout": {
          "annotationdefaults": {
           "arrowcolor": "#2a3f5f",
           "arrowhead": 0,
           "arrowwidth": 1
          },
          "autotypenumbers": "strict",
          "coloraxis": {
           "colorbar": {
            "outlinewidth": 0,
            "ticks": ""
           }
          },
          "colorscale": {
           "diverging": [
            [
             0,
             "#8e0152"
            ],
            [
             0.1,
             "#c51b7d"
            ],
            [
             0.2,
             "#de77ae"
            ],
            [
             0.3,
             "#f1b6da"
            ],
            [
             0.4,
             "#fde0ef"
            ],
            [
             0.5,
             "#f7f7f7"
            ],
            [
             0.6,
             "#e6f5d0"
            ],
            [
             0.7,
             "#b8e186"
            ],
            [
             0.8,
             "#7fbc41"
            ],
            [
             0.9,
             "#4d9221"
            ],
            [
             1,
             "#276419"
            ]
           ],
           "sequential": [
            [
             0,
             "#0d0887"
            ],
            [
             0.1111111111111111,
             "#46039f"
            ],
            [
             0.2222222222222222,
             "#7201a8"
            ],
            [
             0.3333333333333333,
             "#9c179e"
            ],
            [
             0.4444444444444444,
             "#bd3786"
            ],
            [
             0.5555555555555556,
             "#d8576b"
            ],
            [
             0.6666666666666666,
             "#ed7953"
            ],
            [
             0.7777777777777778,
             "#fb9f3a"
            ],
            [
             0.8888888888888888,
             "#fdca26"
            ],
            [
             1,
             "#f0f921"
            ]
           ],
           "sequentialminus": [
            [
             0,
             "#0d0887"
            ],
            [
             0.1111111111111111,
             "#46039f"
            ],
            [
             0.2222222222222222,
             "#7201a8"
            ],
            [
             0.3333333333333333,
             "#9c179e"
            ],
            [
             0.4444444444444444,
             "#bd3786"
            ],
            [
             0.5555555555555556,
             "#d8576b"
            ],
            [
             0.6666666666666666,
             "#ed7953"
            ],
            [
             0.7777777777777778,
             "#fb9f3a"
            ],
            [
             0.8888888888888888,
             "#fdca26"
            ],
            [
             1,
             "#f0f921"
            ]
           ]
          },
          "colorway": [
           "#636efa",
           "#EF553B",
           "#00cc96",
           "#ab63fa",
           "#FFA15A",
           "#19d3f3",
           "#FF6692",
           "#B6E880",
           "#FF97FF",
           "#FECB52"
          ],
          "font": {
           "color": "#2a3f5f"
          },
          "geo": {
           "bgcolor": "white",
           "lakecolor": "white",
           "landcolor": "#E5ECF6",
           "showlakes": true,
           "showland": true,
           "subunitcolor": "white"
          },
          "hoverlabel": {
           "align": "left"
          },
          "hovermode": "closest",
          "mapbox": {
           "style": "light"
          },
          "paper_bgcolor": "white",
          "plot_bgcolor": "#E5ECF6",
          "polar": {
           "angularaxis": {
            "gridcolor": "white",
            "linecolor": "white",
            "ticks": ""
           },
           "bgcolor": "#E5ECF6",
           "radialaxis": {
            "gridcolor": "white",
            "linecolor": "white",
            "ticks": ""
           }
          },
          "scene": {
           "xaxis": {
            "backgroundcolor": "#E5ECF6",
            "gridcolor": "white",
            "gridwidth": 2,
            "linecolor": "white",
            "showbackground": true,
            "ticks": "",
            "zerolinecolor": "white"
           },
           "yaxis": {
            "backgroundcolor": "#E5ECF6",
            "gridcolor": "white",
            "gridwidth": 2,
            "linecolor": "white",
            "showbackground": true,
            "ticks": "",
            "zerolinecolor": "white"
           },
           "zaxis": {
            "backgroundcolor": "#E5ECF6",
            "gridcolor": "white",
            "gridwidth": 2,
            "linecolor": "white",
            "showbackground": true,
            "ticks": "",
            "zerolinecolor": "white"
           }
          },
          "shapedefaults": {
           "line": {
            "color": "#2a3f5f"
           }
          },
          "ternary": {
           "aaxis": {
            "gridcolor": "white",
            "linecolor": "white",
            "ticks": ""
           },
           "baxis": {
            "gridcolor": "white",
            "linecolor": "white",
            "ticks": ""
           },
           "bgcolor": "#E5ECF6",
           "caxis": {
            "gridcolor": "white",
            "linecolor": "white",
            "ticks": ""
           }
          },
          "title": {
           "x": 0.05
          },
          "xaxis": {
           "automargin": true,
           "gridcolor": "white",
           "linecolor": "white",
           "ticks": "",
           "title": {
            "standoff": 15
           },
           "zerolinecolor": "white",
           "zerolinewidth": 2
          },
          "yaxis": {
           "automargin": true,
           "gridcolor": "white",
           "linecolor": "white",
           "ticks": "",
           "title": {
            "standoff": 15
           },
           "zerolinecolor": "white",
           "zerolinewidth": 2
          }
         }
        },
        "title": {
         "text": "Error"
        }
       }
      }
     },
     "metadata": {},
     "output_type": "display_data"
    }
   ],
   "source": [
    "W = Z - true_solution(grid).reshape((len(T), len(X)))\n",
    "\n",
    "fig = go.Figure(data=[go.Surface(z=W, x=X, y=T)])\n",
    "\n",
    "fig.update_layout(title='Error', margin=dict(l=65, r=50, b=65, t=90))\n",
    "\n",
    "fig.show()"
   ]
  },
  {
   "cell_type": "code",
   "execution_count": null,
   "metadata": {},
   "outputs": [],
   "source": []
  }
 ],
 "metadata": {
  "kernelspec": {
   "display_name": "Python 3",
   "language": "python",
   "name": "python3"
  },
  "language_info": {
   "codemirror_mode": {
    "name": "ipython",
    "version": 3
   },
   "file_extension": ".py",
   "mimetype": "text/x-python",
   "name": "python",
   "nbconvert_exporter": "python",
   "pygments_lexer": "ipython3",
   "version": "3.8.0"
  }
 },
 "nbformat": 4,
 "nbformat_minor": 2
}
