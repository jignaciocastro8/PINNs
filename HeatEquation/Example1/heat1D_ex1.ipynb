{
 "cells": [
  {
   "cell_type": "code",
   "execution_count": 2,
   "metadata": {},
   "outputs": [
    {
     "name": "stderr",
     "output_type": "stream",
     "text": [
      "c:\\Users\\jigna\\AppData\\Local\\Programs\\Python\\Python38\\lib\\site-packages\\scipy\\__init__.py:146: UserWarning: A NumPy version >=1.16.5 and <1.23.0 is required for this version of SciPy (detected version 1.24.4\n",
      "  warnings.warn(f\"A NumPy version >={np_minversion} and <{np_maxversion}\"\n"
     ]
    }
   ],
   "source": [
    "import matplotlib.pyplot as plt\n",
    "import numpy as np\n",
    "import tensorflow as tf\n",
    "import keras\n",
    "from tqdm import tqdm\n",
    "import keras\n",
    "from keras import layers\n",
    "import os\n",
    "import random\n",
    "from matplotlib import cm\n",
    "from matplotlib.ticker import LinearLocator\n",
    "import plotly.graph_objects as go\n",
    "import pandas as pd\n",
    "\n",
    "seed = 2727\n",
    "os.environ['PYTHONHASHSEED']=str(seed)\n",
    "os.environ['TF_CUDNN_DETERMINISTIC'] = '1'\n",
    "random.seed(seed)\n",
    "np.random.seed(seed)\n",
    "tf.random.set_seed(seed)"
   ]
  },
  {
   "cell_type": "markdown",
   "metadata": {},
   "source": [
    "Heat Equation with Dirichlet boundary conditions on $[0,T]\\times[0,c]$:\n",
    "\n",
    "\\begin{align}\n",
    "\\partial_t u(t,x) &= \\partial^2_{xx}u(t,x) \\\\\n",
    "u(0,x) &= x^2(2 - x)\\\\\n",
    "u(t,0) &= 0\\\\\n",
    "u(t,c) &= 0 \n",
    "\\end{align}\n",
    "\n",
    "Here time-space is modeled by $(t,x)\\in[0,T]\\times[0,c]$, thus $u\\colon[0,T]\\times[0,c]\\to \\R$\n"
   ]
  },
  {
   "cell_type": "code",
   "execution_count": 3,
   "metadata": {},
   "outputs": [],
   "source": [
    "class Network:\n",
    "    def __init__(self, layers_list: list) -> None:\n",
    "        self.layers_list = layers_list\n",
    "\n",
    "    def build(self):\n",
    "        input_dim = self.layers_list.pop(0)\n",
    "        ouput_dim = self.layers_list.pop()\n",
    "        \n",
    "        array = [layers.Input(shape=(input_dim,))]\n",
    "        for units in self.layers_list:\n",
    "            array.append(layers.Dense(units, activation=\"tanh\", kernel_initializer=\"he_normal\", bias_initializer=\"zeros\"))\n",
    "        array.append(layers.Dense(ouput_dim, kernel_initializer=\"he_normal\", use_bias=False))\n",
    "        \n",
    "        nn = keras.Sequential(array)\n",
    "\n",
    "        return nn\n"
   ]
  },
  {
   "cell_type": "code",
   "execution_count": 3,
   "metadata": {},
   "outputs": [],
   "source": [
    "class HeatModel:\n",
    "    # 1D Heat equation PINN-solver. It contains its own nn.\n",
    "    def __init__(self):\n",
    "\n",
    "        self.model = Network([2,32,32,32,32,32,32,1]).build()\n",
    "    \n",
    "    def init_condition(self, data):\n",
    "        n = data.shape[0]\n",
    "        return tf.reshape(data[...,1]**2 * (2-data[...,1]), shape=(n,1))\n",
    "    \n",
    "    ##################### LOSS METHODS ###########################\n",
    "\n",
    "    def pde_loss(self, data):\n",
    "\n",
    "        # Error given by the PDE over data.\n",
    "        \n",
    "        with tf.GradientTape() as tape2:\n",
    "            tape2.watch(data)\n",
    "            with tf.GradientTape() as tape1:\n",
    "                tape1.watch(data)\n",
    "                u = self.model(data)\n",
    "            u_z = tape1.batch_jacobian(u, data)\n",
    "        u_zz = tape2.batch_jacobian(u_z, data)\n",
    "        u_t = u_z[...,0,0]\n",
    "        u_xx = u_zz[...,0,1,1]\n",
    "        return tf.reduce_mean(tf.math.square(u_t - u_xx))\n",
    "\n",
    "    def boundary_loss(self, data_init, data_left, data_right):\n",
    "        l1 = tf.reduce_mean(tf.math.square(self.model(data_left)))\n",
    "        l2 = tf.reduce_mean(tf.math.square(self.model(data_right)))\n",
    "        l3 = tf.reduce_mean(tf.math.square(self.model(data_init) - self.init_condition(data_init)))\n",
    "        return l1 + l2 + l3\n",
    "    \n",
    "    def total_loss(self, data_int, data_init, data_left, data_right):\n",
    "        #self.pde_loss(data_int) + \n",
    "        return self.boundary_loss(data_init, data_left, data_right) + self.pde_loss(data_int)\n",
    "    ##################### TRAINING METHODS ###########################\n",
    "    \n",
    "    @tf.function\n",
    "    def gradients(self, data_int, data_init, data_left, data_right):\n",
    "        with tf.GradientTape() as tape:\n",
    "            tape.watch(self.model.trainable_variables)\n",
    "            target = self.total_loss(data_int, data_init, data_left, data_right)\n",
    "        return target, tape.gradient(target, self.model.trainable_variables)\n",
    "\n",
    "    def fit_SGD(self, data_int, data_init, data_left, data_right):\n",
    "        # Random mini-batch\n",
    "        n = data_int.shape[0]\n",
    "        l = []\n",
    "        optimizer = tf.keras.optimizers.SGD(learning_rate=0.01)\n",
    "        b = 64\n",
    "        for _ in tqdm(tf.range(50)):\n",
    "            for _ in tf.range(n):\n",
    "                i = np.random.randint(n - b)\n",
    "                target, gradients = self.gradients(data_int[i:i+b], data_init[i:i+b], data_left[i:i+b], data_right[i:i+b])\n",
    "                optimizer.apply_gradients(zip(gradients, self.model.trainable_variables))\n",
    "            l.append(target)\n",
    "        return l\n",
    "    \n",
    "    def fit(self, data_int, data_init, data_left, data_right):\n",
    "        n = data_int.shape[0]\n",
    "        l = []\n",
    "        optimizer = tf.keras.optimizers.SGD(learning_rate=0.01)\n",
    "        b = 100\n",
    "        for epoch in tqdm(tf.range(60)):\n",
    "            for i in tf.range(n - b):\n",
    "                i = tf.cast(i, tf.int32)\n",
    "                target, gradients = self.gradients(data_int[i:i+b], data_init[i:i+b], data_left[i:i+b], data_right[i:i+b])\n",
    "                optimizer.apply_gradients(zip(gradients, self.model.trainable_variables))\n",
    "            l.append(target)\n",
    "        return l"
   ]
  },
  {
   "cell_type": "code",
   "execution_count": 4,
   "metadata": {},
   "outputs": [],
   "source": [
    "heat_model = HeatModel()"
   ]
  },
  {
   "cell_type": "code",
   "execution_count": 5,
   "metadata": {},
   "outputs": [],
   "source": [
    "# batch_size\n",
    "n = 1000\n",
    "# Interior data t \\in [0,2], x \\in [0,2]\n",
    "data_int = tf.Variable(np.random.rand(n,2) * 2, trainable=False, dtype=\"float32\")\n",
    "# t=0 data\n",
    "data_init = (np.random.rand(n,2) * 2)\n",
    "data_init[..., 0] = 0\n",
    "data_init = tf.constant(data_init, dtype=\"float32\")\n",
    "# x = 0 data\n",
    "data_left = np.random.rand(n,2) * 2\n",
    "data_left[..., 1] = 0\n",
    "data_left = tf.constant(data_left, dtype=\"float32\")\n",
    "# x = 2 data\n",
    "data_right = np.random.rand(n,2) * 2\n",
    "data_right[..., 1] = 2\n",
    "data_right = tf.constant(data_right, dtype=\"float32\")\n"
   ]
  },
  {
   "cell_type": "code",
   "execution_count": 6,
   "metadata": {},
   "outputs": [
    {
     "name": "stderr",
     "output_type": "stream",
     "text": [
      "100%|██████████| 50/50 [08:30<00:00, 10.22s/it]\n"
     ]
    }
   ],
   "source": [
    "l = heat_model.fit_SGD(data_int, data_init, data_left, data_right)"
   ]
  },
  {
   "cell_type": "code",
   "execution_count": 7,
   "metadata": {},
   "outputs": [
    {
     "data": {
      "image/png": "[encoded data removed]",
      "text/plain": [
       "<Figure size 432x288 with 1 Axes>"
      ]
     },
     "metadata": {
      "needs_background": "light"
     },
     "output_type": "display_data"
    }
   ],
   "source": [
    "plt.plot(l)\n",
    "plt.grid()\n",
    "plt.yscale(\"log\")"
   ]
  },
  {
   "cell_type": "code",
   "execution_count": 8,
   "metadata": {},
   "outputs": [],
   "source": [
    "T = np.arange(0, 1.5 + 0.1, 0.1)\n",
    "X = np.arange(0, 2 + 0.1, 0.1)\n",
    "A, B = np.meshgrid(X, T)\n",
    "grid = np.array([[t,x] for t in T for x in X])\n",
    "Z = heat_model.model(grid).numpy().reshape((len(T),len(X)))"
   ]
  },
  {
   "cell_type": "code",
   "execution_count": 9,
   "metadata": {},
   "outputs": [
    {
     "data": {
      "application/vnd.plotly.v1+json": {
       "config": {
        "plotlyServerURL": "https://plot.ly"
       },
       "data": [
        {
         "type": "surface",
         "x": [
          0,
          0.1,
          0.2,
          0.30000000000000004,
          0.4,
          0.5,
          0.6000000000000001,
          0.7000000000000001,
          0.8,
          0.9,
          1,
          1.1,
          1.2000000000000002,
          1.3,
          1.4000000000000001,
          1.5,
          1.6,
          1.7000000000000002,
          1.8,
          1.9000000000000001,
          2
         ],
         "y": [
          0,
          0.1,
          0.2,
          0.30000000000000004,
          0.4,
          0.5,
          0.6000000000000001,
          0.7000000000000001,
          0.8,
          0.9,
          1,
          1.1,
          1.2000000000000002,
          1.3,
          1.4000000000000001,
          1.5
         ],
         "z": [
          [
           -0.020916283130645752,
           0.02438044548034668,
           0.08361990749835968,
           0.1611965149641037,
           0.26006045937538147,
           0.37846702337265015,
           0.5088263750076294,
           0.6422958374023438,
           0.7727530002593994,
           0.8956882953643799,
           1.0057241916656494,
           1.0963170528411865,
           1.1609416007995605,
           1.1936527490615845,
           1.1883949041366577,
           1.1379698514938354,
           1.0340806245803833,
           0.86982262134552,
           0.6444669961929321,
           0.36709004640579224,
           0.05605340003967285
          ],
          [
           0.009816117584705353,
           0.09089063107967377,
           0.1730247586965561,
           0.2574828863143921,
           0.344423770904541,
           0.43303677439689636,
           0.5215699672698975,
           0.607257604598999,
           0.6865251064300537,
           0.7554048299789429,
           0.8096514940261841,
           0.8448622822761536,
           0.856883704662323,
           0.8422776460647583,
           0.7987155914306641,
           0.7253180742263794,
           0.6228924989700317,
           0.49395743012428284,
           0.34263181686401367,
           0.17455026507377625,
           -0.0034828931093215942
          ],
          [
           0.0012268871068954468,
           0.08483268320560455,
           0.16718490421772003,
           0.2473292052745819,
           0.3243641257286072,
           0.3970891237258911,
           0.4639647305011749,
           0.5232034921646118,
           0.5728135108947754,
           0.6107453107833862,
           0.6350357532501221,
           0.6438554525375366,
           0.6356413960456848,
           0.6093616485595703,
           0.5647338032722473,
           0.5023068189620972,
           0.4234136939048767,
           0.3300958275794983,
           0.22509893774986267,
           0.11194586753845215,
           -0.0051727294921875
          ],
          [
           0.0029488354921340942,
           0.0734587013721466,
           0.142978698015213,
           0.21022868156433105,
           0.2737647593021393,
           0.3320046067237854,
           0.38349801301956177,
           0.42687126994132996,
           0.4607933759689331,
           0.48413580656051636,
           0.49602219462394714,
           0.49577176570892334,
           0.48292216658592224,
           0.45734456181526184,
           0.4193527400493622,
           0.3697139024734497,
           0.3095998167991638,
           0.24054807424545288,
           0.1644851565361023,
           0.08376839756965637,
           0.0010991990566253662
          ],
          [
           0.005609959363937378,
           0.06269478797912598,
           0.11870506405830383,
           0.1723795235157013,
           0.22252696752548218,
           0.2679169178009033,
           0.3073708713054657,
           0.3398546874523163,
           0.36445873975753784,
           0.3804384469985962,
           0.3872644305229187,
           0.38462311029434204,
           0.37242212891578674,
           0.35083064436912537,
           0.3203027546405792,
           0.28157150745391846,
           0.23561722040176392,
           0.18364626169204712,
           0.12708482146263123,
           0.06755876541137695,
           0.006821304559707642
          ],
          [
           0.005788892507553101,
           0.05156564712524414,
           0.09630860388278961,
           0.13889595866203308,
           0.1783081591129303,
           0.21362709999084473,
           0.24403062462806702,
           0.2687973976135254,
           0.2872968316078186,
           0.2990112900733948,
           0.30357152223587036,
           0.3007766306400299,
           0.2906217575073242,
           0.27331897616386414,
           0.24930605292320251,
           0.2192288637161255,
           0.18390890955924988,
           0.1443111002445221,
           0.10150578618049622,
           0.056633174419403076,
           0.010848701000213623
          ],
          [
           0.004918932914733887,
           0.04125973582267761,
           0.07670962810516357,
           0.11040785908699036,
           0.1415252387523651,
           0.16931003332138062,
           0.1931048035621643,
           0.21236485242843628,
           0.2266426980495453,
           0.2355842888355255,
           0.23894479870796204,
           0.23660176992416382,
           0.22857412695884705,
           0.215046226978302,
           0.1963808536529541,
           0.17310720682144165,
           0.14588892459869385,
           0.1154804527759552,
           0.08268627524375916,
           0.04832184314727783,
           0.013174057006835938
          ],
          [
           0.004112571477890015,
           0.03271615505218506,
           0.06060078740119934,
           0.08713924884796143,
           0.11168360710144043,
           0.1336396336555481,
           0.15246433019638062,
           0.16769376397132874,
           0.17896106839179993,
           0.18599927425384521,
           0.1886453926563263,
           0.18684467673301697,
           0.1806468367576599,
           0.17020964622497559,
           0.15581351518630981,
           0.1378626525402069,
           0.11686089634895325,
           0.09338030219078064,
           0.06802168488502502,
           0.041380375623703,
           0.014016509056091309
          ],
          [
           0.0036663413047790527,
           0.026076972484588623,
           0.04794144630432129,
           0.06879368424415588,
           0.08811822533607483,
           0.1054498553276062,
           0.12036794424057007,
           0.1324903964996338,
           0.14150023460388184,
           0.14716836810112,
           0.1493617594242096,
           0.1480523645877838,
           0.14330777525901794,
           0.13527968525886536,
           0.12419036030769348,
           0.11033803224563599,
           0.09408843517303467,
           0.0758582055568695,
           0.05608925223350525,
           0.035220056772232056,
           0.01366358995437622
          ],
          [
           0.0035255253314971924,
           0.021076440811157227,
           0.03823286294937134,
           0.054632365703582764,
           0.06985211372375488,
           0.08352106809616089,
           0.09532025456428528,
           0.10495749115943909,
           0.11217501759529114,
           0.11677506566047668,
           0.11863848567008972,
           0.1177319586277008,
           0.11411029100418091,
           0.10790634155273438,
           0.09930968284606934,
           0.08855140209197998,
           0.07589638233184814,
           0.06164008378982544,
           0.046098679304122925,
           0.02959248423576355,
           0.012429535388946533
          ],
          [
           0.003563821315765381,
           0.017348021268844604,
           0.030855000019073486,
           0.04378986358642578,
           0.05580231547355652,
           0.06658902764320374,
           0.0759059488773346,
           0.08353817462921143,
           0.08929023146629333,
           0.09300103783607483,
           0.0945669412612915,
           0.09395134449005127,
           0.09118258953094482,
           0.08635610342025757,
           0.07962337136268616,
           0.0711725652217865,
           0.061208248138427734,
           0.04994514584541321,
           0.03760671615600586,
           0.024421483278274536,
           0.010616928339004517
          ],
          [
           0.0036773681640625,
           0.014553099870681763,
           0.025234907865524292,
           0.03547459840774536,
           0.0449807345867157,
           0.053505003452301025,
           0.06085553765296936,
           0.06687533855438232,
           0.07142335176467896,
           0.07437729835510254,
           0.0756506621837616,
           0.07520714402198792,
           0.07306274771690369,
           0.06927695870399475,
           0.06395357847213745,
           0.05723404884338379,
           0.04928305745124817,
           0.0402684211730957,
           0.03035557270050049,
           0.019707977771759033,
           0.008488863706588745
          ],
          [
           0.0037975311279296875,
           0.012419581413269043,
           0.020904093980789185,
           0.029037505388259888,
           0.036577433347702026,
           0.04332253336906433,
           0.049119383096694946,
           0.05384856462478638,
           0.05741128325462341,
           0.059722572565078735,
           0.06071358919143677,
           0.06034994125366211,
           0.058638542890548706,
           0.05562359094619751,
           0.051373571157455444,
           0.04598018527030945,
           0.03956121206283569,
           0.03225019574165344,
           0.024180293083190918,
           0.015476346015930176,
           0.0062573254108428955
          ],
          [
           0.0038826167583465576,
           0.010743468999862671,
           0.017503440380096436,
           0.02397671341896057,
           0.029963761568069458,
           0.03530400991439819,
           0.0398731529712677,
           0.04357558488845825,
           0.046339720487594604,
           0.048110008239746094,
           0.04883986711502075,
           0.04849812388420105,
           0.04708138108253479,
           0.04462236166000366,
           0.041176557540893555,
           0.036806851625442505,
           0.031584084033966064,
           0.02559724450111389,
           0.018949419260025024,
           0.011745989322662354,
           0.004081010818481445
          ],
          [
           0.003912001848220825,
           0.009379982948303223,
           0.014769822359085083,
           0.01992008090019226,
           0.024669259786605835,
           0.028892964124679565,
           0.032490700483322144,
           0.03538087010383606,
           0.03750482201576233,
           0.03882822394371033,
           0.039324790239334106,
           0.03897249698638916,
           0.03776127099990845,
           0.035706788301467896,
           0.0328536331653595,
           0.029259026050567627,
           0.024973005056381226,
           0.02004292607307434,
           0.014529168605804443,
           0.00851026177406311,
           0.002068161964416504
          ],
          [
           0.0038771331310272217,
           0.0082283616065979,
           0.012515723705291748,
           0.016598999500274658,
           0.02034968137741089,
           0.023677527904510498,
           0.026503771543502808,
           0.028753608465194702,
           0.030372709035873413,
           0.03133594989776611,
           0.031633585691452026,
           0.03125569224357605,
           0.030191779136657715,
           0.02844342589378357,
           0.026036828756332397,
           0.02302151918411255,
           0.019450992345809937,
           0.015360027551651001,
           0.010772228240966797,
           0.0057242512702941895,
           0.00027254223823547363
          ]
         ]
        }
       ],
       "layout": {
        "margin": {
         "b": 65,
         "l": 65,
         "r": 50,
         "t": 90
        },
        "template": {
         "data": {
          "bar": [
           {
            "error_x": {
             "color": "#2a3f5f"
            },
            "error_y": {
             "color": "#2a3f5f"
            },
            "marker": {
             "line": {
              "color": "#E5ECF6",
              "width": 0.5
             },
             "pattern": {
              "fillmode": "overlay",
              "size": 10,
              "solidity": 0.2
             }
            },
            "type": "bar"
           }
          ],
          "barpolar": [
           {
            "marker": {
             "line": {
              "color": "#E5ECF6",
              "width": 0.5
             },
             "pattern": {
              "fillmode": "overlay",
              "size": 10,
              "solidity": 0.2
             }
            },
            "type": "barpolar"
           }
          ],
          "carpet": [
           {
            "aaxis": {
             "endlinecolor": "#2a3f5f",
             "gridcolor": "white",
             "linecolor": "white",
             "minorgridcolor": "white",
             "startlinecolor": "#2a3f5f"
            },
            "baxis": {
             "endlinecolor": "#2a3f5f",
             "gridcolor": "white",
             "linecolor": "white",
             "minorgridcolor": "white",
             "startlinecolor": "#2a3f5f"
            },
            "type": "carpet"
           }
          ],
          "choropleth": [
           {
            "colorbar": {
             "outlinewidth": 0,
             "ticks": ""
            },
            "type": "choropleth"
           }
          ],
          "contour": [
           {
            "colorbar": {
             "outlinewidth": 0,
             "ticks": ""
            },
            "colorscale": [
             [
              0,
              "#0d0887"
             ],
             [
              0.1111111111111111,
              "#46039f"
             ],
             [
              0.2222222222222222,
              "#7201a8"
             ],
             [
              0.3333333333333333,
              "#9c179e"
             ],
             [
              0.4444444444444444,
              "#bd3786"
             ],
             [
              0.5555555555555556,
              "#d8576b"
             ],
             [
              0.6666666666666666,
              "#ed7953"
             ],
             [
              0.7777777777777778,
              "#fb9f3a"
             ],
             [
              0.8888888888888888,
              "#fdca26"
             ],
             [
              1,
              "#f0f921"
             ]
            ],
            "type": "contour"
           }
          ],
          "contourcarpet": [
           {
            "colorbar": {
             "outlinewidth": 0,
             "ticks": ""
            },
            "type": "contourcarpet"
           }
          ],
          "heatmap": [
           {
            "colorbar": {
             "outlinewidth": 0,
             "ticks": ""
            },
            "colorscale": [
             [
              0,
              "#0d0887"
             ],
             [
              0.1111111111111111,
              "#46039f"
             ],
             [
              0.2222222222222222,
              "#7201a8"
             ],
             [
              0.3333333333333333,
              "#9c179e"
             ],
             [
              0.4444444444444444,
              "#bd3786"
             ],
             [
              0.5555555555555556,
              "#d8576b"
             ],
             [
              0.6666666666666666,
              "#ed7953"
             ],
             [
              0.7777777777777778,
              "#fb9f3a"
             ],
             [
              0.8888888888888888,
              "#fdca26"
             ],
             [
              1,
              "#f0f921"
             ]
            ],
            "type": "heatmap"
           }
          ],
          "heatmapgl": [
           {
            "colorbar": {
             "outlinewidth": 0,
             "ticks": ""
            },
            "colorscale": [
             [
              0,
              "#0d0887"
             ],
             [
              0.1111111111111111,
              "#46039f"
             ],
             [
              0.2222222222222222,
              "#7201a8"
             ],
             [
              0.3333333333333333,
              "#9c179e"
             ],
             [
              0.4444444444444444,
              "#bd3786"
             ],
             [
              0.5555555555555556,
              "#d8576b"
             ],
             [
              0.6666666666666666,
              "#ed7953"
             ],
             [
              0.7777777777777778,
              "#fb9f3a"
             ],
             [
              0.8888888888888888,
              "#fdca26"
             ],
             [
              1,
              "#f0f921"
             ]
            ],
            "type": "heatmapgl"
           }
          ],
          "histogram": [
           {
            "marker": {
             "pattern": {
              "fillmode": "overlay",
              "size": 10,
              "solidity": 0.2
             }
            },
            "type": "histogram"
           }
          ],
          "histogram2d": [
           {
            "colorbar": {
             "outlinewidth": 0,
             "ticks": ""
            },
            "colorscale": [
             [
              0,
              "#0d0887"
             ],
             [
              0.1111111111111111,
              "#46039f"
             ],
             [
              0.2222222222222222,
              "#7201a8"
             ],
             [
              0.3333333333333333,
              "#9c179e"
             ],
             [
              0.4444444444444444,
              "#bd3786"
             ],
             [
              0.5555555555555556,
              "#d8576b"
             ],
             [
              0.6666666666666666,
              "#ed7953"
             ],
             [
              0.7777777777777778,
              "#fb9f3a"
             ],
             [
              0.8888888888888888,
              "#fdca26"
             ],
             [
              1,
              "#f0f921"
             ]
            ],
            "type": "histogram2d"
           }
          ],
          "histogram2dcontour": [
           {
            "colorbar": {
             "outlinewidth": 0,
             "ticks": ""
            },
            "colorscale": [
             [
              0,
              "#0d0887"
             ],
             [
              0.1111111111111111,
              "#46039f"
             ],
             [
              0.2222222222222222,
              "#7201a8"
             ],
             [
              0.3333333333333333,
              "#9c179e"
             ],
             [
              0.4444444444444444,
              "#bd3786"
             ],
             [
              0.5555555555555556,
              "#d8576b"
             ],
             [
              0.6666666666666666,
              "#ed7953"
             ],
             [
              0.7777777777777778,
              "#fb9f3a"
             ],
             [
              0.8888888888888888,
              "#fdca26"
             ],
             [
              1,
              "#f0f921"
             ]
            ],
            "type": "histogram2dcontour"
           }
          ],
          "mesh3d": [
           {
            "colorbar": {
             "outlinewidth": 0,
             "ticks": ""
            },
            "type": "mesh3d"
           }
          ],
          "parcoords": [
           {
            "line": {
             "colorbar": {
              "outlinewidth": 0,
              "ticks": ""
             }
            },
            "type": "parcoords"
           }
          ],
          "pie": [
           {
            "automargin": true,
            "type": "pie"
           }
          ],
          "scatter": [
           {
            "marker": {
             "colorbar": {
              "outlinewidth": 0,
              "ticks": ""
             }
            },
            "type": "scatter"
           }
          ],
          "scatter3d": [
           {
            "line": {
             "colorbar": {
              "outlinewidth": 0,
              "ticks": ""
             }
            },
            "marker": {
             "colorbar": {
              "outlinewidth": 0,
              "ticks": ""
             }
            },
            "type": "scatter3d"
           }
          ],
          "scattercarpet": [
           {
            "marker": {
             "colorbar": {
              "outlinewidth": 0,
              "ticks": ""
             }
            },
            "type": "scattercarpet"
           }
          ],
          "scattergeo": [
           {
            "marker": {
             "colorbar": {
              "outlinewidth": 0,
              "ticks": ""
             }
            },
            "type": "scattergeo"
           }
          ],
          "scattergl": [
           {
            "marker": {
             "colorbar": {
              "outlinewidth": 0,
              "ticks": ""
             }
            },
            "type": "scattergl"
           }
          ],
          "scattermapbox": [
           {
            "marker": {
             "colorbar": {
              "outlinewidth": 0,
              "ticks": ""
             }
            },
            "type": "scattermapbox"
           }
          ],
          "scatterpolar": [
           {
            "marker": {
             "colorbar": {
              "outlinewidth": 0,
              "ticks": ""
             }
            },
            "type": "scatterpolar"
           }
          ],
          "scatterpolargl": [
           {
            "marker": {
             "colorbar": {
              "outlinewidth": 0,
              "ticks": ""
             }
            },
            "type": "scatterpolargl"
           }
          ],
          "scatterternary": [
           {
            "marker": {
             "colorbar": {
              "outlinewidth": 0,
              "ticks": ""
             }
            },
            "type": "scatterternary"
           }
          ],
          "surface": [
           {
            "colorbar": {
             "outlinewidth": 0,
             "ticks": ""
            },
            "colorscale": [
             [
              0,
              "#0d0887"
             ],
             [
              0.1111111111111111,
              "#46039f"
             ],
             [
              0.2222222222222222,
              "#7201a8"
             ],
             [
              0.3333333333333333,
              "#9c179e"
             ],
             [
              0.4444444444444444,
              "#bd3786"
             ],
             [
              0.5555555555555556,
              "#d8576b"
             ],
             [
              0.6666666666666666,
              "#ed7953"
             ],
             [
              0.7777777777777778,
              "#fb9f3a"
             ],
             [
              0.8888888888888888,
              "#fdca26"
             ],
             [
              1,
              "#f0f921"
             ]
            ],
            "type": "surface"
           }
          ],
          "table": [
           {
            "cells": {
             "fill": {
              "color": "#EBF0F8"
             },
             "line": {
              "color": "white"
             }
            },
            "header": {
             "fill": {
              "color": "#C8D4E3"
             },
             "line": {
              "color": "white"
             }
            },
            "type": "table"
           }
          ]
         },
         "layout": {
          "annotationdefaults": {
           "arrowcolor": "#2a3f5f",
           "arrowhead": 0,
           "arrowwidth": 1
          },
          "autotypenumbers": "strict",
          "coloraxis": {
           "colorbar": {
            "outlinewidth": 0,
            "ticks": ""
           }
          },
          "colorscale": {
           "diverging": [
            [
             0,
             "#8e0152"
            ],
            [
             0.1,
             "#c51b7d"
            ],
            [
             0.2,
             "#de77ae"
            ],
            [
             0.3,
             "#f1b6da"
            ],
            [
             0.4,
             "#fde0ef"
            ],
            [
             0.5,
             "#f7f7f7"
            ],
            [
             0.6,
             "#e6f5d0"
            ],
            [
             0.7,
             "#b8e186"
            ],
            [
             0.8,
             "#7fbc41"
            ],
            [
             0.9,
             "#4d9221"
            ],
            [
             1,
             "#276419"
            ]
           ],
           "sequential": [
            [
             0,
             "#0d0887"
            ],
            [
             0.1111111111111111,
             "#46039f"
            ],
            [
             0.2222222222222222,
             "#7201a8"
            ],
            [
             0.3333333333333333,
             "#9c179e"
            ],
            [
             0.4444444444444444,
             "#bd3786"
            ],
            [
             0.5555555555555556,
             "#d8576b"
            ],
            [
             0.6666666666666666,
             "#ed7953"
            ],
            [
             0.7777777777777778,
             "#fb9f3a"
            ],
            [
             0.8888888888888888,
             "#fdca26"
            ],
            [
             1,
             "#f0f921"
            ]
           ],
           "sequentialminus": [
            [
             0,
             "#0d0887"
            ],
            [
             0.1111111111111111,
             "#46039f"
            ],
            [
             0.2222222222222222,
             "#7201a8"
            ],
            [
             0.3333333333333333,
             "#9c179e"
            ],
            [
             0.4444444444444444,
             "#bd3786"
            ],
            [
             0.5555555555555556,
             "#d8576b"
            ],
            [
             0.6666666666666666,
             "#ed7953"
            ],
            [
             0.7777777777777778,
             "#fb9f3a"
            ],
            [
             0.8888888888888888,
             "#fdca26"
            ],
            [
             1,
             "#f0f921"
            ]
           ]
          },
          "colorway": [
           "#636efa",
           "#EF553B",
           "#00cc96",
           "#ab63fa",
           "#FFA15A",
           "#19d3f3",
           "#FF6692",
           "#B6E880",
           "#FF97FF",
           "#FECB52"
          ],
          "font": {
           "color": "#2a3f5f"
          },
          "geo": {
           "bgcolor": "white",
           "lakecolor": "white",
           "landcolor": "#E5ECF6",
           "showlakes": true,
           "showland": true,
           "subunitcolor": "white"
          },
          "hoverlabel": {
           "align": "left"
          },
          "hovermode": "closest",
          "mapbox": {
           "style": "light"
          },
          "paper_bgcolor": "white",
          "plot_bgcolor": "#E5ECF6",
          "polar": {
           "angularaxis": {
            "gridcolor": "white",
            "linecolor": "white",
            "ticks": ""
           },
           "bgcolor": "#E5ECF6",
           "radialaxis": {
            "gridcolor": "white",
            "linecolor": "white",
            "ticks": ""
           }
          },
          "scene": {
           "xaxis": {
            "backgroundcolor": "#E5ECF6",
            "gridcolor": "white",
            "gridwidth": 2,
            "linecolor": "white",
            "showbackground": true,
            "ticks": "",
            "zerolinecolor": "white"
           },
           "yaxis": {
            "backgroundcolor": "#E5ECF6",
            "gridcolor": "white",
            "gridwidth": 2,
            "linecolor": "white",
            "showbackground": true,
            "ticks": "",
            "zerolinecolor": "white"
           },
           "zaxis": {
            "backgroundcolor": "#E5ECF6",
            "gridcolor": "white",
            "gridwidth": 2,
            "linecolor": "white",
            "showbackground": true,
            "ticks": "",
            "zerolinecolor": "white"
           }
          },
          "shapedefaults": {
           "line": {
            "color": "#2a3f5f"
           }
          },
          "ternary": {
           "aaxis": {
            "gridcolor": "white",
            "linecolor": "white",
            "ticks": ""
           },
           "baxis": {
            "gridcolor": "white",
            "linecolor": "white",
            "ticks": ""
           },
           "bgcolor": "#E5ECF6",
           "caxis": {
            "gridcolor": "white",
            "linecolor": "white",
            "ticks": ""
           }
          },
          "title": {
           "x": 0.05
          },
          "xaxis": {
           "automargin": true,
           "gridcolor": "white",
           "linecolor": "white",
           "ticks": "",
           "title": {
            "standoff": 15
           },
           "zerolinecolor": "white",
           "zerolinewidth": 2
          },
          "yaxis": {
           "automargin": true,
           "gridcolor": "white",
           "linecolor": "white",
           "ticks": "",
           "title": {
            "standoff": 15
           },
           "zerolinecolor": "white",
           "zerolinewidth": 2
          }
         }
        },
        "title": {
         "text": "Heat Equation"
        }
       }
      }
     },
     "metadata": {},
     "output_type": "display_data"
    }
   ],
   "source": [
    "fig = go.Figure(data=[go.Surface(z=Z, x=X, y=T)])\n",
    "\n",
    "fig.update_layout(title='Heat Equation', margin=dict(l=65, r=50, b=65, t=90))\n",
    "\n",
    "fig.show()"
   ]
  }
 ],
 "metadata": {
  "kernelspec": {
   "display_name": "Python 3",
   "language": "python",
   "name": "python3"
  },
  "language_info": {
   "codemirror_mode": {
    "name": "ipython",
    "version": 3
   },
   "file_extension": ".py",
   "mimetype": "text/x-python",
   "name": "python",
   "nbconvert_exporter": "python",
   "pygments_lexer": "ipython3",
   "version": "3.8.0"
  }
 },
 "nbformat": 4,
 "nbformat_minor": 2
}
