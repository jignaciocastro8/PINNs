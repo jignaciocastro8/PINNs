{
 "cells": [
  {
   "cell_type": "code",
   "execution_count": 1,
   "metadata": {},
   "outputs": [
    {
     "name": "stderr",
     "output_type": "stream",
     "text": [
      "c:\\Users\\jigna\\AppData\\Local\\Programs\\Python\\Python38\\lib\\site-packages\\scipy\\__init__.py:146: UserWarning: A NumPy version >=1.16.5 and <1.23.0 is required for this version of SciPy (detected version 1.24.4\n",
      "  warnings.warn(f\"A NumPy version >={np_minversion} and <{np_maxversion}\"\n"
     ]
    }
   ],
   "source": [
    "import scipy.optimize\n",
    "import numpy as np\n",
    "import tensorflow as tf\n",
    "import keras\n",
    "from keras import layers\n",
    "np.random.seed(2727)"
   ]
  },
  {
   "cell_type": "code",
   "execution_count": 2,
   "metadata": {},
   "outputs": [],
   "source": [
    "class Network:\n",
    "    def __init__(self, input_dim) -> None:\n",
    "        self.input_dim = input_dim\n",
    "\n",
    "    def build(self):\n",
    "        nn = keras.Sequential(\n",
    "        [\n",
    "            layers.Input(shape=(self.input_dim,)),\n",
    "            layers.Dense(32, activation=\"tanh\", kernel_initializer='he_normal'),\n",
    "            layers.Dense(32, activation=\"tanh\", kernel_initializer='he_normal'),\n",
    "            layers.Dense(1),\n",
    "        ])\n",
    "        return nn\n",
    "\n",
    "\n"
   ]
  },
  {
   "cell_type": "code",
   "execution_count": null,
   "metadata": {},
   "outputs": [],
   "source": [
    "network = Network(2).build()"
   ]
  },
  {
   "cell_type": "code",
   "execution_count": null,
   "metadata": {},
   "outputs": [],
   "source": [
    "# Network test\n",
    "network.summary()"
   ]
  },
  {
   "cell_type": "code",
   "execution_count": 12,
   "metadata": {},
   "outputs": [],
   "source": [
    "\n",
    "class HeatModel:\n",
    "\n",
    "    \"\"\"\n",
    "    \n",
    "    This class performes PINN-type algorithm to numerically solve 1D heat equation.\n",
    "\n",
    "    \"\"\"\n",
    "\n",
    "    def __init__(self, input_dim, x_train, y_train) -> None:\n",
    "\n",
    "        # Atribute model represents the nn that approximates the pde solution.        \n",
    "        self.model = Network(input_dim).build()\n",
    "\n",
    "        self.x_train = x_train\n",
    "        self.y_train = y_train\n",
    "\n",
    "        self.batch_size = len(x_train[1])\n",
    "\n",
    "    def pde_loss(self, int_data, int_pred):\n",
    "        with tf.GradientTape() as tape2:\n",
    "            tape2.watch(int_data)\n",
    "            with tf.GradientTape() as tape1:\n",
    "                tape1.watch(int_data)\n",
    "                u = self.model(int_data)\n",
    "            u_z = tape1.batch_jacobian(u, int_data)\n",
    "        u_zz = tape2.batch_jacobian(u_z, int_data)\n",
    "        u_t = u_z[..., 0, 0]\n",
    "        u_xx = u_zz[..., 0, 1, 1]\n",
    "        return tf.keras.losses.mse(u_t-u_xx, int_pred)\n",
    "\n",
    "\n",
    "\n",
    "    def total_loss(self, weights):\n",
    "        self.set_weights(flat_weights=weights)\n",
    "        # Compute losses\n",
    "        pde = self.pde_loss(self.x_train[0], self.y_train[0])\n",
    "        initial = tf.keras.losses.mse(self.model(self.x_train[1]), self.u0(self.x_train[0]))\n",
    "        left = tf.keras.losses.mse(self.model(self.x_train[2]), np.zeros(self.batch_size))\n",
    "        right = tf.keras.losses.mse(self.model(self.x_train[3]), np.zeros(self.batch_size))\n",
    "        \n",
    "        return pde + initial + left + right\n",
    "    \n",
    "    \n",
    "    @tf.function\n",
    "    def tf_evaluate(self, x, y):\n",
    "        with tf.GradientTape() as tape:\n",
    "            loss = tf.reduce_mean(tf.keras.losses.mse(self.residue(x), y))\n",
    "        grads = tape.gradient(loss, self.model.trainable_variabels)\n",
    "        return loss, grads\n",
    "    \n",
    "\n",
    "    def set_weights(self, flat_weights):\n",
    "        \"\"\"Set the updated weights.\n",
    "\n",
    "        Args:\n",
    "            weights (np.array): current weight.\n",
    "        \"\"\"\n",
    "        shapes = [w.shape for w in self.model.get_weights()]\n",
    "        # Cumulative sum to get the correct indexes.\n",
    "        split_ids = np.cumsum([np.prod(shape) for shape in [0] + shapes])\n",
    "        weights = [flat_weights[from_id:to_id].reshape(shape)\n",
    "            for from_id, to_id, shape in zip(split_ids[:-1], split_ids[1:], shapes) ]\n",
    "        self.model.set_weights(weights)\n",
    "\n",
    "    def fit(self):\n",
    "        # Flattened weights.\n",
    "        initial_weight = np.concatenate([w.flatten() for w in self.model.get_weights()])\n",
    "        scipy.optimize.fmin_l_bfgs_b(func=self.evaluate, x0=initial_weight)"
   ]
  },
  {
   "cell_type": "code",
   "execution_count": 13,
   "metadata": {},
   "outputs": [],
   "source": [
    "num_train_samples = 10\n",
    "x_f = 2\n",
    "x_ini = 0\n",
    "t_f = 0.2\n",
    "\n",
    "# pde loss training sample\n",
    "tx_eqn = np.random.rand(num_train_samples, 2)\n",
    "tx_eqn[..., 0] = t_f*tx_eqn[..., 0]               \n",
    "tx_eqn[..., 1] = (x_f-x_ini)*tx_eqn[..., 1] + x_ini\n",
    "tx_eqn = tf.Variable(tx_eqn, trainable=False)\n",
    "# initial condition training sample           \n",
    "tx_ini = np.random.rand(num_train_samples, 2)\n",
    "tx_ini[..., 0] = 0                               \n",
    "tx_ini[..., 1] = (x_f-x_ini)*tx_ini[..., 1] + x_ini\n",
    "# up boundary training sample       \n",
    "tx_bnd_up = np.random.rand(num_train_samples, 2)\n",
    "tx_bnd_up[..., 0] = t_f*tx_bnd_up[..., 0]               \n",
    "tx_bnd_up[..., 1] = x_f  # x = -1 or +1\n",
    "# lower boundary training sample\n",
    "tx_bnd_down = np.random.rand(num_train_samples, 2)\n",
    "tx_bnd_down[..., 0] = t_f*tx_bnd_down[..., 0]              \n",
    "tx_bnd_down[..., 1] = x_ini  \n",
    "\n",
    "x_train = [tx_eqn, tx_ini, tx_bnd_up, tx_bnd_down]"
   ]
  },
  {
   "cell_type": "code",
   "execution_count": 14,
   "metadata": {},
   "outputs": [],
   "source": [
    "heat_model = HeatModel(2, x_train, x_train)"
   ]
  },
  {
   "cell_type": "code",
   "execution_count": 15,
   "metadata": {},
   "outputs": [
    {
     "ename": "AttributeError",
     "evalue": "'list' object has no attribute 'reshape'",
     "output_type": "error",
     "traceback": [
      "\u001b[1;31m---------------------------------------------------------------------------\u001b[0m",
      "\u001b[1;31mAttributeError\u001b[0m                            Traceback (most recent call last)",
      "\u001b[1;32m~\\AppData\\Local\\Temp/ipykernel_20308/1716883026.py\u001b[0m in \u001b[0;36m<module>\u001b[1;34m\u001b[0m\n\u001b[1;32m----> 1\u001b[1;33m \u001b[0mloss\u001b[0m \u001b[1;33m=\u001b[0m \u001b[0mheat_model\u001b[0m\u001b[1;33m.\u001b[0m\u001b[0mtotal_loss\u001b[0m\u001b[1;33m(\u001b[0m\u001b[0mheat_model\u001b[0m\u001b[1;33m.\u001b[0m\u001b[0mmodel\u001b[0m\u001b[1;33m.\u001b[0m\u001b[0mget_weights\u001b[0m\u001b[1;33m(\u001b[0m\u001b[1;33m)\u001b[0m\u001b[1;33m)\u001b[0m\u001b[1;33m\u001b[0m\u001b[1;33m\u001b[0m\u001b[0m\n\u001b[0m",
      "\u001b[1;32m~\\AppData\\Local\\Temp/ipykernel_20308/2713952434.py\u001b[0m in \u001b[0;36mtotal_loss\u001b[1;34m(self, weights)\u001b[0m\n\u001b[0;32m     32\u001b[0m \u001b[1;33m\u001b[0m\u001b[0m\n\u001b[0;32m     33\u001b[0m     \u001b[1;32mdef\u001b[0m \u001b[0mtotal_loss\u001b[0m\u001b[1;33m(\u001b[0m\u001b[0mself\u001b[0m\u001b[1;33m,\u001b[0m \u001b[0mweights\u001b[0m\u001b[1;33m)\u001b[0m\u001b[1;33m:\u001b[0m\u001b[1;33m\u001b[0m\u001b[1;33m\u001b[0m\u001b[0m\n\u001b[1;32m---> 34\u001b[1;33m         \u001b[0mself\u001b[0m\u001b[1;33m.\u001b[0m\u001b[0mset_weights\u001b[0m\u001b[1;33m(\u001b[0m\u001b[0mflat_weights\u001b[0m\u001b[1;33m=\u001b[0m\u001b[0mweights\u001b[0m\u001b[1;33m)\u001b[0m\u001b[1;33m\u001b[0m\u001b[1;33m\u001b[0m\u001b[0m\n\u001b[0m\u001b[0;32m     35\u001b[0m         \u001b[1;31m# Compute losses\u001b[0m\u001b[1;33m\u001b[0m\u001b[1;33m\u001b[0m\u001b[1;33m\u001b[0m\u001b[0m\n\u001b[0;32m     36\u001b[0m         \u001b[0mpde\u001b[0m \u001b[1;33m=\u001b[0m \u001b[0mself\u001b[0m\u001b[1;33m.\u001b[0m\u001b[0mpde_loss\u001b[0m\u001b[1;33m(\u001b[0m\u001b[0mself\u001b[0m\u001b[1;33m.\u001b[0m\u001b[0mx_train\u001b[0m\u001b[1;33m[\u001b[0m\u001b[1;36m0\u001b[0m\u001b[1;33m]\u001b[0m\u001b[1;33m,\u001b[0m \u001b[0mself\u001b[0m\u001b[1;33m.\u001b[0m\u001b[0my_train\u001b[0m\u001b[1;33m[\u001b[0m\u001b[1;36m0\u001b[0m\u001b[1;33m]\u001b[0m\u001b[1;33m)\u001b[0m\u001b[1;33m\u001b[0m\u001b[1;33m\u001b[0m\u001b[0m\n",
      "\u001b[1;32m~\\AppData\\Local\\Temp/ipykernel_20308/2713952434.py\u001b[0m in \u001b[0;36mset_weights\u001b[1;34m(self, flat_weights)\u001b[0m\n\u001b[0;32m     59\u001b[0m         \u001b[1;31m# Cumulative sum to get the correct indexes.\u001b[0m\u001b[1;33m\u001b[0m\u001b[1;33m\u001b[0m\u001b[1;33m\u001b[0m\u001b[0m\n\u001b[0;32m     60\u001b[0m         \u001b[0msplit_ids\u001b[0m \u001b[1;33m=\u001b[0m \u001b[0mnp\u001b[0m\u001b[1;33m.\u001b[0m\u001b[0mcumsum\u001b[0m\u001b[1;33m(\u001b[0m\u001b[1;33m[\u001b[0m\u001b[0mnp\u001b[0m\u001b[1;33m.\u001b[0m\u001b[0mprod\u001b[0m\u001b[1;33m(\u001b[0m\u001b[0mshape\u001b[0m\u001b[1;33m)\u001b[0m \u001b[1;32mfor\u001b[0m \u001b[0mshape\u001b[0m \u001b[1;32min\u001b[0m \u001b[1;33m[\u001b[0m\u001b[1;36m0\u001b[0m\u001b[1;33m]\u001b[0m \u001b[1;33m+\u001b[0m \u001b[0mshapes\u001b[0m\u001b[1;33m]\u001b[0m\u001b[1;33m)\u001b[0m\u001b[1;33m\u001b[0m\u001b[1;33m\u001b[0m\u001b[0m\n\u001b[1;32m---> 61\u001b[1;33m         weights = [flat_weights[from_id:to_id].reshape(shape)\n\u001b[0m\u001b[0;32m     62\u001b[0m             for from_id, to_id, shape in zip(split_ids[:-1], split_ids[1:], shapes) ]\n\u001b[0;32m     63\u001b[0m         \u001b[0mself\u001b[0m\u001b[1;33m.\u001b[0m\u001b[0mmodel\u001b[0m\u001b[1;33m.\u001b[0m\u001b[0mset_weights\u001b[0m\u001b[1;33m(\u001b[0m\u001b[0mweights\u001b[0m\u001b[1;33m)\u001b[0m\u001b[1;33m\u001b[0m\u001b[1;33m\u001b[0m\u001b[0m\n",
      "\u001b[1;32m~\\AppData\\Local\\Temp/ipykernel_20308/2713952434.py\u001b[0m in \u001b[0;36m<listcomp>\u001b[1;34m(.0)\u001b[0m\n\u001b[0;32m     59\u001b[0m         \u001b[1;31m# Cumulative sum to get the correct indexes.\u001b[0m\u001b[1;33m\u001b[0m\u001b[1;33m\u001b[0m\u001b[1;33m\u001b[0m\u001b[0m\n\u001b[0;32m     60\u001b[0m         \u001b[0msplit_ids\u001b[0m \u001b[1;33m=\u001b[0m \u001b[0mnp\u001b[0m\u001b[1;33m.\u001b[0m\u001b[0mcumsum\u001b[0m\u001b[1;33m(\u001b[0m\u001b[1;33m[\u001b[0m\u001b[0mnp\u001b[0m\u001b[1;33m.\u001b[0m\u001b[0mprod\u001b[0m\u001b[1;33m(\u001b[0m\u001b[0mshape\u001b[0m\u001b[1;33m)\u001b[0m \u001b[1;32mfor\u001b[0m \u001b[0mshape\u001b[0m \u001b[1;32min\u001b[0m \u001b[1;33m[\u001b[0m\u001b[1;36m0\u001b[0m\u001b[1;33m]\u001b[0m \u001b[1;33m+\u001b[0m \u001b[0mshapes\u001b[0m\u001b[1;33m]\u001b[0m\u001b[1;33m)\u001b[0m\u001b[1;33m\u001b[0m\u001b[1;33m\u001b[0m\u001b[0m\n\u001b[1;32m---> 61\u001b[1;33m         weights = [flat_weights[from_id:to_id].reshape(shape)\n\u001b[0m\u001b[0;32m     62\u001b[0m             for from_id, to_id, shape in zip(split_ids[:-1], split_ids[1:], shapes) ]\n\u001b[0;32m     63\u001b[0m         \u001b[0mself\u001b[0m\u001b[1;33m.\u001b[0m\u001b[0mmodel\u001b[0m\u001b[1;33m.\u001b[0m\u001b[0mset_weights\u001b[0m\u001b[1;33m(\u001b[0m\u001b[0mweights\u001b[0m\u001b[1;33m)\u001b[0m\u001b[1;33m\u001b[0m\u001b[1;33m\u001b[0m\u001b[0m\n",
      "\u001b[1;31mAttributeError\u001b[0m: 'list' object has no attribute 'reshape'"
     ]
    }
   ],
   "source": [
    "loss = heat_model.total_loss(heat_model.model.get_weights())"
   ]
  },
  {
   "cell_type": "code",
   "execution_count": 15,
   "metadata": {},
   "outputs": [
    {
     "data": {
      "text/plain": [
       "<tf.Tensor: shape=(), dtype=float64, numpy=3.3012380470507674>"
      ]
     },
     "execution_count": 15,
     "metadata": {},
     "output_type": "execute_result"
    }
   ],
   "source": [
    "tf.keras.losses.mse(pde_loss, np.zeros((10)))"
   ]
  },
  {
   "cell_type": "code",
   "execution_count": null,
   "metadata": {},
   "outputs": [],
   "source": [
    "u_z[...,0,0]"
   ]
  },
  {
   "cell_type": "code",
   "execution_count": null,
   "metadata": {},
   "outputs": [],
   "source": [
    "u_zz"
   ]
  },
  {
   "cell_type": "code",
   "execution_count": null,
   "metadata": {},
   "outputs": [],
   "source": [
    "u_zz[...,0,1,1]\n"
   ]
  },
  {
   "cell_type": "code",
   "execution_count": null,
   "metadata": {},
   "outputs": [],
   "source": [
    "model(tf.constant([[0,0,0]]))"
   ]
  },
  {
   "cell_type": "code",
   "execution_count": null,
   "metadata": {},
   "outputs": [],
   "source": [
    "model.summary()"
   ]
  },
  {
   "cell_type": "code",
   "execution_count": null,
   "metadata": {},
   "outputs": [],
   "source": []
  }
 ],
 "metadata": {
  "kernelspec": {
   "display_name": "Python 3",
   "language": "python",
   "name": "python3"
  },
  "language_info": {
   "codemirror_mode": {
    "name": "ipython",
    "version": 3
   },
   "file_extension": ".py",
   "mimetype": "text/x-python",
   "name": "python",
   "nbconvert_exporter": "python",
   "pygments_lexer": "ipython3",
   "version": "3.8.0"
  }
 },
 "nbformat": 4,
 "nbformat_minor": 2
}
